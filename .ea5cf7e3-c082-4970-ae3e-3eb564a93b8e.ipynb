{
 "cells": [
  {
   "cell_type": "markdown",
   "metadata": {},
   "source": [
    "Olá Igor!\n",
    "\n",
    "Meu nome é Ana Paula Araújo. Serei a revisora do seu projeto! Fico feliz em rever seu projeto hoje.\n",
    "\n",
    "Ao ao longo do texto farei algumas observações sobre melhorias no código e também farei comentários sobre suas percepções sobre o assunto. Estarei aberta a feedbacks e discussões sobre o tema.\n",
    "\n",
    "Você encontrará meus comentários abaixo - **por favor, não os mova, modifique ou exclua**.\n",
    "\n",
    "Você pode encontrar meus comentários em caixas verdes, amarelas ou vermelhas como esta:\n",
    "\n",
    "<div class=\"alert alert-block alert-success\">\n",
    "<b> Comentário do revisor: </b> <a class=\"tocSkip\"></a>\n",
    "\n",
    "Sucesso. Tudo foi feito corretamente.\n",
    "</div>\n",
    "\n",
    "<div class=\"alert alert-block alert-warning\">\n",
    "<b>Comentário do revisor: </b> <a class=\"tocSkip\"></a>\n",
    "\n",
    "Observações. Algumas recomendações.\n",
    "</div>\n",
    "\n",
    "<div class=\"alert alert-block alert-danger\">\n",
    "\n",
    "<b>Comentário do revisor: </b> <a class=\"tocSkip\"></a>\n",
    "    \n",
    "Precisa de correções. O bloqueio requer algumas correções. O trabalho não pode ser aceito com os comentários em vermelho.\n",
    "</div>\n",
    "\n",
    "Você pode me responder usando isso:\n",
    "\n",
    "<div class=\"alert alert-block alert-info\">\n",
    "<b>Resposta do Aluno.</b> <a class=\"tocSkip\"></a>\n",
    "</div>"
   ]
  },
  {
   "cell_type": "markdown",
   "metadata": {},
   "source": [
    "<div class=\"alert alert-block alert-success\">\n",
    "<b> Comentário geral do revisor</b> <a class=\"tocSkip\"></a>\n",
    "\n",
    "Igor, obrigada por enviar seu projeto. Você fez um excelente trabalho!\n",
    "\n",
    "Embora haja espaço para melhorias, no geral, seu projeto é muito bom.\n",
    "\n",
    "Gostei bastante dos seus codigo, ele esta muito organizado e você mostra um cuidado com cada etapa do seu projeto! Parabéns!\n",
    "    \n",
    "Há algumas coisas que precisam ser corrigidas em seu projeto. \n",
    "Destaco os seguintes pontos\n",
    "\n",
    "<ul style=\"color:red\"> \n",
    "      <li>Exibir as alterações feitas, para assim podermos confirmar que as alterações foram feitas corretamente </li> \n",
    "    <li> Ajuste nos merges para agrupar as tabelas </li> \n",
    "     <li> Ajuste na função 'pagamento_internet' </li> \n",
    "     <li> Adicionar a descrição das hipoteses nulas e alternativas</li> \n",
    " </ul>\n",
    "\n",
    "\n",
    "Esses pontos destacados são mais elaborados ao decorrer de cada bloco. Cada problema com nosso código é uma chance para aprendermos algo novo.\n",
    "Boa sorte! :)\n",
    "     \n",
    "\n",
    "</div>"
   ]
  },
  {
   "cell_type": "markdown",
   "metadata": {},
   "source": [
    "<div class=\"alert alert-block alert-success\">\n",
    "<b> Comentário geral do revisor v.2</b> <a class=\"tocSkip\"></a>\n",
    "\n",
    "Igor obrigada por enviar seu projeto. Fiquei muito feliz com as suas alterações, obrigada pelo tempo dedicado para faze-las. E agora o seu trabalho esta perfeito e você está pronto para a nova sprint! \n",
    "    \n",
    "Eu risquei os meus comentários anteriores nas partes que voce modificou. E meus novos comentário estao marcados da seguinte forma:\n",
    "\n",
    "\n",
    "<b> Comentário do revisor v.2: </b> \n",
    "\n",
    " Obrigada e Boa sorte ;)"
   ]
  },
  {
   "cell_type": "code",
   "execution_count": 1,
   "metadata": {},
   "outputs": [],
   "source": [
    "import pandas as pd\n",
    "from scipy import stats as st\n",
    "import numpy as np\n",
    "import matplotlib.pyplot as plt \n"
   ]
  },
  {
   "cell_type": "markdown",
   "metadata": {},
   "source": [
    "<div class=\"alert alert-block alert-warning\">\n",
    "<b> Comentário geral do revisor </b> <a class=\"tocSkip\"></a>\n",
    "\n",
    "Bom trabalho! Ressalto que você poderia acrescentar mais informações sobre os principais objetivos do projeto e as questões a serem respondidas, bem como uma descrição dos dados e um índice. \n",
    "    \n",
    "</div>"
   ]
  },
  {
   "cell_type": "markdown",
   "metadata": {},
   "source": [
    "# Passo 1. Abra o arquivo de dados e estude as informações gerais"
   ]
  },
  {
   "cell_type": "markdown",
   "metadata": {},
   "source": [
    "## Criando os primeiros DataFrames"
   ]
  },
  {
   "cell_type": "code",
   "execution_count": 2,
   "metadata": {},
   "outputs": [],
   "source": [
    "df_calls = pd.read_csv(\"/datasets/megaline_calls.csv\")\n",
    "df_int = pd.read_csv(\"/datasets/megaline_internet.csv\")\n",
    "df_msg = pd.read_csv(\"/datasets/megaline_messages.csv\")\n",
    "df_plans = pd.read_csv(\"/datasets/megaline_plans.csv\")\n",
    "df_user = pd.read_csv(\"/datasets/megaline_users.csv\")"
   ]
  },
  {
   "cell_type": "markdown",
   "metadata": {},
   "source": [
    "<div class=\"alert alert-block alert-success\">\n",
    "<b> Comentário geral do revisor </b> <a class=\"tocSkip\"></a>\n",
    "\n",
    "Todos os dados foram carregados corretamente! \n",
    "    \n",
    "</div>"
   ]
  },
  {
   "cell_type": "markdown",
   "metadata": {},
   "source": [
    "### Analisando cada um deles"
   ]
  },
  {
   "cell_type": "code",
   "execution_count": 3,
   "metadata": {},
   "outputs": [
    {
     "name": "stdout",
     "output_type": "stream",
     "text": [
      "<class 'pandas.core.frame.DataFrame'>\n",
      "RangeIndex: 137735 entries, 0 to 137734\n",
      "Data columns (total 4 columns):\n",
      " #   Column     Non-Null Count   Dtype  \n",
      "---  ------     --------------   -----  \n",
      " 0   id         137735 non-null  object \n",
      " 1   user_id    137735 non-null  int64  \n",
      " 2   call_date  137735 non-null  object \n",
      " 3   duration   137735 non-null  float64\n",
      "dtypes: float64(1), int64(1), object(2)\n",
      "memory usage: 4.2+ MB\n"
     ]
    }
   ],
   "source": [
    "df_calls.info()"
   ]
  },
  {
   "cell_type": "code",
   "execution_count": 4,
   "metadata": {},
   "outputs": [
    {
     "data": {
      "text/html": [
       "<div>\n",
       "<style scoped>\n",
       "    .dataframe tbody tr th:only-of-type {\n",
       "        vertical-align: middle;\n",
       "    }\n",
       "\n",
       "    .dataframe tbody tr th {\n",
       "        vertical-align: top;\n",
       "    }\n",
       "\n",
       "    .dataframe thead th {\n",
       "        text-align: right;\n",
       "    }\n",
       "</style>\n",
       "<table border=\"1\" class=\"dataframe\">\n",
       "  <thead>\n",
       "    <tr style=\"text-align: right;\">\n",
       "      <th></th>\n",
       "      <th>id</th>\n",
       "      <th>user_id</th>\n",
       "      <th>call_date</th>\n",
       "      <th>duration</th>\n",
       "    </tr>\n",
       "  </thead>\n",
       "  <tbody>\n",
       "    <tr>\n",
       "      <th>0</th>\n",
       "      <td>1000_93</td>\n",
       "      <td>1000</td>\n",
       "      <td>2018-12-27</td>\n",
       "      <td>8.52</td>\n",
       "    </tr>\n",
       "    <tr>\n",
       "      <th>1</th>\n",
       "      <td>1000_145</td>\n",
       "      <td>1000</td>\n",
       "      <td>2018-12-27</td>\n",
       "      <td>13.66</td>\n",
       "    </tr>\n",
       "    <tr>\n",
       "      <th>2</th>\n",
       "      <td>1000_247</td>\n",
       "      <td>1000</td>\n",
       "      <td>2018-12-27</td>\n",
       "      <td>14.48</td>\n",
       "    </tr>\n",
       "    <tr>\n",
       "      <th>3</th>\n",
       "      <td>1000_309</td>\n",
       "      <td>1000</td>\n",
       "      <td>2018-12-28</td>\n",
       "      <td>5.76</td>\n",
       "    </tr>\n",
       "    <tr>\n",
       "      <th>4</th>\n",
       "      <td>1000_380</td>\n",
       "      <td>1000</td>\n",
       "      <td>2018-12-30</td>\n",
       "      <td>4.22</td>\n",
       "    </tr>\n",
       "  </tbody>\n",
       "</table>\n",
       "</div>"
      ],
      "text/plain": [
       "         id  user_id   call_date  duration\n",
       "0   1000_93     1000  2018-12-27      8.52\n",
       "1  1000_145     1000  2018-12-27     13.66\n",
       "2  1000_247     1000  2018-12-27     14.48\n",
       "3  1000_309     1000  2018-12-28      5.76\n",
       "4  1000_380     1000  2018-12-30      4.22"
      ]
     },
     "execution_count": 4,
     "metadata": {},
     "output_type": "execute_result"
    }
   ],
   "source": [
    "df_calls.head()"
   ]
  },
  {
   "cell_type": "markdown",
   "metadata": {},
   "source": [
    "Todos os dados parecem estar completos a coluna call_date poderia ser modificada para o formato de datetime"
   ]
  },
  {
   "cell_type": "code",
   "execution_count": 5,
   "metadata": {},
   "outputs": [
    {
     "name": "stdout",
     "output_type": "stream",
     "text": [
      "<class 'pandas.core.frame.DataFrame'>\n",
      "RangeIndex: 104825 entries, 0 to 104824\n",
      "Data columns (total 4 columns):\n",
      " #   Column        Non-Null Count   Dtype  \n",
      "---  ------        --------------   -----  \n",
      " 0   id            104825 non-null  object \n",
      " 1   user_id       104825 non-null  int64  \n",
      " 2   session_date  104825 non-null  object \n",
      " 3   mb_used       104825 non-null  float64\n",
      "dtypes: float64(1), int64(1), object(2)\n",
      "memory usage: 3.2+ MB\n"
     ]
    }
   ],
   "source": [
    "df_int.info()"
   ]
  },
  {
   "cell_type": "code",
   "execution_count": 6,
   "metadata": {},
   "outputs": [
    {
     "data": {
      "text/html": [
       "<div>\n",
       "<style scoped>\n",
       "    .dataframe tbody tr th:only-of-type {\n",
       "        vertical-align: middle;\n",
       "    }\n",
       "\n",
       "    .dataframe tbody tr th {\n",
       "        vertical-align: top;\n",
       "    }\n",
       "\n",
       "    .dataframe thead th {\n",
       "        text-align: right;\n",
       "    }\n",
       "</style>\n",
       "<table border=\"1\" class=\"dataframe\">\n",
       "  <thead>\n",
       "    <tr style=\"text-align: right;\">\n",
       "      <th></th>\n",
       "      <th>id</th>\n",
       "      <th>user_id</th>\n",
       "      <th>session_date</th>\n",
       "      <th>mb_used</th>\n",
       "    </tr>\n",
       "  </thead>\n",
       "  <tbody>\n",
       "    <tr>\n",
       "      <th>0</th>\n",
       "      <td>1000_13</td>\n",
       "      <td>1000</td>\n",
       "      <td>2018-12-29</td>\n",
       "      <td>89.86</td>\n",
       "    </tr>\n",
       "    <tr>\n",
       "      <th>1</th>\n",
       "      <td>1000_204</td>\n",
       "      <td>1000</td>\n",
       "      <td>2018-12-31</td>\n",
       "      <td>0.00</td>\n",
       "    </tr>\n",
       "    <tr>\n",
       "      <th>2</th>\n",
       "      <td>1000_379</td>\n",
       "      <td>1000</td>\n",
       "      <td>2018-12-28</td>\n",
       "      <td>660.40</td>\n",
       "    </tr>\n",
       "    <tr>\n",
       "      <th>3</th>\n",
       "      <td>1000_413</td>\n",
       "      <td>1000</td>\n",
       "      <td>2018-12-26</td>\n",
       "      <td>270.99</td>\n",
       "    </tr>\n",
       "    <tr>\n",
       "      <th>4</th>\n",
       "      <td>1000_442</td>\n",
       "      <td>1000</td>\n",
       "      <td>2018-12-27</td>\n",
       "      <td>880.22</td>\n",
       "    </tr>\n",
       "  </tbody>\n",
       "</table>\n",
       "</div>"
      ],
      "text/plain": [
       "         id  user_id session_date  mb_used\n",
       "0   1000_13     1000   2018-12-29    89.86\n",
       "1  1000_204     1000   2018-12-31     0.00\n",
       "2  1000_379     1000   2018-12-28   660.40\n",
       "3  1000_413     1000   2018-12-26   270.99\n",
       "4  1000_442     1000   2018-12-27   880.22"
      ]
     },
     "execution_count": 6,
     "metadata": {},
     "output_type": "execute_result"
    }
   ],
   "source": [
    "df_int.head()"
   ]
  },
  {
   "cell_type": "markdown",
   "metadata": {},
   "source": [
    "Todos os dados estão completos, somente a coluna session_date para o formato de datetime"
   ]
  },
  {
   "cell_type": "code",
   "execution_count": 7,
   "metadata": {},
   "outputs": [
    {
     "name": "stdout",
     "output_type": "stream",
     "text": [
      "<class 'pandas.core.frame.DataFrame'>\n",
      "RangeIndex: 76051 entries, 0 to 76050\n",
      "Data columns (total 3 columns):\n",
      " #   Column        Non-Null Count  Dtype \n",
      "---  ------        --------------  ----- \n",
      " 0   id            76051 non-null  object\n",
      " 1   user_id       76051 non-null  int64 \n",
      " 2   message_date  76051 non-null  object\n",
      "dtypes: int64(1), object(2)\n",
      "memory usage: 1.7+ MB\n"
     ]
    }
   ],
   "source": [
    "df_msg.info()"
   ]
  },
  {
   "cell_type": "code",
   "execution_count": 8,
   "metadata": {},
   "outputs": [
    {
     "data": {
      "text/html": [
       "<div>\n",
       "<style scoped>\n",
       "    .dataframe tbody tr th:only-of-type {\n",
       "        vertical-align: middle;\n",
       "    }\n",
       "\n",
       "    .dataframe tbody tr th {\n",
       "        vertical-align: top;\n",
       "    }\n",
       "\n",
       "    .dataframe thead th {\n",
       "        text-align: right;\n",
       "    }\n",
       "</style>\n",
       "<table border=\"1\" class=\"dataframe\">\n",
       "  <thead>\n",
       "    <tr style=\"text-align: right;\">\n",
       "      <th></th>\n",
       "      <th>id</th>\n",
       "      <th>user_id</th>\n",
       "      <th>message_date</th>\n",
       "    </tr>\n",
       "  </thead>\n",
       "  <tbody>\n",
       "    <tr>\n",
       "      <th>0</th>\n",
       "      <td>1000_125</td>\n",
       "      <td>1000</td>\n",
       "      <td>2018-12-27</td>\n",
       "    </tr>\n",
       "    <tr>\n",
       "      <th>1</th>\n",
       "      <td>1000_160</td>\n",
       "      <td>1000</td>\n",
       "      <td>2018-12-31</td>\n",
       "    </tr>\n",
       "    <tr>\n",
       "      <th>2</th>\n",
       "      <td>1000_223</td>\n",
       "      <td>1000</td>\n",
       "      <td>2018-12-31</td>\n",
       "    </tr>\n",
       "    <tr>\n",
       "      <th>3</th>\n",
       "      <td>1000_251</td>\n",
       "      <td>1000</td>\n",
       "      <td>2018-12-27</td>\n",
       "    </tr>\n",
       "    <tr>\n",
       "      <th>4</th>\n",
       "      <td>1000_255</td>\n",
       "      <td>1000</td>\n",
       "      <td>2018-12-26</td>\n",
       "    </tr>\n",
       "  </tbody>\n",
       "</table>\n",
       "</div>"
      ],
      "text/plain": [
       "         id  user_id message_date\n",
       "0  1000_125     1000   2018-12-27\n",
       "1  1000_160     1000   2018-12-31\n",
       "2  1000_223     1000   2018-12-31\n",
       "3  1000_251     1000   2018-12-27\n",
       "4  1000_255     1000   2018-12-26"
      ]
     },
     "execution_count": 8,
     "metadata": {},
     "output_type": "execute_result"
    }
   ],
   "source": [
    "df_msg.head()"
   ]
  },
  {
   "cell_type": "markdown",
   "metadata": {},
   "source": [
    "Poderia mudar o tipo da coluna 'message_date' , para datetime, e acrescentar uma coluna mês para facilitar a análise "
   ]
  },
  {
   "cell_type": "code",
   "execution_count": 9,
   "metadata": {},
   "outputs": [
    {
     "name": "stdout",
     "output_type": "stream",
     "text": [
      "<class 'pandas.core.frame.DataFrame'>\n",
      "RangeIndex: 2 entries, 0 to 1\n",
      "Data columns (total 8 columns):\n",
      " #   Column                 Non-Null Count  Dtype  \n",
      "---  ------                 --------------  -----  \n",
      " 0   messages_included      2 non-null      int64  \n",
      " 1   mb_per_month_included  2 non-null      int64  \n",
      " 2   minutes_included       2 non-null      int64  \n",
      " 3   usd_monthly_pay        2 non-null      int64  \n",
      " 4   usd_per_gb             2 non-null      int64  \n",
      " 5   usd_per_message        2 non-null      float64\n",
      " 6   usd_per_minute         2 non-null      float64\n",
      " 7   plan_name              2 non-null      object \n",
      "dtypes: float64(2), int64(5), object(1)\n",
      "memory usage: 256.0+ bytes\n"
     ]
    }
   ],
   "source": [
    "df_plans.info()"
   ]
  },
  {
   "cell_type": "code",
   "execution_count": 10,
   "metadata": {},
   "outputs": [
    {
     "data": {
      "text/html": [
       "<div>\n",
       "<style scoped>\n",
       "    .dataframe tbody tr th:only-of-type {\n",
       "        vertical-align: middle;\n",
       "    }\n",
       "\n",
       "    .dataframe tbody tr th {\n",
       "        vertical-align: top;\n",
       "    }\n",
       "\n",
       "    .dataframe thead th {\n",
       "        text-align: right;\n",
       "    }\n",
       "</style>\n",
       "<table border=\"1\" class=\"dataframe\">\n",
       "  <thead>\n",
       "    <tr style=\"text-align: right;\">\n",
       "      <th></th>\n",
       "      <th>messages_included</th>\n",
       "      <th>mb_per_month_included</th>\n",
       "      <th>minutes_included</th>\n",
       "      <th>usd_monthly_pay</th>\n",
       "      <th>usd_per_gb</th>\n",
       "      <th>usd_per_message</th>\n",
       "      <th>usd_per_minute</th>\n",
       "      <th>plan_name</th>\n",
       "    </tr>\n",
       "  </thead>\n",
       "  <tbody>\n",
       "    <tr>\n",
       "      <th>0</th>\n",
       "      <td>50</td>\n",
       "      <td>15360</td>\n",
       "      <td>500</td>\n",
       "      <td>20</td>\n",
       "      <td>10</td>\n",
       "      <td>0.03</td>\n",
       "      <td>0.03</td>\n",
       "      <td>surf</td>\n",
       "    </tr>\n",
       "    <tr>\n",
       "      <th>1</th>\n",
       "      <td>1000</td>\n",
       "      <td>30720</td>\n",
       "      <td>3000</td>\n",
       "      <td>70</td>\n",
       "      <td>7</td>\n",
       "      <td>0.01</td>\n",
       "      <td>0.01</td>\n",
       "      <td>ultimate</td>\n",
       "    </tr>\n",
       "  </tbody>\n",
       "</table>\n",
       "</div>"
      ],
      "text/plain": [
       "   messages_included  mb_per_month_included  minutes_included  \\\n",
       "0                 50                  15360               500   \n",
       "1               1000                  30720              3000   \n",
       "\n",
       "   usd_monthly_pay  usd_per_gb  usd_per_message  usd_per_minute plan_name  \n",
       "0               20          10             0.03            0.03      surf  \n",
       "1               70           7             0.01            0.01  ultimate  "
      ]
     },
     "execution_count": 10,
     "metadata": {},
     "output_type": "execute_result"
    }
   ],
   "source": [
    "df_plans.head()"
   ]
  },
  {
   "cell_type": "markdown",
   "metadata": {},
   "source": [
    "Sem problemas nesse DF"
   ]
  },
  {
   "cell_type": "code",
   "execution_count": 11,
   "metadata": {},
   "outputs": [
    {
     "name": "stdout",
     "output_type": "stream",
     "text": [
      "<class 'pandas.core.frame.DataFrame'>\n",
      "RangeIndex: 500 entries, 0 to 499\n",
      "Data columns (total 8 columns):\n",
      " #   Column      Non-Null Count  Dtype \n",
      "---  ------      --------------  ----- \n",
      " 0   user_id     500 non-null    int64 \n",
      " 1   first_name  500 non-null    object\n",
      " 2   last_name   500 non-null    object\n",
      " 3   age         500 non-null    int64 \n",
      " 4   city        500 non-null    object\n",
      " 5   reg_date    500 non-null    object\n",
      " 6   plan        500 non-null    object\n",
      " 7   churn_date  34 non-null     object\n",
      "dtypes: int64(2), object(6)\n",
      "memory usage: 31.4+ KB\n"
     ]
    }
   ],
   "source": [
    "df_user.info()"
   ]
  },
  {
   "cell_type": "code",
   "execution_count": 12,
   "metadata": {},
   "outputs": [
    {
     "data": {
      "text/html": [
       "<div>\n",
       "<style scoped>\n",
       "    .dataframe tbody tr th:only-of-type {\n",
       "        vertical-align: middle;\n",
       "    }\n",
       "\n",
       "    .dataframe tbody tr th {\n",
       "        vertical-align: top;\n",
       "    }\n",
       "\n",
       "    .dataframe thead th {\n",
       "        text-align: right;\n",
       "    }\n",
       "</style>\n",
       "<table border=\"1\" class=\"dataframe\">\n",
       "  <thead>\n",
       "    <tr style=\"text-align: right;\">\n",
       "      <th></th>\n",
       "      <th>user_id</th>\n",
       "      <th>first_name</th>\n",
       "      <th>last_name</th>\n",
       "      <th>age</th>\n",
       "      <th>city</th>\n",
       "      <th>reg_date</th>\n",
       "      <th>plan</th>\n",
       "      <th>churn_date</th>\n",
       "    </tr>\n",
       "  </thead>\n",
       "  <tbody>\n",
       "    <tr>\n",
       "      <th>0</th>\n",
       "      <td>1000</td>\n",
       "      <td>Anamaria</td>\n",
       "      <td>Bauer</td>\n",
       "      <td>45</td>\n",
       "      <td>Atlanta-Sandy Springs-Roswell, GA MSA</td>\n",
       "      <td>2018-12-24</td>\n",
       "      <td>ultimate</td>\n",
       "      <td>NaN</td>\n",
       "    </tr>\n",
       "    <tr>\n",
       "      <th>1</th>\n",
       "      <td>1001</td>\n",
       "      <td>Mickey</td>\n",
       "      <td>Wilkerson</td>\n",
       "      <td>28</td>\n",
       "      <td>Seattle-Tacoma-Bellevue, WA MSA</td>\n",
       "      <td>2018-08-13</td>\n",
       "      <td>surf</td>\n",
       "      <td>NaN</td>\n",
       "    </tr>\n",
       "    <tr>\n",
       "      <th>2</th>\n",
       "      <td>1002</td>\n",
       "      <td>Carlee</td>\n",
       "      <td>Hoffman</td>\n",
       "      <td>36</td>\n",
       "      <td>Las Vegas-Henderson-Paradise, NV MSA</td>\n",
       "      <td>2018-10-21</td>\n",
       "      <td>surf</td>\n",
       "      <td>NaN</td>\n",
       "    </tr>\n",
       "    <tr>\n",
       "      <th>3</th>\n",
       "      <td>1003</td>\n",
       "      <td>Reynaldo</td>\n",
       "      <td>Jenkins</td>\n",
       "      <td>52</td>\n",
       "      <td>Tulsa, OK MSA</td>\n",
       "      <td>2018-01-28</td>\n",
       "      <td>surf</td>\n",
       "      <td>NaN</td>\n",
       "    </tr>\n",
       "    <tr>\n",
       "      <th>4</th>\n",
       "      <td>1004</td>\n",
       "      <td>Leonila</td>\n",
       "      <td>Thompson</td>\n",
       "      <td>40</td>\n",
       "      <td>Seattle-Tacoma-Bellevue, WA MSA</td>\n",
       "      <td>2018-05-23</td>\n",
       "      <td>surf</td>\n",
       "      <td>NaN</td>\n",
       "    </tr>\n",
       "  </tbody>\n",
       "</table>\n",
       "</div>"
      ],
      "text/plain": [
       "   user_id first_name  last_name  age                                   city  \\\n",
       "0     1000   Anamaria      Bauer   45  Atlanta-Sandy Springs-Roswell, GA MSA   \n",
       "1     1001     Mickey  Wilkerson   28        Seattle-Tacoma-Bellevue, WA MSA   \n",
       "2     1002     Carlee    Hoffman   36   Las Vegas-Henderson-Paradise, NV MSA   \n",
       "3     1003   Reynaldo    Jenkins   52                          Tulsa, OK MSA   \n",
       "4     1004    Leonila   Thompson   40        Seattle-Tacoma-Bellevue, WA MSA   \n",
       "\n",
       "     reg_date      plan churn_date  \n",
       "0  2018-12-24  ultimate        NaN  \n",
       "1  2018-08-13      surf        NaN  \n",
       "2  2018-10-21      surf        NaN  \n",
       "3  2018-01-28      surf        NaN  \n",
       "4  2018-05-23      surf        NaN  "
      ]
     },
     "execution_count": 12,
     "metadata": {},
     "output_type": "execute_result"
    }
   ],
   "source": [
    "df_user.head()"
   ]
  },
  {
   "cell_type": "markdown",
   "metadata": {},
   "source": [
    "Podemos observar  que a coluna 'churn_date' possui muitos dados faltantes, de resto parece tudo ok"
   ]
  },
  {
   "cell_type": "markdown",
   "metadata": {},
   "source": [
    "<div class=\"alert alert-block alert-warning\">\n",
    "<b> Comentário geral do revisor </b> <a class=\"tocSkip\"></a>\n",
    "\n",
    "<s>As informaçoes dos dados foram exibidas corretamente. Eu sugiro que você também faça uma visualização dos dados, usando o `head()`, dessa forma a gente consegue ve como os dados estao. Outro ponto importante é fazer uma conclusao intermediaria, falando sobre os dados, o que você percebeu de problema, quais os dados que precisam ser alterados...\n",
    "</div>"
   ]
  },
  {
   "cell_type": "markdown",
   "metadata": {},
   "source": [
    "<div class=\"alert alert-block alert-success\">\n",
    "<b> Comentário geral do revisor v.2 </b> <a class=\"tocSkip\"></a>\n",
    "\n",
    "Otimo, obrigada pela alteração!\n",
    "</div>"
   ]
  },
  {
   "cell_type": "markdown",
   "metadata": {},
   "source": [
    "# Passo 2. Prepare os dados"
   ]
  },
  {
   "cell_type": "markdown",
   "metadata": {},
   "source": [
    "## Corrigindo alguns pontos: Arredondar os valores da duração da chamada e modificar o tipo das colunas referentes as datas em cada um dos DFs"
   ]
  },
  {
   "cell_type": "code",
   "execution_count": 13,
   "metadata": {},
   "outputs": [],
   "source": [
    "df_calls['duration']= df_calls['duration'].apply(np.ceil)"
   ]
  },
  {
   "cell_type": "markdown",
   "metadata": {},
   "source": [
    "<div class=\"alert alert-block alert-success\">\n",
    "<b> Comentário geral do revisor </b> <a class=\"tocSkip\"></a>\n",
    "\n",
    "Otimo uso do np.ceil\n",
    "</div>"
   ]
  },
  {
   "cell_type": "markdown",
   "metadata": {},
   "source": [
    " ### Mudando o formato da coluna session_date, message_date, reg_date e call_date para datetime"
   ]
  },
  {
   "cell_type": "code",
   "execution_count": 14,
   "metadata": {},
   "outputs": [],
   "source": [
    "df_calls['call_date'] = pd.to_datetime(df_calls['call_date'], format='%Y-%m-%d')"
   ]
  },
  {
   "cell_type": "code",
   "execution_count": 15,
   "metadata": {},
   "outputs": [],
   "source": [
    "df_int['session_date'] = pd.to_datetime(df_int['session_date'], format='%Y-%m-%d')"
   ]
  },
  {
   "cell_type": "code",
   "execution_count": 16,
   "metadata": {},
   "outputs": [],
   "source": [
    "df_msg['message_date'] = pd.to_datetime(df_msg['message_date'], format='%Y-%m-%d')"
   ]
  },
  {
   "cell_type": "code",
   "execution_count": 17,
   "metadata": {},
   "outputs": [],
   "source": [
    "df_user['reg_date'] = pd.to_datetime(df_user['reg_date'], format='%Y-%m-%d')"
   ]
  },
  {
   "cell_type": "markdown",
   "metadata": {},
   "source": [
    "#### Verificando as mudanças "
   ]
  },
  {
   "cell_type": "code",
   "execution_count": 18,
   "metadata": {},
   "outputs": [
    {
     "name": "stdout",
     "output_type": "stream",
     "text": [
      "<class 'pandas.core.frame.DataFrame'>\n",
      "RangeIndex: 137735 entries, 0 to 137734\n",
      "Data columns (total 4 columns):\n",
      " #   Column     Non-Null Count   Dtype         \n",
      "---  ------     --------------   -----         \n",
      " 0   id         137735 non-null  object        \n",
      " 1   user_id    137735 non-null  int64         \n",
      " 2   call_date  137735 non-null  datetime64[ns]\n",
      " 3   duration   137735 non-null  float64       \n",
      "dtypes: datetime64[ns](1), float64(1), int64(1), object(1)\n",
      "memory usage: 4.2+ MB\n"
     ]
    }
   ],
   "source": [
    "df_calls.info()"
   ]
  },
  {
   "cell_type": "code",
   "execution_count": 19,
   "metadata": {},
   "outputs": [
    {
     "name": "stdout",
     "output_type": "stream",
     "text": [
      "<class 'pandas.core.frame.DataFrame'>\n",
      "RangeIndex: 104825 entries, 0 to 104824\n",
      "Data columns (total 4 columns):\n",
      " #   Column        Non-Null Count   Dtype         \n",
      "---  ------        --------------   -----         \n",
      " 0   id            104825 non-null  object        \n",
      " 1   user_id       104825 non-null  int64         \n",
      " 2   session_date  104825 non-null  datetime64[ns]\n",
      " 3   mb_used       104825 non-null  float64       \n",
      "dtypes: datetime64[ns](1), float64(1), int64(1), object(1)\n",
      "memory usage: 3.2+ MB\n"
     ]
    }
   ],
   "source": [
    "df_int.info()"
   ]
  },
  {
   "cell_type": "code",
   "execution_count": 20,
   "metadata": {},
   "outputs": [
    {
     "name": "stdout",
     "output_type": "stream",
     "text": [
      "<class 'pandas.core.frame.DataFrame'>\n",
      "RangeIndex: 76051 entries, 0 to 76050\n",
      "Data columns (total 3 columns):\n",
      " #   Column        Non-Null Count  Dtype         \n",
      "---  ------        --------------  -----         \n",
      " 0   id            76051 non-null  object        \n",
      " 1   user_id       76051 non-null  int64         \n",
      " 2   message_date  76051 non-null  datetime64[ns]\n",
      "dtypes: datetime64[ns](1), int64(1), object(1)\n",
      "memory usage: 1.7+ MB\n"
     ]
    }
   ],
   "source": [
    "df_msg.info()"
   ]
  },
  {
   "cell_type": "code",
   "execution_count": 21,
   "metadata": {},
   "outputs": [
    {
     "name": "stdout",
     "output_type": "stream",
     "text": [
      "<class 'pandas.core.frame.DataFrame'>\n",
      "RangeIndex: 500 entries, 0 to 499\n",
      "Data columns (total 8 columns):\n",
      " #   Column      Non-Null Count  Dtype         \n",
      "---  ------      --------------  -----         \n",
      " 0   user_id     500 non-null    int64         \n",
      " 1   first_name  500 non-null    object        \n",
      " 2   last_name   500 non-null    object        \n",
      " 3   age         500 non-null    int64         \n",
      " 4   city        500 non-null    object        \n",
      " 5   reg_date    500 non-null    datetime64[ns]\n",
      " 6   plan        500 non-null    object        \n",
      " 7   churn_date  34 non-null     object        \n",
      "dtypes: datetime64[ns](1), int64(2), object(5)\n",
      "memory usage: 31.4+ KB\n"
     ]
    }
   ],
   "source": [
    "df_user.info()"
   ]
  },
  {
   "cell_type": "markdown",
   "metadata": {},
   "source": [
    "<div class=\"alert alert-block alert-info\">\n",
    "<b>Verificação adicionada.</b> <a class=\"tocSkip\"></a>\n",
    "</div>"
   ]
  },
  {
   "cell_type": "markdown",
   "metadata": {},
   "source": [
    "<div class=\"alert alert-block alert-warning\">\n",
    "<b> Comentário geral do revisor </b> <a class=\"tocSkip\"></a>\n",
    "\n",
    "<s>Essas mudanças são muito importante. Sugiro que depois que você faça essas essas alterações, você verifique se de fato elas foram feitas corretamente, usando um info(), por exemplo\n",
    "    \n",
    "</div>"
   ]
  },
  {
   "cell_type": "markdown",
   "metadata": {},
   "source": [
    "<div class=\"alert alert-block alert-success\">\n",
    "<b> Comentário geral do revisor v.2 </b> <a class=\"tocSkip\"></a>\n",
    "\n",
    "Otimo, obrigada pela alteração!\n",
    "</div>"
   ]
  },
  {
   "cell_type": "markdown",
   "metadata": {},
   "source": [
    "### Adicionando uma coluna de mês ao df_calls , df_int, df_msg"
   ]
  },
  {
   "cell_type": "code",
   "execution_count": 22,
   "metadata": {},
   "outputs": [],
   "source": [
    "df_msg['mês'] = df_msg['message_date'].dt.month"
   ]
  },
  {
   "cell_type": "code",
   "execution_count": 23,
   "metadata": {},
   "outputs": [],
   "source": [
    "df_calls['mês'] = df_calls['call_date'].dt.month"
   ]
  },
  {
   "cell_type": "code",
   "execution_count": 24,
   "metadata": {},
   "outputs": [],
   "source": [
    "df_int['mês'] = df_int['session_date'].dt.month"
   ]
  },
  {
   "cell_type": "code",
   "execution_count": 25,
   "metadata": {},
   "outputs": [],
   "source": [
    "df_user['mês'] = df_user['reg_date'].dt.month"
   ]
  },
  {
   "cell_type": "markdown",
   "metadata": {},
   "source": [
    "<div class=\"alert alert-block alert-success\">\n",
    "<b> Comentário geral do revisor </b> <a class=\"tocSkip\"></a>\n",
    "\n",
    "Otimo. Essas colunas com os meses vai ajudar na analise!\n",
    "    \n",
    "</div>"
   ]
  },
  {
   "cell_type": "markdown",
   "metadata": {},
   "source": [
    "## O número de chamadas feitas e minutos usados por mês:\n"
   ]
  },
  {
   "cell_type": "code",
   "execution_count": 26,
   "metadata": {},
   "outputs": [
    {
     "data": {
      "text/html": [
       "<div>\n",
       "<style scoped>\n",
       "    .dataframe tbody tr th:only-of-type {\n",
       "        vertical-align: middle;\n",
       "    }\n",
       "\n",
       "    .dataframe tbody tr th {\n",
       "        vertical-align: top;\n",
       "    }\n",
       "\n",
       "    .dataframe thead th {\n",
       "        text-align: right;\n",
       "    }\n",
       "</style>\n",
       "<table border=\"1\" class=\"dataframe\">\n",
       "  <thead>\n",
       "    <tr style=\"text-align: right;\">\n",
       "      <th></th>\n",
       "      <th>user_id</th>\n",
       "      <th>mês</th>\n",
       "      <th>chamadas_feitas</th>\n",
       "      <th>min_usados</th>\n",
       "    </tr>\n",
       "  </thead>\n",
       "  <tbody>\n",
       "    <tr>\n",
       "      <th>0</th>\n",
       "      <td>1000</td>\n",
       "      <td>12</td>\n",
       "      <td>16</td>\n",
       "      <td>124.0</td>\n",
       "    </tr>\n",
       "    <tr>\n",
       "      <th>1</th>\n",
       "      <td>1001</td>\n",
       "      <td>8</td>\n",
       "      <td>27</td>\n",
       "      <td>182.0</td>\n",
       "    </tr>\n",
       "    <tr>\n",
       "      <th>2</th>\n",
       "      <td>1001</td>\n",
       "      <td>9</td>\n",
       "      <td>49</td>\n",
       "      <td>315.0</td>\n",
       "    </tr>\n",
       "    <tr>\n",
       "      <th>3</th>\n",
       "      <td>1001</td>\n",
       "      <td>10</td>\n",
       "      <td>65</td>\n",
       "      <td>393.0</td>\n",
       "    </tr>\n",
       "    <tr>\n",
       "      <th>4</th>\n",
       "      <td>1001</td>\n",
       "      <td>11</td>\n",
       "      <td>64</td>\n",
       "      <td>426.0</td>\n",
       "    </tr>\n",
       "  </tbody>\n",
       "</table>\n",
       "</div>"
      ],
      "text/plain": [
       "   user_id  mês  chamadas_feitas  min_usados\n",
       "0     1000   12               16       124.0\n",
       "1     1001    8               27       182.0\n",
       "2     1001    9               49       315.0\n",
       "3     1001   10               65       393.0\n",
       "4     1001   11               64       426.0"
      ]
     },
     "execution_count": 26,
     "metadata": {},
     "output_type": "execute_result"
    }
   ],
   "source": [
    "table_1 = pd.pivot_table(df_calls,index=['user_id','mês'],values='duration',aggfunc={'count',sum})\n",
    "table_1.columns = ['chamadas_feitas','min_usados']\n",
    "table_1 = table_1.reset_index()\n",
    "table_1.head()"
   ]
  },
  {
   "cell_type": "markdown",
   "metadata": {},
   "source": [
    "<div class=\"alert alert-block alert-success\">\n",
    "<b> Comentário geral do revisor </b> <a class=\"tocSkip\"></a>\n",
    "\n",
    "Excelente!\n",
    "    \n",
    "</div>"
   ]
  },
  {
   "cell_type": "markdown",
   "metadata": {},
   "source": [
    "## O número de mensagens de texto enviadas por mês\n"
   ]
  },
  {
   "cell_type": "code",
   "execution_count": 27,
   "metadata": {},
   "outputs": [
    {
     "data": {
      "text/html": [
       "<div>\n",
       "<style scoped>\n",
       "    .dataframe tbody tr th:only-of-type {\n",
       "        vertical-align: middle;\n",
       "    }\n",
       "\n",
       "    .dataframe tbody tr th {\n",
       "        vertical-align: top;\n",
       "    }\n",
       "\n",
       "    .dataframe thead th {\n",
       "        text-align: right;\n",
       "    }\n",
       "</style>\n",
       "<table border=\"1\" class=\"dataframe\">\n",
       "  <thead>\n",
       "    <tr style=\"text-align: right;\">\n",
       "      <th></th>\n",
       "      <th>user_id</th>\n",
       "      <th>mês</th>\n",
       "      <th>msg_enviadas</th>\n",
       "    </tr>\n",
       "  </thead>\n",
       "  <tbody>\n",
       "    <tr>\n",
       "      <th>0</th>\n",
       "      <td>1000</td>\n",
       "      <td>12</td>\n",
       "      <td>11</td>\n",
       "    </tr>\n",
       "    <tr>\n",
       "      <th>1</th>\n",
       "      <td>1001</td>\n",
       "      <td>8</td>\n",
       "      <td>30</td>\n",
       "    </tr>\n",
       "    <tr>\n",
       "      <th>2</th>\n",
       "      <td>1001</td>\n",
       "      <td>9</td>\n",
       "      <td>44</td>\n",
       "    </tr>\n",
       "    <tr>\n",
       "      <th>3</th>\n",
       "      <td>1001</td>\n",
       "      <td>10</td>\n",
       "      <td>53</td>\n",
       "    </tr>\n",
       "    <tr>\n",
       "      <th>4</th>\n",
       "      <td>1001</td>\n",
       "      <td>11</td>\n",
       "      <td>36</td>\n",
       "    </tr>\n",
       "  </tbody>\n",
       "</table>\n",
       "</div>"
      ],
      "text/plain": [
       "   user_id  mês  msg_enviadas\n",
       "0     1000   12            11\n",
       "1     1001    8            30\n",
       "2     1001    9            44\n",
       "3     1001   10            53\n",
       "4     1001   11            36"
      ]
     },
     "execution_count": 27,
     "metadata": {},
     "output_type": "execute_result"
    }
   ],
   "source": [
    "table_2 = pd.pivot_table(df_msg,index=['user_id','mês'],values='id',aggfunc='count')\n",
    "table_2.columns = ['msg_enviadas']\n",
    "table_2 = table_2.reset_index()\n",
    "table_2.head()"
   ]
  },
  {
   "cell_type": "markdown",
   "metadata": {},
   "source": [
    "<div class=\"alert alert-block alert-success\">\n",
    "<b> Comentário geral do revisor </b> <a class=\"tocSkip\"></a>\n",
    "\n",
    "Correto!\n",
    "    \n",
    "</div>"
   ]
  },
  {
   "cell_type": "markdown",
   "metadata": {},
   "source": [
    "## O volume de dados por mês"
   ]
  },
  {
   "cell_type": "markdown",
   "metadata": {},
   "source": [
    "### Criando uma tabela para o volume de dados por mês, com valores convertidos de mb para Gb"
   ]
  },
  {
   "cell_type": "code",
   "execution_count": 28,
   "metadata": {},
   "outputs": [
    {
     "data": {
      "text/html": [
       "<div>\n",
       "<style scoped>\n",
       "    .dataframe tbody tr th:only-of-type {\n",
       "        vertical-align: middle;\n",
       "    }\n",
       "\n",
       "    .dataframe tbody tr th {\n",
       "        vertical-align: top;\n",
       "    }\n",
       "\n",
       "    .dataframe thead th {\n",
       "        text-align: right;\n",
       "    }\n",
       "</style>\n",
       "<table border=\"1\" class=\"dataframe\">\n",
       "  <thead>\n",
       "    <tr style=\"text-align: right;\">\n",
       "      <th></th>\n",
       "      <th>user_id</th>\n",
       "      <th>mês</th>\n",
       "      <th>Gb_usados</th>\n",
       "    </tr>\n",
       "  </thead>\n",
       "  <tbody>\n",
       "    <tr>\n",
       "      <th>0</th>\n",
       "      <td>1000</td>\n",
       "      <td>12</td>\n",
       "      <td>2.0</td>\n",
       "    </tr>\n",
       "    <tr>\n",
       "      <th>1</th>\n",
       "      <td>1001</td>\n",
       "      <td>8</td>\n",
       "      <td>7.0</td>\n",
       "    </tr>\n",
       "    <tr>\n",
       "      <th>2</th>\n",
       "      <td>1001</td>\n",
       "      <td>9</td>\n",
       "      <td>14.0</td>\n",
       "    </tr>\n",
       "    <tr>\n",
       "      <th>3</th>\n",
       "      <td>1001</td>\n",
       "      <td>10</td>\n",
       "      <td>22.0</td>\n",
       "    </tr>\n",
       "    <tr>\n",
       "      <th>4</th>\n",
       "      <td>1001</td>\n",
       "      <td>11</td>\n",
       "      <td>19.0</td>\n",
       "    </tr>\n",
       "  </tbody>\n",
       "</table>\n",
       "</div>"
      ],
      "text/plain": [
       "   user_id  mês  Gb_usados\n",
       "0     1000   12        2.0\n",
       "1     1001    8        7.0\n",
       "2     1001    9       14.0\n",
       "3     1001   10       22.0\n",
       "4     1001   11       19.0"
      ]
     },
     "execution_count": 28,
     "metadata": {},
     "output_type": "execute_result"
    }
   ],
   "source": [
    "table_3 = pd.pivot_table(df_int,index=['user_id','mês'],values='mb_used',aggfunc=sum)\n",
    "table_3['mb_used'] = (table_3['mb_used']/1024).apply(np.ceil)\n",
    "table_3.columns = ['Gb_usados']\n",
    "table_3 = table_3.reset_index()\n",
    "table_3.head()"
   ]
  },
  {
   "cell_type": "markdown",
   "metadata": {},
   "source": [
    "<div class=\"alert alert-block alert-info\">\n",
    "<b>Fiz a conversão nesse ponto ao invés de deixar para o final, como estava.</b> <a class=\"tocSkip\"></a>\n",
    "</div>"
   ]
  },
  {
   "cell_type": "markdown",
   "metadata": {},
   "source": [
    "<div class=\"alert alert-block alert-danger\">\n",
    "<b> Comentário geral do revisor </b> <a class=\"tocSkip\"></a>\n",
    "\n",
    "<s>Na descrição do projeto pede para usarmos esses valores de internet arredondados e converter de mb para gb. Sugiro que você insira essa nova coluna, fazendo a conversao e arredondando! Obs: Lembrando que  1 GB = 1024 MB\n",
    "    \n",
    "</div>"
   ]
  },
  {
   "cell_type": "markdown",
   "metadata": {},
   "source": [
    "<div class=\"alert alert-block alert-success\">\n",
    "<b> Comentário geral do revisor v.2 </b> <a class=\"tocSkip\"></a>\n",
    "\n",
    "Excelente!\n",
    "</div>"
   ]
  },
  {
   "cell_type": "markdown",
   "metadata": {},
   "source": [
    "## A receita mensal para cada usuário (subtraia o limite do pacote grátis do número total de chamadas, mensagens de texto, e dados; multiplique o resultado pelos valores do plano; adicione o preço mensal dependendo do plano de chamada)"
   ]
  },
  {
   "cell_type": "markdown",
   "metadata": {},
   "source": [
    "### Fazendo um merge entre os DataFrames para facilitar a extração das receita mensal de cada usuario"
   ]
  },
  {
   "cell_type": "code",
   "execution_count": 29,
   "metadata": {},
   "outputs": [],
   "source": [
    "tab_user_call = df_user[['user_id', 'plan', 'city']].merge(right=table_1,on=['user_id'], how='outer')"
   ]
  },
  {
   "cell_type": "code",
   "execution_count": 30,
   "metadata": {},
   "outputs": [],
   "source": [
    "tab_user_msg_call = tab_user_call.merge(right=table_2,on=['user_id', 'mês'], how='outer')"
   ]
  },
  {
   "cell_type": "code",
   "execution_count": 31,
   "metadata": {},
   "outputs": [],
   "source": [
    "tabela_cobranca = tab_user_msg_call.merge(right=table_3,on=['user_id', 'mês'], how='outer')"
   ]
  },
  {
   "cell_type": "code",
   "execution_count": 32,
   "metadata": {},
   "outputs": [
    {
     "data": {
      "text/html": [
       "<div>\n",
       "<style scoped>\n",
       "    .dataframe tbody tr th:only-of-type {\n",
       "        vertical-align: middle;\n",
       "    }\n",
       "\n",
       "    .dataframe tbody tr th {\n",
       "        vertical-align: top;\n",
       "    }\n",
       "\n",
       "    .dataframe thead th {\n",
       "        text-align: right;\n",
       "    }\n",
       "</style>\n",
       "<table border=\"1\" class=\"dataframe\">\n",
       "  <thead>\n",
       "    <tr style=\"text-align: right;\">\n",
       "      <th></th>\n",
       "      <th>user_id</th>\n",
       "      <th>plan</th>\n",
       "      <th>city</th>\n",
       "      <th>mês</th>\n",
       "      <th>chamadas_feitas</th>\n",
       "      <th>min_usados</th>\n",
       "      <th>msg_enviadas</th>\n",
       "      <th>Gb_usados</th>\n",
       "    </tr>\n",
       "  </thead>\n",
       "  <tbody>\n",
       "    <tr>\n",
       "      <th>0</th>\n",
       "      <td>1000</td>\n",
       "      <td>ultimate</td>\n",
       "      <td>Atlanta-Sandy Springs-Roswell, GA MSA</td>\n",
       "      <td>12.0</td>\n",
       "      <td>16.0</td>\n",
       "      <td>124.0</td>\n",
       "      <td>11.0</td>\n",
       "      <td>2.0</td>\n",
       "    </tr>\n",
       "    <tr>\n",
       "      <th>1</th>\n",
       "      <td>1001</td>\n",
       "      <td>surf</td>\n",
       "      <td>Seattle-Tacoma-Bellevue, WA MSA</td>\n",
       "      <td>8.0</td>\n",
       "      <td>27.0</td>\n",
       "      <td>182.0</td>\n",
       "      <td>30.0</td>\n",
       "      <td>7.0</td>\n",
       "    </tr>\n",
       "    <tr>\n",
       "      <th>2</th>\n",
       "      <td>1001</td>\n",
       "      <td>surf</td>\n",
       "      <td>Seattle-Tacoma-Bellevue, WA MSA</td>\n",
       "      <td>9.0</td>\n",
       "      <td>49.0</td>\n",
       "      <td>315.0</td>\n",
       "      <td>44.0</td>\n",
       "      <td>14.0</td>\n",
       "    </tr>\n",
       "    <tr>\n",
       "      <th>3</th>\n",
       "      <td>1001</td>\n",
       "      <td>surf</td>\n",
       "      <td>Seattle-Tacoma-Bellevue, WA MSA</td>\n",
       "      <td>10.0</td>\n",
       "      <td>65.0</td>\n",
       "      <td>393.0</td>\n",
       "      <td>53.0</td>\n",
       "      <td>22.0</td>\n",
       "    </tr>\n",
       "    <tr>\n",
       "      <th>4</th>\n",
       "      <td>1001</td>\n",
       "      <td>surf</td>\n",
       "      <td>Seattle-Tacoma-Bellevue, WA MSA</td>\n",
       "      <td>11.0</td>\n",
       "      <td>64.0</td>\n",
       "      <td>426.0</td>\n",
       "      <td>36.0</td>\n",
       "      <td>19.0</td>\n",
       "    </tr>\n",
       "  </tbody>\n",
       "</table>\n",
       "</div>"
      ],
      "text/plain": [
       "   user_id      plan                                   city   mês  \\\n",
       "0     1000  ultimate  Atlanta-Sandy Springs-Roswell, GA MSA  12.0   \n",
       "1     1001      surf        Seattle-Tacoma-Bellevue, WA MSA   8.0   \n",
       "2     1001      surf        Seattle-Tacoma-Bellevue, WA MSA   9.0   \n",
       "3     1001      surf        Seattle-Tacoma-Bellevue, WA MSA  10.0   \n",
       "4     1001      surf        Seattle-Tacoma-Bellevue, WA MSA  11.0   \n",
       "\n",
       "   chamadas_feitas  min_usados  msg_enviadas  Gb_usados  \n",
       "0             16.0       124.0          11.0        2.0  \n",
       "1             27.0       182.0          30.0        7.0  \n",
       "2             49.0       315.0          44.0       14.0  \n",
       "3             65.0       393.0          53.0       22.0  \n",
       "4             64.0       426.0          36.0       19.0  "
      ]
     },
     "execution_count": 32,
     "metadata": {},
     "output_type": "execute_result"
    }
   ],
   "source": [
    "tabela_cobranca.head()"
   ]
  },
  {
   "cell_type": "markdown",
   "metadata": {},
   "source": [
    "<div class=\"alert alert-block alert-info\">\n",
    "<b>Quando fiz a primeira vez, tentei usar somente uma tabela e ir fazendo merge dela mesmo, porém ficou muito ruim além de que alguns valores começaram a ficar sobrepostos, e muitos nulos apareceram. Espero que esteja correto agora .</b> <a class=\"tocSkip\"></a>\n",
    "</div>"
   ]
  },
  {
   "cell_type": "markdown",
   "metadata": {},
   "source": [
    "<div class=\"alert alert-block alert-danger\">\n",
    "<b> Comentário geral do revisor </b> <a class=\"tocSkip\"></a>\n",
    "\n",
    "<s>Excelente uso do merge. Entretanto perceba que você esta fazendo o merge de cada tabela com usuario, ficando ainda com 3 tabelas diferentes. O ideal seria ficar com apenas uma tabela, que tenha as informações das 3 tabelas e do usuario. A tabela `tabela_user_chamada` esta juntando o usuario a chamada, otimo! Depois o idel seria usar essa tabela para juntar com a tabela 2, tendo agora uma tabela com informações de usuarios, chama e mensagens. Depois você usaria essa nova tabela e faria o merge com a tabela 3, tendo como resultado final uma tabela com informações de usuario, chamadas, mensagens e internet!\n",
    "    \n",
    "Outro ponto é que todos os merges devem ser `on=['user_id', 'month']` para podermos precificar por usuario e por mes\n",
    "    \n",
    "Destaco que o merge com a tabela de usuarios pode ser feita em apenas colunas que sejam importantes, por exemplo `users[['user_id', 'plan', 'city']]`\n",
    "    \n",
    "Por fim, é interessante mostrar essa tabela usando um head, para confimarmos que os merges deram certo!\n",
    "    \n",
    "</div>"
   ]
  },
  {
   "cell_type": "markdown",
   "metadata": {},
   "source": [
    "<div class=\"alert alert-block alert-success\">\n",
    "<b> Comentário geral do revisor v.2 </b> <a class=\"tocSkip\"></a>\n",
    "\n",
    "Ficou otimo!\n",
    "</div>"
   ]
  },
  {
   "cell_type": "markdown",
   "metadata": {},
   "source": [
    "### Criando novo dataframe para cobranças "
   ]
  },
  {
   "cell_type": "markdown",
   "metadata": {},
   "source": [
    "<div class=\"alert alert-block alert-info\">\n",
    "<b>Como fiz o merge como foi comentado, eliminei as linhas de codigo que estavam aqui .</b> <a class=\"tocSkip\"></a>\n",
    "</div>"
   ]
  },
  {
   "cell_type": "markdown",
   "metadata": {},
   "source": [
    "<div class=\"alert alert-block alert-danger\">\n",
    "<b> Comentário geral do revisor </b> <a class=\"tocSkip\"></a>\n",
    "\n",
    "<s>Fazendo os merges como eu comentei, essa etapa não sera preciso!\n",
    "    \n",
    "</div>"
   ]
  },
  {
   "cell_type": "markdown",
   "metadata": {},
   "source": [
    "<div class=\"alert alert-block alert-success\">\n",
    "<b> Comentário geral do revisor v.2 </b> <a class=\"tocSkip\"></a>\n",
    "\n",
    "Excelente!\n",
    "</div>"
   ]
  },
  {
   "cell_type": "markdown",
   "metadata": {},
   "source": [
    "### função para inserir o tempo extra de chamadas telefonicas"
   ]
  },
  {
   "cell_type": "code",
   "execution_count": 33,
   "metadata": {},
   "outputs": [],
   "source": [
    "def cobranca_chamada(table):\n",
    "    \n",
    "    if table['plan'] != 'ultimate':\n",
    "        if table['min_usados']<= 500:\n",
    "            return 0\n",
    "        else:\n",
    "            return (table['min_usados'] - 500)\n",
    "    else:\n",
    "        if table['min_usados'] <= 3000:\n",
    "            return 0\n",
    "        else:\n",
    "            return (table['min_usados'] - 3000)"
   ]
  },
  {
   "cell_type": "code",
   "execution_count": 34,
   "metadata": {},
   "outputs": [],
   "source": [
    "tabela_cobranca['min_extra'] = tabela_cobranca.apply(cobranca_chamada,axis=1)"
   ]
  },
  {
   "cell_type": "markdown",
   "metadata": {},
   "source": [
    "### função para inserir a quantidade extra de mensagens de texto"
   ]
  },
  {
   "cell_type": "code",
   "execution_count": 35,
   "metadata": {},
   "outputs": [],
   "source": [
    "def msg_extra(table):\n",
    "    \n",
    "    if table['plan'] != 'ultimate':\n",
    "        if table['msg_enviadas']<= 50:\n",
    "            return 0\n",
    "        else:\n",
    "            return (table['msg_enviadas'] - 50)\n",
    "    else:\n",
    "        if table['msg_enviadas'] <= 1000:\n",
    "            return 0\n",
    "        else:\n",
    "            return (table['msg_enviadas'] - 1000)"
   ]
  },
  {
   "cell_type": "code",
   "execution_count": 36,
   "metadata": {},
   "outputs": [],
   "source": [
    "tabela_cobranca['msg_extra'] = tabela_cobranca.apply(msg_extra,axis=1)"
   ]
  },
  {
   "cell_type": "markdown",
   "metadata": {},
   "source": [
    "### função para inserir o volume extra de dados usados"
   ]
  },
  {
   "cell_type": "code",
   "execution_count": 37,
   "metadata": {},
   "outputs": [],
   "source": [
    "def dados_extra(table):\n",
    "    \n",
    "    if table['plan'] != 'ultimate':\n",
    "        if table['Gb_usados']<= 15:\n",
    "            return 0\n",
    "        else:\n",
    "            return np.ceil(table['Gb_usados'] - 15)\n",
    "    else:\n",
    "        if table['Gb_usados'] <= 30:\n",
    "            return 0\n",
    "        else:\n",
    "            return np.ceil(table['Gb_usados'] - 30)"
   ]
  },
  {
   "cell_type": "code",
   "execution_count": 38,
   "metadata": {},
   "outputs": [],
   "source": [
    "tabela_cobranca['dados_extra'] = tabela_cobranca.apply(dados_extra,axis=1)"
   ]
  },
  {
   "cell_type": "code",
   "execution_count": 39,
   "metadata": {},
   "outputs": [
    {
     "data": {
      "text/html": [
       "<div>\n",
       "<style scoped>\n",
       "    .dataframe tbody tr th:only-of-type {\n",
       "        vertical-align: middle;\n",
       "    }\n",
       "\n",
       "    .dataframe tbody tr th {\n",
       "        vertical-align: top;\n",
       "    }\n",
       "\n",
       "    .dataframe thead th {\n",
       "        text-align: right;\n",
       "    }\n",
       "</style>\n",
       "<table border=\"1\" class=\"dataframe\">\n",
       "  <thead>\n",
       "    <tr style=\"text-align: right;\">\n",
       "      <th></th>\n",
       "      <th>user_id</th>\n",
       "      <th>plan</th>\n",
       "      <th>city</th>\n",
       "      <th>mês</th>\n",
       "      <th>chamadas_feitas</th>\n",
       "      <th>min_usados</th>\n",
       "      <th>msg_enviadas</th>\n",
       "      <th>Gb_usados</th>\n",
       "      <th>min_extra</th>\n",
       "      <th>msg_extra</th>\n",
       "      <th>dados_extra</th>\n",
       "    </tr>\n",
       "  </thead>\n",
       "  <tbody>\n",
       "    <tr>\n",
       "      <th>0</th>\n",
       "      <td>1000</td>\n",
       "      <td>ultimate</td>\n",
       "      <td>Atlanta-Sandy Springs-Roswell, GA MSA</td>\n",
       "      <td>12.0</td>\n",
       "      <td>16.0</td>\n",
       "      <td>124.0</td>\n",
       "      <td>11.0</td>\n",
       "      <td>2.0</td>\n",
       "      <td>0.0</td>\n",
       "      <td>0.0</td>\n",
       "      <td>0.0</td>\n",
       "    </tr>\n",
       "    <tr>\n",
       "      <th>1</th>\n",
       "      <td>1001</td>\n",
       "      <td>surf</td>\n",
       "      <td>Seattle-Tacoma-Bellevue, WA MSA</td>\n",
       "      <td>8.0</td>\n",
       "      <td>27.0</td>\n",
       "      <td>182.0</td>\n",
       "      <td>30.0</td>\n",
       "      <td>7.0</td>\n",
       "      <td>0.0</td>\n",
       "      <td>0.0</td>\n",
       "      <td>0.0</td>\n",
       "    </tr>\n",
       "    <tr>\n",
       "      <th>2</th>\n",
       "      <td>1001</td>\n",
       "      <td>surf</td>\n",
       "      <td>Seattle-Tacoma-Bellevue, WA MSA</td>\n",
       "      <td>9.0</td>\n",
       "      <td>49.0</td>\n",
       "      <td>315.0</td>\n",
       "      <td>44.0</td>\n",
       "      <td>14.0</td>\n",
       "      <td>0.0</td>\n",
       "      <td>0.0</td>\n",
       "      <td>0.0</td>\n",
       "    </tr>\n",
       "    <tr>\n",
       "      <th>3</th>\n",
       "      <td>1001</td>\n",
       "      <td>surf</td>\n",
       "      <td>Seattle-Tacoma-Bellevue, WA MSA</td>\n",
       "      <td>10.0</td>\n",
       "      <td>65.0</td>\n",
       "      <td>393.0</td>\n",
       "      <td>53.0</td>\n",
       "      <td>22.0</td>\n",
       "      <td>0.0</td>\n",
       "      <td>3.0</td>\n",
       "      <td>7.0</td>\n",
       "    </tr>\n",
       "    <tr>\n",
       "      <th>4</th>\n",
       "      <td>1001</td>\n",
       "      <td>surf</td>\n",
       "      <td>Seattle-Tacoma-Bellevue, WA MSA</td>\n",
       "      <td>11.0</td>\n",
       "      <td>64.0</td>\n",
       "      <td>426.0</td>\n",
       "      <td>36.0</td>\n",
       "      <td>19.0</td>\n",
       "      <td>0.0</td>\n",
       "      <td>0.0</td>\n",
       "      <td>4.0</td>\n",
       "    </tr>\n",
       "  </tbody>\n",
       "</table>\n",
       "</div>"
      ],
      "text/plain": [
       "   user_id      plan                                   city   mês  \\\n",
       "0     1000  ultimate  Atlanta-Sandy Springs-Roswell, GA MSA  12.0   \n",
       "1     1001      surf        Seattle-Tacoma-Bellevue, WA MSA   8.0   \n",
       "2     1001      surf        Seattle-Tacoma-Bellevue, WA MSA   9.0   \n",
       "3     1001      surf        Seattle-Tacoma-Bellevue, WA MSA  10.0   \n",
       "4     1001      surf        Seattle-Tacoma-Bellevue, WA MSA  11.0   \n",
       "\n",
       "   chamadas_feitas  min_usados  msg_enviadas  Gb_usados  min_extra  msg_extra  \\\n",
       "0             16.0       124.0          11.0        2.0        0.0        0.0   \n",
       "1             27.0       182.0          30.0        7.0        0.0        0.0   \n",
       "2             49.0       315.0          44.0       14.0        0.0        0.0   \n",
       "3             65.0       393.0          53.0       22.0        0.0        3.0   \n",
       "4             64.0       426.0          36.0       19.0        0.0        0.0   \n",
       "\n",
       "   dados_extra  \n",
       "0          0.0  \n",
       "1          0.0  \n",
       "2          0.0  \n",
       "3          7.0  \n",
       "4          4.0  "
      ]
     },
     "execution_count": 39,
     "metadata": {},
     "output_type": "execute_result"
    }
   ],
   "source": [
    "tabela_cobranca.head()"
   ]
  },
  {
   "cell_type": "markdown",
   "metadata": {},
   "source": [
    "<div class=\"alert alert-block alert-info\">\n",
    "<b>Função alterada .</b> <a class=\"tocSkip\"></a>\n",
    "</div>"
   ]
  },
  {
   "cell_type": "markdown",
   "metadata": {},
   "source": [
    "<div class=\"alert alert-block alert-danger\">\n",
    "<b> Comentário geral do revisor </b> <a class=\"tocSkip\"></a>\n",
    "\n",
    "<s>As tres funções ficaram muito boas! Destaco apenas que com a mudança de mb para gb os valores usados na função que calcula o excedente de internet também vai mudar\n",
    "    \n",
    "</div>"
   ]
  },
  {
   "cell_type": "markdown",
   "metadata": {},
   "source": [
    "<div class=\"alert alert-block alert-success\">\n",
    "<b> Comentário geral do revisor v.2 </b> <a class=\"tocSkip\"></a>\n",
    "\n",
    "Perfeito!\n",
    "</div>"
   ]
  },
  {
   "cell_type": "markdown",
   "metadata": {},
   "source": [
    "### Criando funções e adicionando as colunas com os valores  de cobrança mensal de cada cliente"
   ]
  },
  {
   "cell_type": "code",
   "execution_count": 40,
   "metadata": {},
   "outputs": [],
   "source": [
    "def pagamento_chamada(table):\n",
    "    \n",
    "    if table['plan'] != 'ultimate':\n",
    "        if table['min_extra']!= 0:\n",
    "            return table['min_extra'] * 0.03\n",
    "        else:\n",
    "            return 0\n",
    "    else:\n",
    "        if table['min_extra']!= 0:\n",
    "            return table['min_extra'] * 0.01\n",
    "        else:\n",
    "            return 0"
   ]
  },
  {
   "cell_type": "code",
   "execution_count": 41,
   "metadata": {},
   "outputs": [],
   "source": [
    "tabela_cobranca['pag_min'] = tabela_cobranca.apply(pagamento_chamada,axis=1)"
   ]
  },
  {
   "cell_type": "code",
   "execution_count": 42,
   "metadata": {},
   "outputs": [],
   "source": [
    "def pagamento_msg(table):\n",
    "    \n",
    "    if table['plan'] != 'ultimate':\n",
    "        if table['msg_extra']!= 0:\n",
    "            return table['msg_extra'] * 0.03\n",
    "        else:\n",
    "            return 0\n",
    "    else:\n",
    "        if table['msg_extra']!= 0:\n",
    "            return table['msg_extra'] *0.01\n",
    "        else:\n",
    "            return 0"
   ]
  },
  {
   "cell_type": "code",
   "execution_count": 43,
   "metadata": {},
   "outputs": [],
   "source": [
    "tabela_cobranca['pag_msg'] = tabela_cobranca.apply(pagamento_msg,axis=1)"
   ]
  },
  {
   "cell_type": "code",
   "execution_count": 44,
   "metadata": {},
   "outputs": [],
   "source": [
    "def pagamento_internet(table):\n",
    "    \n",
    "    if table['plan'] != 'ultimate':\n",
    "        if table['dados_extra']!= 0:\n",
    "            return round(table['dados_extra'] *10,2)\n",
    "        else:\n",
    "            return 0\n",
    "    else:\n",
    "        if table['dados_extra']!= 0:\n",
    "            return round(table['dados_extra'] *7,2)\n",
    "        else:\n",
    "            return 0"
   ]
  },
  {
   "cell_type": "code",
   "execution_count": 45,
   "metadata": {},
   "outputs": [],
   "source": [
    "tabela_cobranca['pag_dados'] = tabela_cobranca.apply(pagamento_internet,axis=1)"
   ]
  },
  {
   "cell_type": "markdown",
   "metadata": {},
   "source": [
    "<div class=\"alert alert-block alert-info\">\n",
    "<b> Alteração feita .</b> <a class=\"tocSkip\"></a>\n",
    "</div>"
   ]
  },
  {
   "cell_type": "markdown",
   "metadata": {},
   "source": [
    "<div class=\"alert alert-block alert-danger\">\n",
    "<b> Comentário geral do revisor </b> <a class=\"tocSkip\"></a>\n",
    "\n",
    "<S>Percebi que você fez essa conversao aqui! É melhor que seja feita no conjunto de dados, pois dessa forma a conversao fica 'presa' a analise do custo, se mais adiante você quiser fazer outras analises com os dados convertidos não vai ser possivel\n",
    "    \n",
    "</div>"
   ]
  },
  {
   "cell_type": "markdown",
   "metadata": {},
   "source": [
    "<div class=\"alert alert-block alert-success\">\n",
    "<b> Comentário geral do revisor v.2 </b> <a class=\"tocSkip\"></a>\n",
    "\n",
    "Otimo, obrigada pela alteração!\n",
    "</div>"
   ]
  },
  {
   "cell_type": "code",
   "execution_count": 46,
   "metadata": {},
   "outputs": [],
   "source": [
    "def pagamento_total(table):\n",
    "    \n",
    "    if table['plan'] != 'ultimate':\n",
    "        \n",
    "        pagar = table['pag_min'] + table['pag_msg'] + table['pag_dados'] + 20\n",
    "        return round(pagar,2)\n",
    "    else:\n",
    "        \n",
    "        pagar = table['pag_min'] + table['pag_msg'] + table['pag_dados'] + 70\n",
    "        return round(pagar,2)"
   ]
  },
  {
   "cell_type": "code",
   "execution_count": 47,
   "metadata": {},
   "outputs": [],
   "source": [
    "tabela_cobranca['pag_do_mes'] = tabela_cobranca.apply(pagamento_total,axis=1)"
   ]
  },
  {
   "cell_type": "code",
   "execution_count": 48,
   "metadata": {},
   "outputs": [
    {
     "data": {
      "text/html": [
       "<div>\n",
       "<style scoped>\n",
       "    .dataframe tbody tr th:only-of-type {\n",
       "        vertical-align: middle;\n",
       "    }\n",
       "\n",
       "    .dataframe tbody tr th {\n",
       "        vertical-align: top;\n",
       "    }\n",
       "\n",
       "    .dataframe thead th {\n",
       "        text-align: right;\n",
       "    }\n",
       "</style>\n",
       "<table border=\"1\" class=\"dataframe\">\n",
       "  <thead>\n",
       "    <tr style=\"text-align: right;\">\n",
       "      <th></th>\n",
       "      <th>user_id</th>\n",
       "      <th>plan</th>\n",
       "      <th>city</th>\n",
       "      <th>mês</th>\n",
       "      <th>chamadas_feitas</th>\n",
       "      <th>min_usados</th>\n",
       "      <th>msg_enviadas</th>\n",
       "      <th>Gb_usados</th>\n",
       "      <th>min_extra</th>\n",
       "      <th>msg_extra</th>\n",
       "      <th>dados_extra</th>\n",
       "      <th>pag_min</th>\n",
       "      <th>pag_msg</th>\n",
       "      <th>pag_dados</th>\n",
       "      <th>pag_do_mes</th>\n",
       "    </tr>\n",
       "  </thead>\n",
       "  <tbody>\n",
       "    <tr>\n",
       "      <th>0</th>\n",
       "      <td>1000</td>\n",
       "      <td>ultimate</td>\n",
       "      <td>Atlanta-Sandy Springs-Roswell, GA MSA</td>\n",
       "      <td>12.0</td>\n",
       "      <td>16.0</td>\n",
       "      <td>124.0</td>\n",
       "      <td>11.0</td>\n",
       "      <td>2.0</td>\n",
       "      <td>0.0</td>\n",
       "      <td>0.0</td>\n",
       "      <td>0.0</td>\n",
       "      <td>0.0</td>\n",
       "      <td>0.00</td>\n",
       "      <td>0.0</td>\n",
       "      <td>70.00</td>\n",
       "    </tr>\n",
       "    <tr>\n",
       "      <th>1</th>\n",
       "      <td>1001</td>\n",
       "      <td>surf</td>\n",
       "      <td>Seattle-Tacoma-Bellevue, WA MSA</td>\n",
       "      <td>8.0</td>\n",
       "      <td>27.0</td>\n",
       "      <td>182.0</td>\n",
       "      <td>30.0</td>\n",
       "      <td>7.0</td>\n",
       "      <td>0.0</td>\n",
       "      <td>0.0</td>\n",
       "      <td>0.0</td>\n",
       "      <td>0.0</td>\n",
       "      <td>0.00</td>\n",
       "      <td>0.0</td>\n",
       "      <td>20.00</td>\n",
       "    </tr>\n",
       "    <tr>\n",
       "      <th>2</th>\n",
       "      <td>1001</td>\n",
       "      <td>surf</td>\n",
       "      <td>Seattle-Tacoma-Bellevue, WA MSA</td>\n",
       "      <td>9.0</td>\n",
       "      <td>49.0</td>\n",
       "      <td>315.0</td>\n",
       "      <td>44.0</td>\n",
       "      <td>14.0</td>\n",
       "      <td>0.0</td>\n",
       "      <td>0.0</td>\n",
       "      <td>0.0</td>\n",
       "      <td>0.0</td>\n",
       "      <td>0.00</td>\n",
       "      <td>0.0</td>\n",
       "      <td>20.00</td>\n",
       "    </tr>\n",
       "    <tr>\n",
       "      <th>3</th>\n",
       "      <td>1001</td>\n",
       "      <td>surf</td>\n",
       "      <td>Seattle-Tacoma-Bellevue, WA MSA</td>\n",
       "      <td>10.0</td>\n",
       "      <td>65.0</td>\n",
       "      <td>393.0</td>\n",
       "      <td>53.0</td>\n",
       "      <td>22.0</td>\n",
       "      <td>0.0</td>\n",
       "      <td>3.0</td>\n",
       "      <td>7.0</td>\n",
       "      <td>0.0</td>\n",
       "      <td>0.09</td>\n",
       "      <td>70.0</td>\n",
       "      <td>90.09</td>\n",
       "    </tr>\n",
       "    <tr>\n",
       "      <th>4</th>\n",
       "      <td>1001</td>\n",
       "      <td>surf</td>\n",
       "      <td>Seattle-Tacoma-Bellevue, WA MSA</td>\n",
       "      <td>11.0</td>\n",
       "      <td>64.0</td>\n",
       "      <td>426.0</td>\n",
       "      <td>36.0</td>\n",
       "      <td>19.0</td>\n",
       "      <td>0.0</td>\n",
       "      <td>0.0</td>\n",
       "      <td>4.0</td>\n",
       "      <td>0.0</td>\n",
       "      <td>0.00</td>\n",
       "      <td>40.0</td>\n",
       "      <td>60.00</td>\n",
       "    </tr>\n",
       "  </tbody>\n",
       "</table>\n",
       "</div>"
      ],
      "text/plain": [
       "   user_id      plan                                   city   mês  \\\n",
       "0     1000  ultimate  Atlanta-Sandy Springs-Roswell, GA MSA  12.0   \n",
       "1     1001      surf        Seattle-Tacoma-Bellevue, WA MSA   8.0   \n",
       "2     1001      surf        Seattle-Tacoma-Bellevue, WA MSA   9.0   \n",
       "3     1001      surf        Seattle-Tacoma-Bellevue, WA MSA  10.0   \n",
       "4     1001      surf        Seattle-Tacoma-Bellevue, WA MSA  11.0   \n",
       "\n",
       "   chamadas_feitas  min_usados  msg_enviadas  Gb_usados  min_extra  msg_extra  \\\n",
       "0             16.0       124.0          11.0        2.0        0.0        0.0   \n",
       "1             27.0       182.0          30.0        7.0        0.0        0.0   \n",
       "2             49.0       315.0          44.0       14.0        0.0        0.0   \n",
       "3             65.0       393.0          53.0       22.0        0.0        3.0   \n",
       "4             64.0       426.0          36.0       19.0        0.0        0.0   \n",
       "\n",
       "   dados_extra  pag_min  pag_msg  pag_dados  pag_do_mes  \n",
       "0          0.0      0.0     0.00        0.0       70.00  \n",
       "1          0.0      0.0     0.00        0.0       20.00  \n",
       "2          0.0      0.0     0.00        0.0       20.00  \n",
       "3          7.0      0.0     0.09       70.0       90.09  \n",
       "4          4.0      0.0     0.00       40.0       60.00  "
      ]
     },
     "execution_count": 48,
     "metadata": {},
     "output_type": "execute_result"
    }
   ],
   "source": [
    "tabela_cobranca.head()"
   ]
  },
  {
   "cell_type": "markdown",
   "metadata": {},
   "source": [
    "<div class=\"alert alert-block alert-warning\">\n",
    "<b> Comentário geral do revisor </b> <a class=\"tocSkip\"></a>\n",
    "\n",
    "<S>As funções de cobrança ficaram muito boas. Parabens! Destaco novamente que é importante visualizar essas informações.\n",
    "</div>"
   ]
  },
  {
   "cell_type": "markdown",
   "metadata": {},
   "source": [
    "### Tabela final"
   ]
  },
  {
   "cell_type": "code",
   "execution_count": 49,
   "metadata": {},
   "outputs": [],
   "source": [
    "df_final = pd.DataFrame()"
   ]
  },
  {
   "cell_type": "code",
   "execution_count": 50,
   "metadata": {},
   "outputs": [],
   "source": [
    "df_final = tabela_cobranca.drop(['min_extra','msg_extra','dados_extra','pag_min','pag_msg','pag_dados'],axis=1)"
   ]
  },
  {
   "cell_type": "code",
   "execution_count": 51,
   "metadata": {},
   "outputs": [
    {
     "data": {
      "text/html": [
       "<div>\n",
       "<style scoped>\n",
       "    .dataframe tbody tr th:only-of-type {\n",
       "        vertical-align: middle;\n",
       "    }\n",
       "\n",
       "    .dataframe tbody tr th {\n",
       "        vertical-align: top;\n",
       "    }\n",
       "\n",
       "    .dataframe thead th {\n",
       "        text-align: right;\n",
       "    }\n",
       "</style>\n",
       "<table border=\"1\" class=\"dataframe\">\n",
       "  <thead>\n",
       "    <tr style=\"text-align: right;\">\n",
       "      <th></th>\n",
       "      <th>user_id</th>\n",
       "      <th>plan</th>\n",
       "      <th>city</th>\n",
       "      <th>mês</th>\n",
       "      <th>chamadas_feitas</th>\n",
       "      <th>min_usados</th>\n",
       "      <th>msg_enviadas</th>\n",
       "      <th>Gb_usados</th>\n",
       "      <th>pag_do_mes</th>\n",
       "    </tr>\n",
       "  </thead>\n",
       "  <tbody>\n",
       "    <tr>\n",
       "      <th>0</th>\n",
       "      <td>1000</td>\n",
       "      <td>ultimate</td>\n",
       "      <td>Atlanta-Sandy Springs-Roswell, GA MSA</td>\n",
       "      <td>12.0</td>\n",
       "      <td>16.0</td>\n",
       "      <td>124.0</td>\n",
       "      <td>11.0</td>\n",
       "      <td>2.0</td>\n",
       "      <td>70.00</td>\n",
       "    </tr>\n",
       "    <tr>\n",
       "      <th>1</th>\n",
       "      <td>1001</td>\n",
       "      <td>surf</td>\n",
       "      <td>Seattle-Tacoma-Bellevue, WA MSA</td>\n",
       "      <td>8.0</td>\n",
       "      <td>27.0</td>\n",
       "      <td>182.0</td>\n",
       "      <td>30.0</td>\n",
       "      <td>7.0</td>\n",
       "      <td>20.00</td>\n",
       "    </tr>\n",
       "    <tr>\n",
       "      <th>2</th>\n",
       "      <td>1001</td>\n",
       "      <td>surf</td>\n",
       "      <td>Seattle-Tacoma-Bellevue, WA MSA</td>\n",
       "      <td>9.0</td>\n",
       "      <td>49.0</td>\n",
       "      <td>315.0</td>\n",
       "      <td>44.0</td>\n",
       "      <td>14.0</td>\n",
       "      <td>20.00</td>\n",
       "    </tr>\n",
       "    <tr>\n",
       "      <th>3</th>\n",
       "      <td>1001</td>\n",
       "      <td>surf</td>\n",
       "      <td>Seattle-Tacoma-Bellevue, WA MSA</td>\n",
       "      <td>10.0</td>\n",
       "      <td>65.0</td>\n",
       "      <td>393.0</td>\n",
       "      <td>53.0</td>\n",
       "      <td>22.0</td>\n",
       "      <td>90.09</td>\n",
       "    </tr>\n",
       "    <tr>\n",
       "      <th>4</th>\n",
       "      <td>1001</td>\n",
       "      <td>surf</td>\n",
       "      <td>Seattle-Tacoma-Bellevue, WA MSA</td>\n",
       "      <td>11.0</td>\n",
       "      <td>64.0</td>\n",
       "      <td>426.0</td>\n",
       "      <td>36.0</td>\n",
       "      <td>19.0</td>\n",
       "      <td>60.00</td>\n",
       "    </tr>\n",
       "  </tbody>\n",
       "</table>\n",
       "</div>"
      ],
      "text/plain": [
       "   user_id      plan                                   city   mês  \\\n",
       "0     1000  ultimate  Atlanta-Sandy Springs-Roswell, GA MSA  12.0   \n",
       "1     1001      surf        Seattle-Tacoma-Bellevue, WA MSA   8.0   \n",
       "2     1001      surf        Seattle-Tacoma-Bellevue, WA MSA   9.0   \n",
       "3     1001      surf        Seattle-Tacoma-Bellevue, WA MSA  10.0   \n",
       "4     1001      surf        Seattle-Tacoma-Bellevue, WA MSA  11.0   \n",
       "\n",
       "   chamadas_feitas  min_usados  msg_enviadas  Gb_usados  pag_do_mes  \n",
       "0             16.0       124.0          11.0        2.0       70.00  \n",
       "1             27.0       182.0          30.0        7.0       20.00  \n",
       "2             49.0       315.0          44.0       14.0       20.00  \n",
       "3             65.0       393.0          53.0       22.0       90.09  \n",
       "4             64.0       426.0          36.0       19.0       60.00  "
      ]
     },
     "execution_count": 51,
     "metadata": {},
     "output_type": "execute_result"
    }
   ],
   "source": [
    "df_final.head()"
   ]
  },
  {
   "cell_type": "markdown",
   "metadata": {},
   "source": [
    "<div class=\"alert alert-block alert-info\">\n",
    "<b> Alteração feita .</b> <a class=\"tocSkip\"></a>\n",
    "</div>"
   ]
  },
  {
   "cell_type": "markdown",
   "metadata": {},
   "source": [
    "<div class=\"alert alert-block alert-danger\">\n",
    "<b> Comentário geral do revisor </b> <a class=\"tocSkip\"></a>\n",
    "\n",
    "<S>Fazendo as alterações que eu sugeri, você trabalha o tempo todo com apenas uma tabela, que você vai adicionando informações nela. Primieiro com os merges, depois com as funções de precificação,e por ultimo com as cobranças. Fica bem mais simples do que ir criando novos dataframes.\n",
    "    \n",
    "</div>"
   ]
  },
  {
   "cell_type": "markdown",
   "metadata": {},
   "source": [
    "<div class=\"alert alert-block alert-success\">\n",
    "<b> Comentário geral do revisor v.2 </b> <a class=\"tocSkip\"></a>\n",
    "\n",
    "A tabela final ficou otima\n",
    "</div>"
   ]
  },
  {
   "cell_type": "markdown",
   "metadata": {},
   "source": [
    "# Passo 3 Análise de dados"
   ]
  },
  {
   "cell_type": "markdown",
   "metadata": {},
   "source": [
    "## Análises estatísticas "
   ]
  },
  {
   "cell_type": "markdown",
   "metadata": {},
   "source": [
    "### Observando a média, variancia e desvio padrão de cada coluna"
   ]
  },
  {
   "cell_type": "code",
   "execution_count": 52,
   "metadata": {},
   "outputs": [
    {
     "data": {
      "text/html": [
       "<div>\n",
       "<style scoped>\n",
       "    .dataframe tbody tr th:only-of-type {\n",
       "        vertical-align: middle;\n",
       "    }\n",
       "\n",
       "    .dataframe tbody tr th {\n",
       "        vertical-align: top;\n",
       "    }\n",
       "\n",
       "    .dataframe thead tr th {\n",
       "        text-align: left;\n",
       "    }\n",
       "\n",
       "    .dataframe thead tr:last-of-type th {\n",
       "        text-align: right;\n",
       "    }\n",
       "</style>\n",
       "<table border=\"1\" class=\"dataframe\">\n",
       "  <thead>\n",
       "    <tr>\n",
       "      <th></th>\n",
       "      <th colspan=\"3\" halign=\"left\">min_usados</th>\n",
       "    </tr>\n",
       "    <tr>\n",
       "      <th></th>\n",
       "      <th>mean</th>\n",
       "      <th>std</th>\n",
       "      <th>var</th>\n",
       "    </tr>\n",
       "    <tr>\n",
       "      <th>plan</th>\n",
       "      <th></th>\n",
       "      <th></th>\n",
       "      <th></th>\n",
       "    </tr>\n",
       "  </thead>\n",
       "  <tbody>\n",
       "    <tr>\n",
       "      <th>surf</th>\n",
       "      <td>436.519741</td>\n",
       "      <td>229.283805</td>\n",
       "      <td>52571.063243</td>\n",
       "    </tr>\n",
       "    <tr>\n",
       "      <th>ultimate</th>\n",
       "      <td>434.676017</td>\n",
       "      <td>237.852123</td>\n",
       "      <td>56573.632247</td>\n",
       "    </tr>\n",
       "  </tbody>\n",
       "</table>\n",
       "</div>"
      ],
      "text/plain": [
       "          min_usados                          \n",
       "                mean         std           var\n",
       "plan                                          \n",
       "surf      436.519741  229.283805  52571.063243\n",
       "ultimate  434.676017  237.852123  56573.632247"
      ]
     },
     "execution_count": 52,
     "metadata": {},
     "output_type": "execute_result"
    }
   ],
   "source": [
    "df_final.groupby('plan').agg( {'min_usados' : ['mean', 'std','var']} )"
   ]
  },
  {
   "cell_type": "code",
   "execution_count": 53,
   "metadata": {},
   "outputs": [
    {
     "data": {
      "text/html": [
       "<div>\n",
       "<style scoped>\n",
       "    .dataframe tbody tr th:only-of-type {\n",
       "        vertical-align: middle;\n",
       "    }\n",
       "\n",
       "    .dataframe tbody tr th {\n",
       "        vertical-align: top;\n",
       "    }\n",
       "\n",
       "    .dataframe thead tr th {\n",
       "        text-align: left;\n",
       "    }\n",
       "\n",
       "    .dataframe thead tr:last-of-type th {\n",
       "        text-align: right;\n",
       "    }\n",
       "</style>\n",
       "<table border=\"1\" class=\"dataframe\">\n",
       "  <thead>\n",
       "    <tr>\n",
       "      <th></th>\n",
       "      <th colspan=\"3\" halign=\"left\">msg_enviadas</th>\n",
       "    </tr>\n",
       "    <tr>\n",
       "      <th></th>\n",
       "      <th>mean</th>\n",
       "      <th>std</th>\n",
       "      <th>var</th>\n",
       "    </tr>\n",
       "    <tr>\n",
       "      <th>plan</th>\n",
       "      <th></th>\n",
       "      <th></th>\n",
       "      <th></th>\n",
       "    </tr>\n",
       "  </thead>\n",
       "  <tbody>\n",
       "    <tr>\n",
       "      <th>surf</th>\n",
       "      <td>39.980737</td>\n",
       "      <td>33.189423</td>\n",
       "      <td>1101.537768</td>\n",
       "    </tr>\n",
       "    <tr>\n",
       "      <th>ultimate</th>\n",
       "      <td>46.455959</td>\n",
       "      <td>32.930135</td>\n",
       "      <td>1084.393818</td>\n",
       "    </tr>\n",
       "  </tbody>\n",
       "</table>\n",
       "</div>"
      ],
      "text/plain": [
       "         msg_enviadas                        \n",
       "                 mean        std          var\n",
       "plan                                         \n",
       "surf        39.980737  33.189423  1101.537768\n",
       "ultimate    46.455959  32.930135  1084.393818"
      ]
     },
     "execution_count": 53,
     "metadata": {},
     "output_type": "execute_result"
    }
   ],
   "source": [
    "df_final.groupby('plan').agg( {'msg_enviadas' : ['mean', 'std','var']} )"
   ]
  },
  {
   "cell_type": "code",
   "execution_count": 54,
   "metadata": {
    "scrolled": true
   },
   "outputs": [
    {
     "data": {
      "text/html": [
       "<div>\n",
       "<style scoped>\n",
       "    .dataframe tbody tr th:only-of-type {\n",
       "        vertical-align: middle;\n",
       "    }\n",
       "\n",
       "    .dataframe tbody tr th {\n",
       "        vertical-align: top;\n",
       "    }\n",
       "\n",
       "    .dataframe thead tr th {\n",
       "        text-align: left;\n",
       "    }\n",
       "\n",
       "    .dataframe thead tr:last-of-type th {\n",
       "        text-align: right;\n",
       "    }\n",
       "</style>\n",
       "<table border=\"1\" class=\"dataframe\">\n",
       "  <thead>\n",
       "    <tr>\n",
       "      <th></th>\n",
       "      <th colspan=\"3\" halign=\"left\">Gb_usados</th>\n",
       "    </tr>\n",
       "    <tr>\n",
       "      <th></th>\n",
       "      <th>mean</th>\n",
       "      <th>std</th>\n",
       "      <th>var</th>\n",
       "    </tr>\n",
       "    <tr>\n",
       "      <th>plan</th>\n",
       "      <th></th>\n",
       "      <th></th>\n",
       "      <th></th>\n",
       "    </tr>\n",
       "  </thead>\n",
       "  <tbody>\n",
       "    <tr>\n",
       "      <th>surf</th>\n",
       "      <td>16.783007</td>\n",
       "      <td>7.546237</td>\n",
       "      <td>56.945689</td>\n",
       "    </tr>\n",
       "    <tr>\n",
       "      <th>ultimate</th>\n",
       "      <td>17.370266</td>\n",
       "      <td>7.580120</td>\n",
       "      <td>57.458216</td>\n",
       "    </tr>\n",
       "  </tbody>\n",
       "</table>\n",
       "</div>"
      ],
      "text/plain": [
       "          Gb_usados                     \n",
       "               mean       std        var\n",
       "plan                                    \n",
       "surf      16.783007  7.546237  56.945689\n",
       "ultimate  17.370266  7.580120  57.458216"
      ]
     },
     "execution_count": 54,
     "metadata": {},
     "output_type": "execute_result"
    }
   ],
   "source": [
    "df_final.groupby('plan').agg( {'Gb_usados' : ['mean', 'std','var']} )"
   ]
  },
  {
   "cell_type": "markdown",
   "metadata": {},
   "source": [
    "<div class=\"alert alert-block alert-warning\">\n",
    "<b> Comentário geral do revisor </b> <a class=\"tocSkip\"></a>\n",
    "\n",
    "As analises estatisticas ficaram muito boas. É interessante discorrer um pouco sobre os resultados!\n",
    "    \n",
    "</div>"
   ]
  },
  {
   "cell_type": "markdown",
   "metadata": {},
   "source": [
    "### Fazendo os Histogramas"
   ]
  },
  {
   "cell_type": "markdown",
   "metadata": {},
   "source": [
    "#### Fazendo a comparação usando histogramas entre os minutos usados pelo plano surf e pelo plano ultimate"
   ]
  },
  {
   "cell_type": "code",
   "execution_count": 55,
   "metadata": {},
   "outputs": [],
   "source": [
    "teste1 = df_final[df_final['plan']=='surf']\n",
    "teste2 = df_final[df_final['plan']=='ultimate']"
   ]
  },
  {
   "cell_type": "code",
   "execution_count": 56,
   "metadata": {},
   "outputs": [
    {
     "data": {
      "image/png": "[encoded data removed]",
      "text/plain": [
       "<Figure size 432x288 with 1 Axes>"
      ]
     },
     "metadata": {
      "needs_background": "light"
     },
     "output_type": "display_data"
    }
   ],
   "source": [
    "plt.hist(teste1['min_usados'],alpha=0.5,bins=100,color='red')\n",
    "plt.hist(teste2['min_usados'],alpha=0.7,bins=100,color='blue')\n",
    "plt.ylabel('Usuarios')\n",
    "plt.xlabel('Minutos Usados')\n",
    "plt.show()"
   ]
  },
  {
   "cell_type": "markdown",
   "metadata": {},
   "source": []
  },
  {
   "cell_type": "markdown",
   "metadata": {},
   "source": [
    "#### Histogramas da quantidade de mensagens enviadas pelas pessoas de cada plano"
   ]
  },
  {
   "cell_type": "code",
   "execution_count": 57,
   "metadata": {},
   "outputs": [
    {
     "data": {
      "image/png": "[encoded data removed]",
      "text/plain": [
       "<Figure size 432x288 with 1 Axes>"
      ]
     },
     "metadata": {
      "needs_background": "light"
     },
     "output_type": "display_data"
    }
   ],
   "source": [
    "plt.hist(teste1['msg_enviadas'],alpha=0.5,bins=100)\n",
    "plt.hist(teste2['msg_enviadas'],alpha=0.7,bins=100)\n",
    "plt.ylabel('Usuarios')\n",
    "plt.xlabel('Mensagens enviadas')\n",
    "plt.show()"
   ]
  },
  {
   "cell_type": "markdown",
   "metadata": {},
   "source": [
    "    Podemos ver que este grafico não possui uma forma normalizada, possui uma  calda a direita. Além disso vemos uma grande quantiddade de poucas mensagens sendo usadas "
   ]
  },
  {
   "cell_type": "markdown",
   "metadata": {},
   "source": [
    "#### Histogramas da quantidade de dados consumidos pelas pessoas de cada plano"
   ]
  },
  {
   "cell_type": "code",
   "execution_count": 58,
   "metadata": {},
   "outputs": [
    {
     "data": {
      "image/png": "[encoded data removed]",
      "text/plain": [
       "<Figure size 432x288 with 1 Axes>"
      ]
     },
     "metadata": {
      "needs_background": "light"
     },
     "output_type": "display_data"
    }
   ],
   "source": [
    "plt.hist(teste1['Gb_usados'],alpha=0.5,bins=50,color='green')\n",
    "plt.hist(teste2['Gb_usados'],alpha=0.7,bins=50,color='orange')\n",
    "plt.ylabel('Usuarios')\n",
    "plt.xlabel('Dados Usados')\n",
    "plt.show()"
   ]
  },
  {
   "cell_type": "markdown",
   "metadata": {},
   "source": [
    "    Podemos ver que este grafico possui uma forma normalizada com uma leve calda a direita"
   ]
  },
  {
   "cell_type": "markdown",
   "metadata": {},
   "source": [
    "Podemos ver que existe uma boa distribuição entre os dois planos, não tendo um grupo se sobrepondo muito mais que outro em nenhum dos 3 gráficos\n"
   ]
  },
  {
   "cell_type": "markdown",
   "metadata": {},
   "source": [
    "<div class=\"alert alert-block alert-info\">\n",
    "<b> Alteração feita. Realmente é uma mudança muito importante, não havia pensado em colocar os dois graficos juntos mesmo sendo o mais obvio xD .</b> <a class=\"tocSkip\"></a>\n",
    "</div>"
   ]
  },
  {
   "cell_type": "markdown",
   "metadata": {},
   "source": [
    "<div class=\"alert alert-block alert-warning\">\n",
    "<b> Comentário geral do revisor </b> <a class=\"tocSkip\"></a>\n",
    "\n",
    "<s>Excelente! Os graficos e discurssões ficaram muito bons. Ressalto apenas que como o objetivo é fazer essa comparação seria bem interessante se esses graficos mostrasse na mesma figura os dois tipos de planos para cada uma dessas analises.\n",
    "    \n",
    "</div>"
   ]
  },
  {
   "cell_type": "markdown",
   "metadata": {},
   "source": [
    "<div class=\"alert alert-block alert-warning\">\n",
    "<b> Comentário geral do revisor v.2 </b> <a class=\"tocSkip\"></a>\n",
    "\n",
    "Eles ficaram excelentes, facilita a interpretação. Parabéns! destaco apenas que é interessante colocar uma legenda para a gente poder visualizar qual plano é o azul e qual o vermelho. Você pode colocar um titulo também.\n",
    "</div>"
   ]
  },
  {
   "cell_type": "markdown",
   "metadata": {},
   "source": [
    "# Passo 4. Teste de hipóteses"
   ]
  },
  {
   "cell_type": "markdown",
   "metadata": {},
   "source": [
    "## Hipótese 1: A receita média dos usuários dos planos Ultimate e Surf são diferentes."
   ]
  },
  {
   "cell_type": "markdown",
   "metadata": {},
   "source": [
    "Aqui vamos testar se a receita média entre os diferentes planos é diferente, sendo esta nossa hipotese nula já nossa hipotese alternativa será: a receita média dos usuarios não é diferente"
   ]
  },
  {
   "cell_type": "code",
   "execution_count": 59,
   "metadata": {},
   "outputs": [
    {
     "data": {
      "text/html": [
       "<div>\n",
       "<style scoped>\n",
       "    .dataframe tbody tr th:only-of-type {\n",
       "        vertical-align: middle;\n",
       "    }\n",
       "\n",
       "    .dataframe tbody tr th {\n",
       "        vertical-align: top;\n",
       "    }\n",
       "\n",
       "    .dataframe thead tr th {\n",
       "        text-align: left;\n",
       "    }\n",
       "\n",
       "    .dataframe thead tr:last-of-type th {\n",
       "        text-align: right;\n",
       "    }\n",
       "</style>\n",
       "<table border=\"1\" class=\"dataframe\">\n",
       "  <thead>\n",
       "    <tr>\n",
       "      <th></th>\n",
       "      <th colspan=\"2\" halign=\"left\">pag_do_mes</th>\n",
       "    </tr>\n",
       "    <tr>\n",
       "      <th></th>\n",
       "      <th>mean</th>\n",
       "      <th>median</th>\n",
       "    </tr>\n",
       "    <tr>\n",
       "      <th>plan</th>\n",
       "      <th></th>\n",
       "      <th></th>\n",
       "    </tr>\n",
       "  </thead>\n",
       "  <tbody>\n",
       "    <tr>\n",
       "      <th>surf</th>\n",
       "      <td>60.415839</td>\n",
       "      <td>41.035</td>\n",
       "    </tr>\n",
       "    <tr>\n",
       "      <th>ultimate</th>\n",
       "      <td>72.248705</td>\n",
       "      <td>70.000</td>\n",
       "    </tr>\n",
       "  </tbody>\n",
       "</table>\n",
       "</div>"
      ],
      "text/plain": [
       "         pag_do_mes        \n",
       "               mean  median\n",
       "plan                       \n",
       "surf      60.415839  41.035\n",
       "ultimate  72.248705  70.000"
      ]
     },
     "execution_count": 59,
     "metadata": {},
     "output_type": "execute_result"
    }
   ],
   "source": [
    "df_final.groupby('plan').agg( {'pag_do_mes' : ['mean','median']} )"
   ]
  },
  {
   "cell_type": "code",
   "execution_count": 60,
   "metadata": {},
   "outputs": [
    {
     "name": "stdout",
     "output_type": "stream",
     "text": [
      "p-value:  1.6396969942407146e-07\n"
     ]
    }
   ],
   "source": [
    "alpha = 0.05 \n",
    "\n",
    "results = st.ttest_ind(df_final[df_final['plan']=='ultimate']['pag_do_mes'], df_final[df_final['plan']=='surf']['pag_do_mes'],nan_policy = 'omit')\n",
    "\n",
    "print('p-value: ', results.pvalue)"
   ]
  },
  {
   "cell_type": "code",
   "execution_count": 61,
   "metadata": {},
   "outputs": [
    {
     "name": "stdout",
     "output_type": "stream",
     "text": [
      "p-value:  1.6396969942407146e-07\n",
      "Rejeitamos a hipótese nula\n"
     ]
    }
   ],
   "source": [
    "alpha = 0.05 \n",
    "\n",
    "results = st.ttest_ind(df_final[df_final['plan']=='ultimate']['pag_do_mes'], df_final[df_final['plan']=='surf']['pag_do_mes'],equal_var=True,nan_policy = 'omit')\n",
    "\n",
    "print('p-value: ', results.pvalue)\n",
    "\n",
    "if results.pvalue < alpha:\n",
    "    print(\"Rejeitamos a hipótese nula\")\n",
    "else:\n",
    "    print(\"Nós não podemos rejeitar a hipótese nula\") "
   ]
  },
  {
   "cell_type": "code",
   "execution_count": 66,
   "metadata": {},
   "outputs": [
    {
     "data": {
      "text/plain": [
       "0       70.0\n",
       "19      70.0\n",
       "20      84.0\n",
       "26      70.0\n",
       "27      70.0\n",
       "        ... \n",
       "2242     NaN\n",
       "2243     NaN\n",
       "2244     NaN\n",
       "2245     NaN\n",
       "2261    70.0\n",
       "Name: pag_do_mes, Length: 719, dtype: float64"
      ]
     },
     "execution_count": 66,
     "metadata": {},
     "output_type": "execute_result"
    }
   ],
   "source": [
    "df_final[df_final['plan']=='ultimate']['pag_do_mes']"
   ]
  },
  {
   "cell_type": "markdown",
   "metadata": {},
   "source": [
    "[Podemos ver que a diferença entre a escolha de planos não é puramente financeira, não se limitando a usários com rendas mais altas escolherem o plano mais caro. Podemos imaginar outros fatores mais importantes como a interface do app, a quanto de musica o usuário escuta mensalmente, etc...]"
   ]
  },
  {
   "cell_type": "markdown",
   "metadata": {},
   "source": [
    "<div class=\"alert alert-block alert-info\">\n",
    "<b> Alteração feita .</b> <a class=\"tocSkip\"></a>\n",
    "</div>"
   ]
  },
  {
   "cell_type": "markdown",
   "metadata": {},
   "source": [
    "<div class=\"alert alert-block alert-danger\">\n",
    "<b> Comentário geral do revisor </b> <a class=\"tocSkip\"></a>\n",
    "\n",
    "<s>O teste de hipotese ficou muito bom. Destaco apenas que é fundamental você escrever quais são as hipoteses nulas e as hipoteses alternativas.\n",
    "    \n",
    "Outro ponto é que você pode ajustar o parametro `equal_var` de acordo com a analise da variancia, ou seja, depois de calcular as variancias (o que voce fez anteriormente) voce considera que as variâncias das populações estatísticas das quais as amostras são tiradas sejam aproximadamente iguais? Se sim, você deixa equal_var = True, se não você ajusta para equal_var = False\n",
    "    \n",
    "</div>"
   ]
  },
  {
   "cell_type": "markdown",
   "metadata": {},
   "source": [
    "## Hipótese 2: A receita média dos usuários da área de NY-NJ é diferente dos usuários de outras regiões."
   ]
  },
  {
   "cell_type": "markdown",
   "metadata": {},
   "source": [
    "Aqui a hipotese nula será: a receita média entre os usuários da área de NY-NJ é diferente da receitas dos usuários de outras localidades.Nossa hipótese alternativa será: A receita dos usuários de NY-NJ não é diferente da dos outros usuários. "
   ]
  },
  {
   "cell_type": "code",
   "execution_count": 62,
   "metadata": {},
   "outputs": [],
   "source": [
    "df_city_NYNJ = df_final[df_final['city'] == 'New York-Newark-Jersey City, NY-NJ-PA MSA']\n"
   ]
  },
  {
   "cell_type": "code",
   "execution_count": 63,
   "metadata": {},
   "outputs": [],
   "source": [
    "df_city_S_NYNJ = df_final[df_final['city'] != 'New York-Newark-Jersey City, NY-NJ-PA MSA']\n"
   ]
  },
  {
   "cell_type": "code",
   "execution_count": 64,
   "metadata": {},
   "outputs": [
    {
     "name": "stdout",
     "output_type": "stream",
     "text": [
      "p-value:  0.06490327046136243\n"
     ]
    }
   ],
   "source": [
    "alpha = 0.05 \n",
    "\n",
    "sample_1 = df_city_NYNJ[df_city_NYNJ['plan']=='ultimate']['pag_do_mes']\n",
    "sample_2 = df_city_S_NYNJ[df_city_S_NYNJ['plan']=='surf']['pag_do_mes']\n",
    "\n",
    "results = st.ttest_ind(sample_1,sample_2,nan_policy = 'omit')\n",
    "\n",
    "print('p-value: ', results.pvalue)\n"
   ]
  },
  {
   "cell_type": "code",
   "execution_count": 65,
   "metadata": {},
   "outputs": [
    {
     "name": "stdout",
     "output_type": "stream",
     "text": [
      "p-value:  0.06490327046136243\n",
      "Nós não podemos rejeitar a hipótese nula\n"
     ]
    }
   ],
   "source": [
    "alpha = 0.05 \n",
    "\n",
    "sample_1 = df_city_NYNJ[df_city_NYNJ['plan']=='ultimate']['pag_do_mes']\n",
    "sample_2 = df_city_S_NYNJ[df_city_S_NYNJ['plan']=='surf']['pag_do_mes']\n",
    "\n",
    "results = st.ttest_ind(sample_1,sample_2,equal_var=True,nan_policy = 'omit')\n",
    "\n",
    "print('p-value: ', results.pvalue)\n",
    "\n",
    "if results.pvalue < alpha:\n",
    "    print(\"Rejeitamos a hipótese nula\")\n",
    "else:\n",
    "    print(\"Nós não podemos rejeitar a hipótese nula\")                                                                                                    \n",
    "                                                                                                     "
   ]
  },
  {
   "cell_type": "markdown",
   "metadata": {},
   "source": [
    "[Dessa forma podemos ver que aparentemente existe sim uma diferença na receita média entre os usuários da região de NY-NJ e os demais usuários. Podemos commoação complementar verificar em um grafico essa diferença para visualizar se são usuários co uma renda maior ou menor que os demais.]"
   ]
  },
  {
   "cell_type": "code",
   "execution_count": null,
   "metadata": {},
   "outputs": [],
   "source": []
  }
 ],
 "metadata": {
  "ExecuteTimeLog": [
   {
    "duration": 373,
    "start_time": "2022-08-31T13:43:03.328Z"
   },
   {
    "duration": 411,
    "start_time": "2022-08-31T13:44:06.519Z"
   },
   {
    "duration": 921,
    "start_time": "2022-08-31T13:52:47.567Z"
   },
   {
    "duration": 61,
    "start_time": "2022-08-31T13:53:06.716Z"
   },
   {
    "duration": 125,
    "start_time": "2022-08-31T13:53:23.651Z"
   },
   {
    "duration": 19,
    "start_time": "2022-08-31T13:53:30.711Z"
   },
   {
    "duration": 151,
    "start_time": "2022-08-31T13:53:44.331Z"
   },
   {
    "duration": 120,
    "start_time": "2022-08-31T13:53:51.214Z"
   },
   {
    "duration": 50,
    "start_time": "2022-08-31T13:54:02.950Z"
   },
   {
    "duration": 231,
    "start_time": "2022-08-31T13:54:10.798Z"
   },
   {
    "duration": 339,
    "start_time": "2022-08-31T13:54:16.322Z"
   },
   {
    "duration": 825,
    "start_time": "2022-08-31T13:54:40.744Z"
   },
   {
    "duration": 313,
    "start_time": "2022-08-31T13:54:42.372Z"
   },
   {
    "duration": 22,
    "start_time": "2022-08-31T14:03:02.332Z"
   },
   {
    "duration": 20,
    "start_time": "2022-08-31T14:03:59.725Z"
   },
   {
    "duration": 14,
    "start_time": "2022-08-31T14:04:09.354Z"
   },
   {
    "duration": 11,
    "start_time": "2022-08-31T14:04:25.689Z"
   },
   {
    "duration": 10,
    "start_time": "2022-08-31T14:04:35.612Z"
   },
   {
    "duration": 14,
    "start_time": "2022-08-31T14:14:51.853Z"
   },
   {
    "duration": 11,
    "start_time": "2022-08-31T14:20:18.843Z"
   },
   {
    "duration": 9,
    "start_time": "2022-08-31T15:38:45.126Z"
   },
   {
    "duration": 1531,
    "start_time": "2022-08-31T15:40:04.371Z"
   },
   {
    "duration": 26,
    "start_time": "2022-08-31T15:40:19.249Z"
   },
   {
    "duration": 4,
    "start_time": "2022-08-31T15:54:21.469Z"
   },
   {
    "duration": 2,
    "start_time": "2022-08-31T15:55:51.137Z"
   },
   {
    "duration": 8,
    "start_time": "2022-08-31T15:56:15.784Z"
   },
   {
    "duration": 8,
    "start_time": "2022-08-31T15:56:24.261Z"
   },
   {
    "duration": 6,
    "start_time": "2022-08-31T15:56:46.315Z"
   },
   {
    "duration": 9,
    "start_time": "2022-08-31T15:56:50.483Z"
   },
   {
    "duration": 10,
    "start_time": "2022-08-31T16:04:41.622Z"
   },
   {
    "duration": 8,
    "start_time": "2022-08-31T17:31:43.741Z"
   },
   {
    "duration": 9,
    "start_time": "2022-08-31T17:31:47.775Z"
   },
   {
    "duration": 16,
    "start_time": "2022-08-31T17:32:28.892Z"
   },
   {
    "duration": 21,
    "start_time": "2022-08-31T17:41:07.409Z"
   },
   {
    "duration": 743,
    "start_time": "2022-08-31T17:41:27.147Z"
   },
   {
    "duration": 11,
    "start_time": "2022-08-31T17:41:41.909Z"
   },
   {
    "duration": 13,
    "start_time": "2022-08-31T17:41:50.633Z"
   },
   {
    "duration": 9,
    "start_time": "2022-08-31T17:43:10.849Z"
   },
   {
    "duration": 9,
    "start_time": "2022-08-31T17:43:27.290Z"
   },
   {
    "duration": 9,
    "start_time": "2022-08-31T17:43:45.644Z"
   },
   {
    "duration": 5,
    "start_time": "2022-08-31T17:45:16.219Z"
   },
   {
    "duration": 842,
    "start_time": "2022-08-31T20:09:17.972Z"
   },
   {
    "duration": 1309,
    "start_time": "2022-08-31T20:09:18.816Z"
   },
   {
    "duration": 8,
    "start_time": "2022-08-31T20:09:20.126Z"
   },
   {
    "duration": 36,
    "start_time": "2022-08-31T20:09:20.135Z"
   },
   {
    "duration": 14,
    "start_time": "2022-08-31T20:09:20.173Z"
   },
   {
    "duration": 29,
    "start_time": "2022-08-31T20:09:20.188Z"
   },
   {
    "duration": 19,
    "start_time": "2022-08-31T20:09:20.218Z"
   },
   {
    "duration": 26,
    "start_time": "2022-08-31T20:09:20.239Z"
   },
   {
    "duration": 36,
    "start_time": "2022-08-31T20:09:20.266Z"
   },
   {
    "duration": 23,
    "start_time": "2022-08-31T20:09:20.303Z"
   },
   {
    "duration": 14,
    "start_time": "2022-08-31T20:09:20.328Z"
   },
   {
    "duration": 27,
    "start_time": "2022-08-31T20:09:20.343Z"
   },
   {
    "duration": 26,
    "start_time": "2022-08-31T20:09:20.371Z"
   },
   {
    "duration": 15,
    "start_time": "2022-08-31T20:09:20.399Z"
   },
   {
    "duration": 24,
    "start_time": "2022-08-31T20:09:20.415Z"
   },
   {
    "duration": 12,
    "start_time": "2022-08-31T20:09:20.440Z"
   },
   {
    "duration": 24,
    "start_time": "2022-08-31T20:09:20.454Z"
   },
   {
    "duration": 15,
    "start_time": "2022-08-31T20:09:20.480Z"
   },
   {
    "duration": 7,
    "start_time": "2022-08-31T20:09:25.045Z"
   },
   {
    "duration": 4,
    "start_time": "2022-08-31T20:09:44.910Z"
   },
   {
    "duration": 8,
    "start_time": "2022-08-31T20:10:29.527Z"
   },
   {
    "duration": 88,
    "start_time": "2022-08-31T20:13:45.651Z"
   },
   {
    "duration": 7,
    "start_time": "2022-08-31T20:13:52.587Z"
   },
   {
    "duration": 7,
    "start_time": "2022-08-31T20:17:52.760Z"
   },
   {
    "duration": 7,
    "start_time": "2022-08-31T20:18:08.539Z"
   },
   {
    "duration": 7,
    "start_time": "2022-08-31T20:18:13.342Z"
   },
   {
    "duration": 924,
    "start_time": "2022-08-31T20:18:52.245Z"
   },
   {
    "duration": 17,
    "start_time": "2022-08-31T20:19:45.837Z"
   },
   {
    "duration": 9,
    "start_time": "2022-08-31T20:25:04.959Z"
   },
   {
    "duration": 7,
    "start_time": "2022-08-31T20:26:51.427Z"
   },
   {
    "duration": 8,
    "start_time": "2022-08-31T20:26:57.794Z"
   },
   {
    "duration": 7,
    "start_time": "2022-08-31T20:27:49.522Z"
   },
   {
    "duration": 28,
    "start_time": "2022-08-31T20:28:13.985Z"
   },
   {
    "duration": 8,
    "start_time": "2022-08-31T20:30:27.025Z"
   },
   {
    "duration": 26,
    "start_time": "2022-08-31T20:31:07.426Z"
   },
   {
    "duration": 7,
    "start_time": "2022-08-31T20:32:03.483Z"
   },
   {
    "duration": 13,
    "start_time": "2022-08-31T20:32:03.634Z"
   },
   {
    "duration": 3,
    "start_time": "2022-08-31T20:32:03.788Z"
   },
   {
    "duration": 7,
    "start_time": "2022-08-31T20:32:04.078Z"
   },
   {
    "duration": 12,
    "start_time": "2022-08-31T20:32:04.201Z"
   },
   {
    "duration": 7,
    "start_time": "2022-08-31T20:32:04.502Z"
   },
   {
    "duration": 17,
    "start_time": "2022-08-31T20:32:04.634Z"
   },
   {
    "duration": 8,
    "start_time": "2022-08-31T20:32:04.775Z"
   },
   {
    "duration": 13,
    "start_time": "2022-08-31T20:32:04.923Z"
   },
   {
    "duration": 4,
    "start_time": "2022-08-31T20:32:05.057Z"
   },
   {
    "duration": 26,
    "start_time": "2022-08-31T20:32:05.343Z"
   },
   {
    "duration": 8,
    "start_time": "2022-08-31T20:32:05.489Z"
   },
   {
    "duration": 38,
    "start_time": "2022-08-31T20:32:05.762Z"
   },
   {
    "duration": 20,
    "start_time": "2022-08-31T20:34:45.828Z"
   },
   {
    "duration": 15,
    "start_time": "2022-08-31T20:35:18.918Z"
   },
   {
    "duration": 16,
    "start_time": "2022-08-31T20:46:52.771Z"
   },
   {
    "duration": 47,
    "start_time": "2022-09-01T12:50:23.122Z"
   },
   {
    "duration": 804,
    "start_time": "2022-09-01T12:50:35.431Z"
   },
   {
    "duration": 823,
    "start_time": "2022-09-01T12:50:36.236Z"
   },
   {
    "duration": 7,
    "start_time": "2022-09-01T12:50:37.060Z"
   },
   {
    "duration": 20,
    "start_time": "2022-09-01T12:50:37.069Z"
   },
   {
    "duration": 15,
    "start_time": "2022-09-01T12:50:37.090Z"
   },
   {
    "duration": 13,
    "start_time": "2022-09-01T12:50:37.106Z"
   },
   {
    "duration": 9,
    "start_time": "2022-09-01T12:50:37.120Z"
   },
   {
    "duration": 8,
    "start_time": "2022-09-01T12:50:37.130Z"
   },
   {
    "duration": 10,
    "start_time": "2022-09-01T12:50:37.140Z"
   },
   {
    "duration": 20,
    "start_time": "2022-09-01T12:50:37.152Z"
   },
   {
    "duration": 3,
    "start_time": "2022-09-01T12:50:37.174Z"
   },
   {
    "duration": 8,
    "start_time": "2022-09-01T12:50:37.179Z"
   },
   {
    "duration": 18,
    "start_time": "2022-09-01T12:50:37.211Z"
   },
   {
    "duration": 7,
    "start_time": "2022-09-01T12:50:37.230Z"
   },
   {
    "duration": 14,
    "start_time": "2022-09-01T12:50:37.238Z"
   },
   {
    "duration": 80,
    "start_time": "2022-09-01T12:50:37.254Z"
   },
   {
    "duration": 0,
    "start_time": "2022-09-01T12:50:37.336Z"
   },
   {
    "duration": 0,
    "start_time": "2022-09-01T12:50:37.336Z"
   },
   {
    "duration": 0,
    "start_time": "2022-09-01T12:50:37.337Z"
   },
   {
    "duration": 0,
    "start_time": "2022-09-01T12:50:37.338Z"
   },
   {
    "duration": 7,
    "start_time": "2022-09-01T13:00:44.267Z"
   },
   {
    "duration": 7,
    "start_time": "2022-09-01T13:00:48.466Z"
   },
   {
    "duration": 22,
    "start_time": "2022-09-01T13:01:29.991Z"
   },
   {
    "duration": 15,
    "start_time": "2022-09-01T13:01:30.663Z"
   },
   {
    "duration": 10,
    "start_time": "2022-09-01T13:01:31.319Z"
   },
   {
    "duration": 19,
    "start_time": "2022-09-01T13:01:40.664Z"
   },
   {
    "duration": 23,
    "start_time": "2022-09-01T13:01:50.366Z"
   },
   {
    "duration": 15,
    "start_time": "2022-09-01T13:02:04.805Z"
   },
   {
    "duration": 1090,
    "start_time": "2022-09-01T13:03:05.485Z"
   },
   {
    "duration": 4,
    "start_time": "2022-09-01T13:03:06.637Z"
   },
   {
    "duration": 13,
    "start_time": "2022-09-01T13:03:07.763Z"
   },
   {
    "duration": 12,
    "start_time": "2022-09-01T13:03:44.497Z"
   },
   {
    "duration": 37,
    "start_time": "2022-09-01T13:03:47.550Z"
   },
   {
    "duration": 29,
    "start_time": "2022-09-01T13:05:06.025Z"
   },
   {
    "duration": 25,
    "start_time": "2022-09-01T13:05:43.929Z"
   },
   {
    "duration": 9,
    "start_time": "2022-09-01T13:06:55.557Z"
   },
   {
    "duration": 26,
    "start_time": "2022-09-01T13:07:08.399Z"
   },
   {
    "duration": 7,
    "start_time": "2022-09-01T13:08:06.230Z"
   },
   {
    "duration": 10,
    "start_time": "2022-09-01T13:08:07.314Z"
   },
   {
    "duration": 9,
    "start_time": "2022-09-01T13:08:07.667Z"
   },
   {
    "duration": 4,
    "start_time": "2022-09-01T13:08:11.753Z"
   },
   {
    "duration": 22,
    "start_time": "2022-09-01T13:14:30.967Z"
   },
   {
    "duration": 20,
    "start_time": "2022-09-01T13:14:36.049Z"
   },
   {
    "duration": 27,
    "start_time": "2022-09-01T13:27:31.935Z"
   },
   {
    "duration": 18,
    "start_time": "2022-09-01T13:27:40.590Z"
   },
   {
    "duration": 23,
    "start_time": "2022-09-01T13:27:48.096Z"
   },
   {
    "duration": 36,
    "start_time": "2022-09-01T13:27:52.391Z"
   },
   {
    "duration": 21,
    "start_time": "2022-09-01T13:28:43.331Z"
   },
   {
    "duration": 22,
    "start_time": "2022-09-01T14:05:26.145Z"
   },
   {
    "duration": 39,
    "start_time": "2022-09-01T14:07:27.146Z"
   },
   {
    "duration": 266,
    "start_time": "2022-09-01T14:10:58.656Z"
   },
   {
    "duration": 35,
    "start_time": "2022-09-01T14:11:10.245Z"
   },
   {
    "duration": 33,
    "start_time": "2022-09-01T14:21:21.621Z"
   },
   {
    "duration": 30,
    "start_time": "2022-09-01T14:21:29.750Z"
   },
   {
    "duration": 35,
    "start_time": "2022-09-01T14:21:52.553Z"
   },
   {
    "duration": 31,
    "start_time": "2022-09-01T14:22:03.141Z"
   },
   {
    "duration": 28,
    "start_time": "2022-09-01T14:22:19.326Z"
   },
   {
    "duration": 27,
    "start_time": "2022-09-01T14:22:23.212Z"
   },
   {
    "duration": 4,
    "start_time": "2022-09-01T14:57:34.295Z"
   },
   {
    "duration": 3,
    "start_time": "2022-09-01T14:57:41.569Z"
   },
   {
    "duration": 13,
    "start_time": "2022-09-01T14:57:50.505Z"
   },
   {
    "duration": 4,
    "start_time": "2022-09-01T14:57:51.324Z"
   },
   {
    "duration": 5,
    "start_time": "2022-09-01T14:57:56.652Z"
   },
   {
    "duration": 6,
    "start_time": "2022-09-01T14:58:03.665Z"
   },
   {
    "duration": 6,
    "start_time": "2022-09-01T14:58:16.226Z"
   },
   {
    "duration": 20,
    "start_time": "2022-09-01T14:59:21.671Z"
   },
   {
    "duration": 30,
    "start_time": "2022-09-01T15:03:32.628Z"
   },
   {
    "duration": 7,
    "start_time": "2022-09-01T15:04:35.547Z"
   },
   {
    "duration": 7,
    "start_time": "2022-09-01T15:04:44.880Z"
   },
   {
    "duration": 18,
    "start_time": "2022-09-01T15:04:46.324Z"
   },
   {
    "duration": 33,
    "start_time": "2022-09-01T15:05:32.242Z"
   },
   {
    "duration": 308,
    "start_time": "2022-09-01T15:05:43.484Z"
   },
   {
    "duration": 24,
    "start_time": "2022-09-01T15:06:06.855Z"
   },
   {
    "duration": 12,
    "start_time": "2022-09-01T15:06:34.470Z"
   },
   {
    "duration": 6,
    "start_time": "2022-09-01T15:10:38.678Z"
   },
   {
    "duration": 16,
    "start_time": "2022-09-01T15:10:39.304Z"
   },
   {
    "duration": 7,
    "start_time": "2022-09-01T15:10:39.797Z"
   },
   {
    "duration": 15,
    "start_time": "2022-09-01T15:10:40.409Z"
   },
   {
    "duration": 12,
    "start_time": "2022-09-01T15:10:51.646Z"
   },
   {
    "duration": 18,
    "start_time": "2022-09-01T15:11:05.471Z"
   },
   {
    "duration": 10,
    "start_time": "2022-09-01T15:11:38.825Z"
   },
   {
    "duration": 11,
    "start_time": "2022-09-01T15:11:54.032Z"
   },
   {
    "duration": 2,
    "start_time": "2022-09-01T15:19:21.541Z"
   },
   {
    "duration": 23,
    "start_time": "2022-09-01T15:21:02.900Z"
   },
   {
    "duration": 4,
    "start_time": "2022-09-01T15:33:42.530Z"
   },
   {
    "duration": 3,
    "start_time": "2022-09-01T15:33:43.262Z"
   },
   {
    "duration": 3,
    "start_time": "2022-09-01T15:33:44.504Z"
   },
   {
    "duration": 25,
    "start_time": "2022-09-01T15:33:45.505Z"
   },
   {
    "duration": 7,
    "start_time": "2022-09-01T15:34:17.424Z"
   },
   {
    "duration": 19,
    "start_time": "2022-09-01T15:35:49.435Z"
   },
   {
    "duration": 7,
    "start_time": "2022-09-01T15:36:25.300Z"
   },
   {
    "duration": 10,
    "start_time": "2022-09-01T15:36:29.230Z"
   },
   {
    "duration": 5,
    "start_time": "2022-09-01T15:36:34.924Z"
   },
   {
    "duration": 25,
    "start_time": "2022-09-01T15:39:13.424Z"
   },
   {
    "duration": 4,
    "start_time": "2022-09-01T15:39:21.296Z"
   },
   {
    "duration": 31,
    "start_time": "2022-09-01T15:39:25.263Z"
   },
   {
    "duration": 20,
    "start_time": "2022-09-01T15:39:31.803Z"
   },
   {
    "duration": 7,
    "start_time": "2022-09-01T15:40:15.124Z"
   },
   {
    "duration": 9,
    "start_time": "2022-09-01T15:40:27.674Z"
   },
   {
    "duration": 848,
    "start_time": "2022-09-01T15:42:25.077Z"
   },
   {
    "duration": 52,
    "start_time": "2022-09-01T15:43:44.910Z"
   },
   {
    "duration": 5,
    "start_time": "2022-09-01T15:43:48.188Z"
   },
   {
    "duration": 751,
    "start_time": "2022-09-01T15:43:55.269Z"
   },
   {
    "duration": 304,
    "start_time": "2022-09-01T15:43:56.022Z"
   },
   {
    "duration": 9,
    "start_time": "2022-09-01T15:43:56.327Z"
   },
   {
    "duration": 20,
    "start_time": "2022-09-01T15:43:56.337Z"
   },
   {
    "duration": 15,
    "start_time": "2022-09-01T15:43:56.359Z"
   },
   {
    "duration": 14,
    "start_time": "2022-09-01T15:43:56.376Z"
   },
   {
    "duration": 9,
    "start_time": "2022-09-01T15:43:56.392Z"
   },
   {
    "duration": 11,
    "start_time": "2022-09-01T15:43:56.418Z"
   },
   {
    "duration": 6,
    "start_time": "2022-09-01T15:43:56.430Z"
   },
   {
    "duration": 24,
    "start_time": "2022-09-01T15:43:56.437Z"
   },
   {
    "duration": 17,
    "start_time": "2022-09-01T15:43:56.463Z"
   },
   {
    "duration": 13,
    "start_time": "2022-09-01T15:43:56.482Z"
   },
   {
    "duration": 27,
    "start_time": "2022-09-01T15:43:56.496Z"
   },
   {
    "duration": 14,
    "start_time": "2022-09-01T15:43:56.525Z"
   },
   {
    "duration": 10,
    "start_time": "2022-09-01T15:43:56.540Z"
   },
   {
    "duration": 8,
    "start_time": "2022-09-01T15:43:56.552Z"
   },
   {
    "duration": 34,
    "start_time": "2022-09-01T15:43:56.562Z"
   },
   {
    "duration": 34,
    "start_time": "2022-09-01T15:43:56.597Z"
   },
   {
    "duration": 21,
    "start_time": "2022-09-01T15:43:56.632Z"
   },
   {
    "duration": 19,
    "start_time": "2022-09-01T15:43:56.655Z"
   },
   {
    "duration": 26,
    "start_time": "2022-09-01T15:43:56.675Z"
   },
   {
    "duration": 14,
    "start_time": "2022-09-01T15:44:00.279Z"
   },
   {
    "duration": 3,
    "start_time": "2022-09-01T15:44:01.900Z"
   },
   {
    "duration": 3,
    "start_time": "2022-09-01T15:44:02.730Z"
   },
   {
    "duration": 3,
    "start_time": "2022-09-01T15:44:06.004Z"
   },
   {
    "duration": 8,
    "start_time": "2022-09-01T15:44:14.237Z"
   },
   {
    "duration": 3,
    "start_time": "2022-09-01T15:44:26.164Z"
   },
   {
    "duration": 9,
    "start_time": "2022-09-01T15:44:28.228Z"
   },
   {
    "duration": 3,
    "start_time": "2022-09-01T15:44:31.395Z"
   },
   {
    "duration": 8,
    "start_time": "2022-09-01T15:44:33.529Z"
   },
   {
    "duration": 3,
    "start_time": "2022-09-01T15:44:42.284Z"
   },
   {
    "duration": 34,
    "start_time": "2022-09-01T15:44:43.754Z"
   },
   {
    "duration": 11,
    "start_time": "2022-09-01T15:44:47.436Z"
   },
   {
    "duration": 2,
    "start_time": "2022-09-01T16:21:40.330Z"
   },
   {
    "duration": 3,
    "start_time": "2022-09-01T16:34:10.801Z"
   },
   {
    "duration": 28,
    "start_time": "2022-09-01T16:34:11.701Z"
   },
   {
    "duration": 3,
    "start_time": "2022-09-01T16:42:58.375Z"
   },
   {
    "duration": 35,
    "start_time": "2022-09-01T16:42:59.244Z"
   },
   {
    "duration": 54,
    "start_time": "2022-09-01T16:43:15.298Z"
   },
   {
    "duration": 12,
    "start_time": "2022-09-01T16:43:19.128Z"
   },
   {
    "duration": 3,
    "start_time": "2022-09-01T16:45:00.304Z"
   },
   {
    "duration": 31,
    "start_time": "2022-09-01T16:45:01.054Z"
   },
   {
    "duration": 12,
    "start_time": "2022-09-01T16:45:01.848Z"
   },
   {
    "duration": 9,
    "start_time": "2022-09-01T16:53:12.117Z"
   },
   {
    "duration": 12,
    "start_time": "2022-09-01T16:53:33.219Z"
   },
   {
    "duration": 11,
    "start_time": "2022-09-01T18:02:21.550Z"
   },
   {
    "duration": 11,
    "start_time": "2022-09-01T18:02:29.151Z"
   },
   {
    "duration": 3,
    "start_time": "2022-09-01T18:03:27.693Z"
   },
   {
    "duration": 10,
    "start_time": "2022-09-01T18:03:32.633Z"
   },
   {
    "duration": 3,
    "start_time": "2022-09-01T18:52:06.673Z"
   },
   {
    "duration": 33,
    "start_time": "2022-09-01T18:52:08.046Z"
   },
   {
    "duration": 2,
    "start_time": "2022-09-01T18:52:08.919Z"
   },
   {
    "duration": 11,
    "start_time": "2022-09-01T18:52:09.860Z"
   },
   {
    "duration": 4,
    "start_time": "2022-09-01T19:28:15.347Z"
   },
   {
    "duration": 12,
    "start_time": "2022-09-01T19:28:21.460Z"
   },
   {
    "duration": 11,
    "start_time": "2022-09-01T19:28:54.272Z"
   },
   {
    "duration": 6,
    "start_time": "2022-09-01T19:28:58.448Z"
   },
   {
    "duration": 5,
    "start_time": "2022-09-01T19:29:06.524Z"
   },
   {
    "duration": 61,
    "start_time": "2022-09-01T19:29:39.116Z"
   },
   {
    "duration": 4,
    "start_time": "2022-09-01T19:29:50.912Z"
   },
   {
    "duration": 9,
    "start_time": "2022-09-01T19:30:05.627Z"
   },
   {
    "duration": 16,
    "start_time": "2022-09-01T19:30:09.963Z"
   },
   {
    "duration": 13,
    "start_time": "2022-09-01T19:30:20.063Z"
   },
   {
    "duration": 9,
    "start_time": "2022-09-01T19:31:05.671Z"
   },
   {
    "duration": 9,
    "start_time": "2022-09-01T19:31:10.719Z"
   },
   {
    "duration": 3,
    "start_time": "2022-09-01T19:31:28.754Z"
   },
   {
    "duration": 12,
    "start_time": "2022-09-01T19:32:13.995Z"
   },
   {
    "duration": 4,
    "start_time": "2022-09-01T19:32:26.587Z"
   },
   {
    "duration": 3,
    "start_time": "2022-09-01T19:36:00.156Z"
   },
   {
    "duration": 25,
    "start_time": "2022-09-01T19:36:00.928Z"
   },
   {
    "duration": 3,
    "start_time": "2022-09-01T19:36:01.698Z"
   },
   {
    "duration": 26,
    "start_time": "2022-09-01T19:36:02.576Z"
   },
   {
    "duration": 3,
    "start_time": "2022-09-01T19:36:03.294Z"
   },
   {
    "duration": 1434,
    "start_time": "2022-09-01T19:36:03.952Z"
   },
   {
    "duration": 0,
    "start_time": "2022-09-01T19:36:05.387Z"
   },
   {
    "duration": 3,
    "start_time": "2022-09-01T19:36:23.288Z"
   },
   {
    "duration": 1020,
    "start_time": "2022-09-01T19:36:24.456Z"
   },
   {
    "duration": 3,
    "start_time": "2022-09-01T19:36:48.078Z"
   },
   {
    "duration": 26,
    "start_time": "2022-09-01T19:36:48.556Z"
   },
   {
    "duration": 3,
    "start_time": "2022-09-01T19:36:56.892Z"
   },
   {
    "duration": 14,
    "start_time": "2022-09-01T19:36:57.380Z"
   },
   {
    "duration": 3,
    "start_time": "2022-09-01T19:37:45.512Z"
   },
   {
    "duration": 14,
    "start_time": "2022-09-01T19:37:47.574Z"
   },
   {
    "duration": 3,
    "start_time": "2022-09-01T19:38:17.833Z"
   },
   {
    "duration": 34,
    "start_time": "2022-09-01T19:38:18.463Z"
   },
   {
    "duration": 17,
    "start_time": "2022-09-01T19:38:23.196Z"
   },
   {
    "duration": 24,
    "start_time": "2022-09-01T19:38:50.742Z"
   },
   {
    "duration": 3,
    "start_time": "2022-09-01T19:51:07.620Z"
   },
   {
    "duration": 30,
    "start_time": "2022-09-01T19:51:08.281Z"
   },
   {
    "duration": 3,
    "start_time": "2022-09-01T19:51:10.952Z"
   },
   {
    "duration": 38,
    "start_time": "2022-09-01T19:51:11.385Z"
   },
   {
    "duration": 25,
    "start_time": "2022-09-01T19:51:12.133Z"
   },
   {
    "duration": 3,
    "start_time": "2022-09-01T19:54:36.939Z"
   },
   {
    "duration": 25,
    "start_time": "2022-09-01T19:54:37.667Z"
   },
   {
    "duration": 3,
    "start_time": "2022-09-01T19:54:38.423Z"
   },
   {
    "duration": 33,
    "start_time": "2022-09-01T19:54:39.052Z"
   },
   {
    "duration": 25,
    "start_time": "2022-09-01T19:54:39.765Z"
   },
   {
    "duration": 3,
    "start_time": "2022-09-01T20:00:04.087Z"
   },
   {
    "duration": 47,
    "start_time": "2022-09-01T20:00:05.056Z"
   },
   {
    "duration": 24,
    "start_time": "2022-09-01T20:00:05.621Z"
   },
   {
    "duration": 3,
    "start_time": "2022-09-01T20:00:44.988Z"
   },
   {
    "duration": 25,
    "start_time": "2022-09-01T20:00:45.980Z"
   },
   {
    "duration": 3,
    "start_time": "2022-09-01T20:00:46.771Z"
   },
   {
    "duration": 37,
    "start_time": "2022-09-01T20:00:47.414Z"
   },
   {
    "duration": 24,
    "start_time": "2022-09-01T20:00:48.086Z"
   },
   {
    "duration": 38,
    "start_time": "2022-09-01T20:01:07.626Z"
   },
   {
    "duration": 27,
    "start_time": "2022-09-01T20:01:08.369Z"
   },
   {
    "duration": 791,
    "start_time": "2022-09-01T20:06:05.830Z"
   },
   {
    "duration": 283,
    "start_time": "2022-09-01T20:06:06.622Z"
   },
   {
    "duration": 7,
    "start_time": "2022-09-01T20:06:06.906Z"
   },
   {
    "duration": 22,
    "start_time": "2022-09-01T20:06:06.916Z"
   },
   {
    "duration": 15,
    "start_time": "2022-09-01T20:06:06.940Z"
   },
   {
    "duration": 14,
    "start_time": "2022-09-01T20:06:06.956Z"
   },
   {
    "duration": 9,
    "start_time": "2022-09-01T20:06:06.971Z"
   },
   {
    "duration": 30,
    "start_time": "2022-09-01T20:06:06.982Z"
   },
   {
    "duration": 4,
    "start_time": "2022-09-01T20:06:07.014Z"
   },
   {
    "duration": 24,
    "start_time": "2022-09-01T20:06:07.021Z"
   },
   {
    "duration": 18,
    "start_time": "2022-09-01T20:06:07.046Z"
   },
   {
    "duration": 14,
    "start_time": "2022-09-01T20:06:07.065Z"
   },
   {
    "duration": 33,
    "start_time": "2022-09-01T20:06:07.080Z"
   },
   {
    "duration": 17,
    "start_time": "2022-09-01T20:06:07.115Z"
   },
   {
    "duration": 12,
    "start_time": "2022-09-01T20:06:07.134Z"
   },
   {
    "duration": 9,
    "start_time": "2022-09-01T20:06:07.147Z"
   },
   {
    "duration": 35,
    "start_time": "2022-09-01T20:06:07.158Z"
   },
   {
    "duration": 35,
    "start_time": "2022-09-01T20:06:07.195Z"
   },
   {
    "duration": 18,
    "start_time": "2022-09-01T20:06:07.232Z"
   },
   {
    "duration": 8,
    "start_time": "2022-09-01T20:06:07.252Z"
   },
   {
    "duration": 9,
    "start_time": "2022-09-01T20:06:07.261Z"
   },
   {
    "duration": 8,
    "start_time": "2022-09-01T20:06:07.271Z"
   },
   {
    "duration": 32,
    "start_time": "2022-09-01T20:06:07.280Z"
   },
   {
    "duration": 7,
    "start_time": "2022-09-01T20:06:07.313Z"
   },
   {
    "duration": 6,
    "start_time": "2022-09-01T20:06:07.321Z"
   },
   {
    "duration": 5,
    "start_time": "2022-09-01T20:06:07.328Z"
   },
   {
    "duration": 33,
    "start_time": "2022-09-01T20:06:07.335Z"
   },
   {
    "duration": 3,
    "start_time": "2022-09-01T20:06:07.371Z"
   },
   {
    "duration": 42,
    "start_time": "2022-09-01T20:06:07.376Z"
   },
   {
    "duration": 3,
    "start_time": "2022-09-01T20:06:07.420Z"
   },
   {
    "duration": 38,
    "start_time": "2022-09-01T20:06:07.425Z"
   },
   {
    "duration": 3,
    "start_time": "2022-09-01T20:06:07.465Z"
   },
   {
    "duration": 7,
    "start_time": "2022-09-01T20:06:07.470Z"
   },
   {
    "duration": 4,
    "start_time": "2022-09-01T20:06:07.479Z"
   },
   {
    "duration": 4,
    "start_time": "2022-09-01T20:06:07.484Z"
   },
   {
    "duration": 42,
    "start_time": "2022-09-01T20:06:07.489Z"
   },
   {
    "duration": 3,
    "start_time": "2022-09-01T20:06:07.532Z"
   },
   {
    "duration": 25,
    "start_time": "2022-09-01T20:06:07.537Z"
   },
   {
    "duration": 4,
    "start_time": "2022-09-01T20:06:07.563Z"
   },
   {
    "duration": 54,
    "start_time": "2022-09-01T20:06:07.568Z"
   },
   {
    "duration": 4,
    "start_time": "2022-09-01T20:06:07.623Z"
   },
   {
    "duration": 37,
    "start_time": "2022-09-01T20:06:07.629Z"
   },
   {
    "duration": 25,
    "start_time": "2022-09-01T20:06:07.667Z"
   },
   {
    "duration": 11,
    "start_time": "2022-09-01T20:08:49.050Z"
   },
   {
    "duration": 994,
    "start_time": "2022-09-01T21:42:20.330Z"
   },
   {
    "duration": 100,
    "start_time": "2022-09-01T21:51:00.745Z"
   },
   {
    "duration": 214,
    "start_time": "2022-09-01T21:51:40.972Z"
   },
   {
    "duration": 4,
    "start_time": "2022-09-01T21:52:25.446Z"
   },
   {
    "duration": 10,
    "start_time": "2022-09-01T21:52:32.498Z"
   },
   {
    "duration": 9,
    "start_time": "2022-09-01T21:52:36.359Z"
   },
   {
    "duration": 3,
    "start_time": "2022-09-01T21:52:40.457Z"
   },
   {
    "duration": 3,
    "start_time": "2022-09-01T21:52:48.621Z"
   },
   {
    "duration": 3,
    "start_time": "2022-09-01T21:53:14.018Z"
   },
   {
    "duration": 3,
    "start_time": "2022-09-01T21:53:14.398Z"
   },
   {
    "duration": 4,
    "start_time": "2022-09-01T21:53:14.973Z"
   },
   {
    "duration": 3,
    "start_time": "2022-09-01T21:53:15.585Z"
   },
   {
    "duration": 188,
    "start_time": "2022-09-01T21:53:16.148Z"
   },
   {
    "duration": 3,
    "start_time": "2022-09-01T21:53:16.669Z"
   },
   {
    "duration": 25,
    "start_time": "2022-09-01T21:54:02.890Z"
   },
   {
    "duration": 213,
    "start_time": "2022-09-01T21:54:10.730Z"
   },
   {
    "duration": 13,
    "start_time": "2022-09-01T21:55:59.541Z"
   },
   {
    "duration": 22,
    "start_time": "2022-09-01T21:57:23.397Z"
   },
   {
    "duration": 4,
    "start_time": "2022-09-01T21:58:08.071Z"
   },
   {
    "duration": 746,
    "start_time": "2022-09-01T21:58:09.501Z"
   },
   {
    "duration": 5,
    "start_time": "2022-09-01T21:58:39.203Z"
   },
   {
    "duration": 3,
    "start_time": "2022-09-01T21:58:41.323Z"
   },
   {
    "duration": 7,
    "start_time": "2022-09-01T21:58:42.091Z"
   },
   {
    "duration": 14,
    "start_time": "2022-09-01T21:58:48.122Z"
   },
   {
    "duration": 9,
    "start_time": "2022-09-01T22:01:16.414Z"
   },
   {
    "duration": 108,
    "start_time": "2022-09-01T22:17:13.550Z"
   },
   {
    "duration": 633,
    "start_time": "2022-09-01T22:17:18.985Z"
   },
   {
    "duration": 148,
    "start_time": "2022-09-01T22:17:23.964Z"
   },
   {
    "duration": 146,
    "start_time": "2022-09-01T22:17:48.182Z"
   },
   {
    "duration": 147,
    "start_time": "2022-09-01T22:17:54.198Z"
   },
   {
    "duration": 162,
    "start_time": "2022-09-01T22:17:59.140Z"
   },
   {
    "duration": 148,
    "start_time": "2022-09-01T22:18:08.758Z"
   },
   {
    "duration": 158,
    "start_time": "2022-09-01T22:18:26.312Z"
   },
   {
    "duration": 677,
    "start_time": "2022-09-01T22:24:37.324Z"
   },
   {
    "duration": 205,
    "start_time": "2022-09-01T22:24:41.907Z"
   },
   {
    "duration": 179,
    "start_time": "2022-09-01T22:24:48.037Z"
   },
   {
    "duration": 136,
    "start_time": "2022-09-01T22:25:08.144Z"
   },
   {
    "duration": 209,
    "start_time": "2022-09-01T22:25:11.544Z"
   },
   {
    "duration": 196,
    "start_time": "2022-09-01T22:25:26.131Z"
   },
   {
    "duration": 150,
    "start_time": "2022-09-01T22:25:33.458Z"
   },
   {
    "duration": 150,
    "start_time": "2022-09-01T22:25:38.410Z"
   },
   {
    "duration": 195,
    "start_time": "2022-09-01T22:26:47.071Z"
   },
   {
    "duration": 137,
    "start_time": "2022-09-01T22:26:49.107Z"
   },
   {
    "duration": 135,
    "start_time": "2022-09-01T22:26:54.575Z"
   },
   {
    "duration": 200,
    "start_time": "2022-09-01T22:27:01.591Z"
   },
   {
    "duration": 120,
    "start_time": "2022-09-01T22:27:09.725Z"
   },
   {
    "duration": 126,
    "start_time": "2022-09-01T22:27:14.309Z"
   },
   {
    "duration": 128,
    "start_time": "2022-09-01T22:28:40.825Z"
   },
   {
    "duration": 487,
    "start_time": "2022-09-01T22:28:45.875Z"
   },
   {
    "duration": 128,
    "start_time": "2022-09-01T22:28:51.324Z"
   },
   {
    "duration": 139,
    "start_time": "2022-09-01T22:29:00.042Z"
   },
   {
    "duration": 131,
    "start_time": "2022-09-01T22:29:04.609Z"
   },
   {
    "duration": 134,
    "start_time": "2022-09-01T22:29:11.479Z"
   },
   {
    "duration": 135,
    "start_time": "2022-09-01T22:29:17.142Z"
   },
   {
    "duration": 140,
    "start_time": "2022-09-01T22:29:21.431Z"
   },
   {
    "duration": 144,
    "start_time": "2022-09-01T22:29:36.199Z"
   },
   {
    "duration": 139,
    "start_time": "2022-09-01T22:29:41.579Z"
   },
   {
    "duration": 142,
    "start_time": "2022-09-01T22:29:50.631Z"
   },
   {
    "duration": 134,
    "start_time": "2022-09-01T22:29:56.305Z"
   },
   {
    "duration": 539,
    "start_time": "2022-09-01T22:30:01.149Z"
   },
   {
    "duration": 192,
    "start_time": "2022-09-01T22:30:05.562Z"
   },
   {
    "duration": 151,
    "start_time": "2022-09-01T22:30:10.247Z"
   },
   {
    "duration": 136,
    "start_time": "2022-09-01T22:30:19.479Z"
   },
   {
    "duration": 156,
    "start_time": "2022-09-01T22:30:27.703Z"
   },
   {
    "duration": 65,
    "start_time": "2022-09-01T22:37:48.626Z"
   },
   {
    "duration": 830,
    "start_time": "2022-09-02T12:40:58.162Z"
   },
   {
    "duration": 780,
    "start_time": "2022-09-02T12:40:58.994Z"
   },
   {
    "duration": 8,
    "start_time": "2022-09-02T12:40:59.775Z"
   },
   {
    "duration": 20,
    "start_time": "2022-09-02T12:40:59.785Z"
   },
   {
    "duration": 17,
    "start_time": "2022-09-02T12:40:59.807Z"
   },
   {
    "duration": 16,
    "start_time": "2022-09-02T12:40:59.825Z"
   },
   {
    "duration": 33,
    "start_time": "2022-09-02T12:40:59.843Z"
   },
   {
    "duration": 13,
    "start_time": "2022-09-02T12:40:59.877Z"
   },
   {
    "duration": 8,
    "start_time": "2022-09-02T12:40:59.892Z"
   },
   {
    "duration": 23,
    "start_time": "2022-09-02T12:40:59.903Z"
   },
   {
    "duration": 17,
    "start_time": "2022-09-02T12:40:59.928Z"
   },
   {
    "duration": 33,
    "start_time": "2022-09-02T12:40:59.947Z"
   },
   {
    "duration": 3,
    "start_time": "2022-09-02T12:40:59.982Z"
   },
   {
    "duration": 13,
    "start_time": "2022-09-02T12:40:59.986Z"
   },
   {
    "duration": 16,
    "start_time": "2022-09-02T12:41:00.001Z"
   },
   {
    "duration": 14,
    "start_time": "2022-09-02T12:41:00.019Z"
   },
   {
    "duration": 63,
    "start_time": "2022-09-02T12:41:00.035Z"
   },
   {
    "duration": 23,
    "start_time": "2022-09-02T12:41:00.100Z"
   },
   {
    "duration": 44,
    "start_time": "2022-09-02T12:41:00.125Z"
   },
   {
    "duration": 8,
    "start_time": "2022-09-02T12:41:00.171Z"
   },
   {
    "duration": 7,
    "start_time": "2022-09-02T12:41:00.180Z"
   },
   {
    "duration": 8,
    "start_time": "2022-09-02T12:41:00.189Z"
   },
   {
    "duration": 8,
    "start_time": "2022-09-02T12:41:00.199Z"
   },
   {
    "duration": 13,
    "start_time": "2022-09-02T12:41:00.208Z"
   },
   {
    "duration": 9,
    "start_time": "2022-09-02T12:41:00.222Z"
   },
   {
    "duration": 10,
    "start_time": "2022-09-02T12:41:00.232Z"
   },
   {
    "duration": 45,
    "start_time": "2022-09-02T12:41:00.244Z"
   },
   {
    "duration": 4,
    "start_time": "2022-09-02T12:41:00.292Z"
   },
   {
    "duration": 35,
    "start_time": "2022-09-02T12:41:00.297Z"
   },
   {
    "duration": 3,
    "start_time": "2022-09-02T12:41:00.334Z"
   },
   {
    "duration": 2354,
    "start_time": "2022-09-02T12:41:00.338Z"
   },
   {
    "duration": 0,
    "start_time": "2022-09-02T12:41:02.693Z"
   },
   {
    "duration": 0,
    "start_time": "2022-09-02T12:41:02.695Z"
   },
   {
    "duration": 0,
    "start_time": "2022-09-02T12:41:02.696Z"
   },
   {
    "duration": 0,
    "start_time": "2022-09-02T12:41:02.697Z"
   },
   {
    "duration": 0,
    "start_time": "2022-09-02T12:41:02.698Z"
   },
   {
    "duration": 0,
    "start_time": "2022-09-02T12:41:02.699Z"
   },
   {
    "duration": 0,
    "start_time": "2022-09-02T12:41:02.700Z"
   },
   {
    "duration": 0,
    "start_time": "2022-09-02T12:41:02.701Z"
   },
   {
    "duration": 0,
    "start_time": "2022-09-02T12:41:02.702Z"
   },
   {
    "duration": 0,
    "start_time": "2022-09-02T12:41:02.703Z"
   },
   {
    "duration": 0,
    "start_time": "2022-09-02T12:41:02.704Z"
   },
   {
    "duration": 0,
    "start_time": "2022-09-02T12:41:02.705Z"
   },
   {
    "duration": 0,
    "start_time": "2022-09-02T12:41:02.706Z"
   },
   {
    "duration": 0,
    "start_time": "2022-09-02T12:41:02.707Z"
   },
   {
    "duration": 0,
    "start_time": "2022-09-02T12:41:02.708Z"
   },
   {
    "duration": 0,
    "start_time": "2022-09-02T12:41:02.709Z"
   },
   {
    "duration": 0,
    "start_time": "2022-09-02T12:41:02.710Z"
   },
   {
    "duration": 0,
    "start_time": "2022-09-02T12:41:02.711Z"
   },
   {
    "duration": 0,
    "start_time": "2022-09-02T12:41:02.712Z"
   },
   {
    "duration": 0,
    "start_time": "2022-09-02T12:41:02.713Z"
   },
   {
    "duration": 1515,
    "start_time": "2022-09-02T12:41:27.926Z"
   },
   {
    "duration": 5,
    "start_time": "2022-09-02T12:41:59.475Z"
   },
   {
    "duration": 1605,
    "start_time": "2022-09-02T12:42:00.192Z"
   },
   {
    "duration": 4,
    "start_time": "2022-09-02T12:42:15.888Z"
   },
   {
    "duration": 40,
    "start_time": "2022-09-02T12:42:16.462Z"
   },
   {
    "duration": 3,
    "start_time": "2022-09-02T12:42:20.882Z"
   },
   {
    "duration": 332,
    "start_time": "2022-09-02T12:42:20.887Z"
   },
   {
    "duration": 4,
    "start_time": "2022-09-02T12:42:21.221Z"
   },
   {
    "duration": 22,
    "start_time": "2022-09-02T12:42:21.227Z"
   },
   {
    "duration": 17,
    "start_time": "2022-09-02T12:42:21.250Z"
   },
   {
    "duration": 15,
    "start_time": "2022-09-02T12:42:21.268Z"
   },
   {
    "duration": 12,
    "start_time": "2022-09-02T12:42:21.284Z"
   },
   {
    "duration": 11,
    "start_time": "2022-09-02T12:42:21.298Z"
   },
   {
    "duration": 6,
    "start_time": "2022-09-02T12:42:21.312Z"
   },
   {
    "duration": 49,
    "start_time": "2022-09-02T12:42:21.319Z"
   },
   {
    "duration": 17,
    "start_time": "2022-09-02T12:42:21.370Z"
   },
   {
    "duration": 14,
    "start_time": "2022-09-02T12:42:21.388Z"
   },
   {
    "duration": 4,
    "start_time": "2022-09-02T12:42:21.403Z"
   },
   {
    "duration": 23,
    "start_time": "2022-09-02T12:42:21.410Z"
   },
   {
    "duration": 34,
    "start_time": "2022-09-02T12:42:21.435Z"
   },
   {
    "duration": 13,
    "start_time": "2022-09-02T12:42:21.471Z"
   },
   {
    "duration": 44,
    "start_time": "2022-09-02T12:42:21.486Z"
   },
   {
    "duration": 45,
    "start_time": "2022-09-02T12:42:21.532Z"
   },
   {
    "duration": 25,
    "start_time": "2022-09-02T12:42:21.579Z"
   },
   {
    "duration": 7,
    "start_time": "2022-09-02T12:42:21.605Z"
   },
   {
    "duration": 12,
    "start_time": "2022-09-02T12:42:21.614Z"
   },
   {
    "duration": 12,
    "start_time": "2022-09-02T12:42:21.628Z"
   },
   {
    "duration": 7,
    "start_time": "2022-09-02T12:42:21.642Z"
   },
   {
    "duration": 4,
    "start_time": "2022-09-02T12:42:21.668Z"
   },
   {
    "duration": 8,
    "start_time": "2022-09-02T12:42:21.673Z"
   },
   {
    "duration": 6,
    "start_time": "2022-09-02T12:42:21.683Z"
   },
   {
    "duration": 35,
    "start_time": "2022-09-02T12:42:21.690Z"
   },
   {
    "duration": 3,
    "start_time": "2022-09-02T12:42:21.727Z"
   },
   {
    "duration": 45,
    "start_time": "2022-09-02T12:42:21.732Z"
   },
   {
    "duration": 3,
    "start_time": "2022-09-02T12:42:21.778Z"
   },
   {
    "duration": 40,
    "start_time": "2022-09-02T12:42:21.783Z"
   },
   {
    "duration": 37,
    "start_time": "2022-09-02T12:42:24.244Z"
   },
   {
    "duration": 4,
    "start_time": "2022-09-02T12:42:24.282Z"
   },
   {
    "duration": 12,
    "start_time": "2022-09-02T12:42:24.287Z"
   },
   {
    "duration": 5,
    "start_time": "2022-09-02T12:42:24.301Z"
   },
   {
    "duration": 8,
    "start_time": "2022-09-02T12:42:24.307Z"
   },
   {
    "duration": 27,
    "start_time": "2022-09-02T12:42:24.316Z"
   },
   {
    "duration": 3,
    "start_time": "2022-09-02T12:42:24.345Z"
   },
   {
    "duration": 41,
    "start_time": "2022-09-02T12:42:24.350Z"
   },
   {
    "duration": 4,
    "start_time": "2022-09-02T12:42:24.392Z"
   },
   {
    "duration": 30,
    "start_time": "2022-09-02T12:42:24.398Z"
   },
   {
    "duration": 3,
    "start_time": "2022-09-02T12:42:24.430Z"
   },
   {
    "duration": 55,
    "start_time": "2022-09-02T12:42:24.434Z"
   },
   {
    "duration": 5,
    "start_time": "2022-09-02T12:42:24.490Z"
   },
   {
    "duration": 15,
    "start_time": "2022-09-02T12:42:24.496Z"
   },
   {
    "duration": 14,
    "start_time": "2022-09-02T12:42:24.512Z"
   },
   {
    "duration": 606,
    "start_time": "2022-09-02T12:42:24.527Z"
   },
   {
    "duration": 244,
    "start_time": "2022-09-02T12:42:25.134Z"
   },
   {
    "duration": 161,
    "start_time": "2022-09-02T12:42:25.380Z"
   },
   {
    "duration": 156,
    "start_time": "2022-09-02T12:42:25.543Z"
   },
   {
    "duration": 233,
    "start_time": "2022-09-02T12:42:25.700Z"
   },
   {
    "duration": 197,
    "start_time": "2022-09-02T12:42:25.934Z"
   },
   {
    "duration": 26,
    "start_time": "2022-09-02T12:45:09.763Z"
   },
   {
    "duration": 5,
    "start_time": "2022-09-02T12:45:33.277Z"
   },
   {
    "duration": 10,
    "start_time": "2022-09-02T12:46:11.276Z"
   },
   {
    "duration": 6,
    "start_time": "2022-09-02T12:46:15.304Z"
   },
   {
    "duration": 7,
    "start_time": "2022-09-02T12:46:37.889Z"
   },
   {
    "duration": 6,
    "start_time": "2022-09-02T12:46:47.297Z"
   },
   {
    "duration": 6,
    "start_time": "2022-09-02T12:46:53.823Z"
   },
   {
    "duration": 5,
    "start_time": "2022-09-02T12:47:02.815Z"
   },
   {
    "duration": 6,
    "start_time": "2022-09-02T13:02:13.306Z"
   },
   {
    "duration": 5,
    "start_time": "2022-09-02T13:02:13.813Z"
   },
   {
    "duration": 5,
    "start_time": "2022-09-02T13:02:15.113Z"
   },
   {
    "duration": 6,
    "start_time": "2022-09-02T13:02:15.579Z"
   },
   {
    "duration": 7,
    "start_time": "2022-09-02T13:02:15.993Z"
   },
   {
    "duration": 15,
    "start_time": "2022-09-02T13:06:15.058Z"
   },
   {
    "duration": 7,
    "start_time": "2022-09-02T13:08:57.656Z"
   },
   {
    "duration": 7,
    "start_time": "2022-09-02T13:27:51.637Z"
   },
   {
    "duration": 6,
    "start_time": "2022-09-02T13:28:00.756Z"
   },
   {
    "duration": 6,
    "start_time": "2022-09-02T13:28:10.819Z"
   },
   {
    "duration": 7,
    "start_time": "2022-09-02T13:28:24.597Z"
   },
   {
    "duration": 7,
    "start_time": "2022-09-02T13:30:30.894Z"
   },
   {
    "duration": 8,
    "start_time": "2022-09-02T15:15:31.064Z"
   },
   {
    "duration": 8,
    "start_time": "2022-09-02T15:15:37.159Z"
   },
   {
    "duration": 6,
    "start_time": "2022-09-02T15:17:05.128Z"
   },
   {
    "duration": 6,
    "start_time": "2022-09-02T15:17:09.360Z"
   },
   {
    "duration": 6,
    "start_time": "2022-09-02T15:20:37.254Z"
   },
   {
    "duration": 7,
    "start_time": "2022-09-02T15:20:37.538Z"
   },
   {
    "duration": 7,
    "start_time": "2022-09-02T15:20:37.769Z"
   },
   {
    "duration": 5,
    "start_time": "2022-09-02T15:25:17.110Z"
   },
   {
    "duration": 6,
    "start_time": "2022-09-02T15:25:17.342Z"
   },
   {
    "duration": 6,
    "start_time": "2022-09-02T15:25:17.526Z"
   },
   {
    "duration": 6,
    "start_time": "2022-09-02T15:25:17.734Z"
   },
   {
    "duration": 5,
    "start_time": "2022-09-02T15:25:17.922Z"
   },
   {
    "duration": 7,
    "start_time": "2022-09-02T15:25:18.117Z"
   },
   {
    "duration": 6,
    "start_time": "2022-09-02T15:32:07.047Z"
   },
   {
    "duration": 5,
    "start_time": "2022-09-02T15:32:12.100Z"
   },
   {
    "duration": 5,
    "start_time": "2022-09-02T15:32:16.188Z"
   },
   {
    "duration": 6,
    "start_time": "2022-09-02T15:32:29.748Z"
   },
   {
    "duration": 6,
    "start_time": "2022-09-02T15:32:51.311Z"
   },
   {
    "duration": 5,
    "start_time": "2022-09-02T15:32:54.678Z"
   },
   {
    "duration": 7,
    "start_time": "2022-09-02T15:33:01.154Z"
   },
   {
    "duration": 38,
    "start_time": "2022-09-02T15:34:06.696Z"
   },
   {
    "duration": 8,
    "start_time": "2022-09-02T15:34:27.583Z"
   },
   {
    "duration": 1149,
    "start_time": "2022-09-02T15:34:32.716Z"
   },
   {
    "duration": 6,
    "start_time": "2022-09-02T15:34:39.618Z"
   },
   {
    "duration": 871,
    "start_time": "2022-09-02T15:35:49.534Z"
   },
   {
    "duration": 318,
    "start_time": "2022-09-02T15:35:50.407Z"
   },
   {
    "duration": 9,
    "start_time": "2022-09-02T15:35:50.727Z"
   },
   {
    "duration": 26,
    "start_time": "2022-09-02T15:35:50.738Z"
   },
   {
    "duration": 17,
    "start_time": "2022-09-02T15:35:50.767Z"
   },
   {
    "duration": 15,
    "start_time": "2022-09-02T15:35:50.785Z"
   },
   {
    "duration": 11,
    "start_time": "2022-09-02T15:35:50.802Z"
   },
   {
    "duration": 13,
    "start_time": "2022-09-02T15:35:50.814Z"
   },
   {
    "duration": 8,
    "start_time": "2022-09-02T15:35:50.829Z"
   },
   {
    "duration": 51,
    "start_time": "2022-09-02T15:35:50.839Z"
   },
   {
    "duration": 19,
    "start_time": "2022-09-02T15:35:50.892Z"
   },
   {
    "duration": 16,
    "start_time": "2022-09-02T15:35:50.913Z"
   },
   {
    "duration": 4,
    "start_time": "2022-09-02T15:35:50.931Z"
   },
   {
    "duration": 38,
    "start_time": "2022-09-02T15:35:50.939Z"
   },
   {
    "duration": 17,
    "start_time": "2022-09-02T15:35:50.979Z"
   },
   {
    "duration": 15,
    "start_time": "2022-09-02T15:35:50.998Z"
   },
   {
    "duration": 69,
    "start_time": "2022-09-02T15:35:51.015Z"
   },
   {
    "duration": 23,
    "start_time": "2022-09-02T15:35:51.086Z"
   },
   {
    "duration": 25,
    "start_time": "2022-09-02T15:35:51.111Z"
   },
   {
    "duration": 35,
    "start_time": "2022-09-02T15:35:51.138Z"
   },
   {
    "duration": 8,
    "start_time": "2022-09-02T15:35:51.175Z"
   },
   {
    "duration": 7,
    "start_time": "2022-09-02T15:35:51.185Z"
   },
   {
    "duration": 3,
    "start_time": "2022-09-02T15:35:51.194Z"
   },
   {
    "duration": 5,
    "start_time": "2022-09-02T15:35:51.199Z"
   },
   {
    "duration": 5,
    "start_time": "2022-09-02T15:35:51.206Z"
   },
   {
    "duration": 5,
    "start_time": "2022-09-02T15:35:51.212Z"
   },
   {
    "duration": 66,
    "start_time": "2022-09-02T15:35:51.218Z"
   },
   {
    "duration": 4,
    "start_time": "2022-09-02T15:35:51.285Z"
   },
   {
    "duration": 29,
    "start_time": "2022-09-02T15:35:51.291Z"
   },
   {
    "duration": 4,
    "start_time": "2022-09-02T15:35:51.322Z"
   },
   {
    "duration": 49,
    "start_time": "2022-09-02T15:35:51.328Z"
   },
   {
    "duration": 2,
    "start_time": "2022-09-02T15:35:51.379Z"
   },
   {
    "duration": 11,
    "start_time": "2022-09-02T15:35:51.382Z"
   },
   {
    "duration": 8,
    "start_time": "2022-09-02T15:35:51.395Z"
   },
   {
    "duration": 3,
    "start_time": "2022-09-02T15:35:51.405Z"
   },
   {
    "duration": 111,
    "start_time": "2022-09-02T15:35:51.410Z"
   },
   {
    "duration": 0,
    "start_time": "2022-09-02T15:35:51.524Z"
   },
   {
    "duration": 0,
    "start_time": "2022-09-02T15:35:51.526Z"
   },
   {
    "duration": 0,
    "start_time": "2022-09-02T15:35:51.528Z"
   },
   {
    "duration": 0,
    "start_time": "2022-09-02T15:35:51.529Z"
   },
   {
    "duration": 0,
    "start_time": "2022-09-02T15:35:51.530Z"
   },
   {
    "duration": 0,
    "start_time": "2022-09-02T15:35:51.532Z"
   },
   {
    "duration": 0,
    "start_time": "2022-09-02T15:35:51.533Z"
   },
   {
    "duration": 0,
    "start_time": "2022-09-02T15:35:51.534Z"
   },
   {
    "duration": 0,
    "start_time": "2022-09-02T15:35:51.535Z"
   },
   {
    "duration": 0,
    "start_time": "2022-09-02T15:35:51.537Z"
   },
   {
    "duration": 0,
    "start_time": "2022-09-02T15:35:51.537Z"
   },
   {
    "duration": 0,
    "start_time": "2022-09-02T15:35:51.539Z"
   },
   {
    "duration": 0,
    "start_time": "2022-09-02T15:35:51.540Z"
   },
   {
    "duration": 0,
    "start_time": "2022-09-02T15:35:51.541Z"
   },
   {
    "duration": 0,
    "start_time": "2022-09-02T15:35:51.568Z"
   },
   {
    "duration": 0,
    "start_time": "2022-09-02T15:35:51.569Z"
   },
   {
    "duration": 0,
    "start_time": "2022-09-02T15:35:51.570Z"
   },
   {
    "duration": 0,
    "start_time": "2022-09-02T15:35:51.571Z"
   },
   {
    "duration": 0,
    "start_time": "2022-09-02T15:35:51.572Z"
   },
   {
    "duration": 0,
    "start_time": "2022-09-02T15:35:51.573Z"
   },
   {
    "duration": 0,
    "start_time": "2022-09-02T15:35:51.574Z"
   },
   {
    "duration": 0,
    "start_time": "2022-09-02T15:35:51.576Z"
   },
   {
    "duration": 0,
    "start_time": "2022-09-02T15:35:51.577Z"
   },
   {
    "duration": 0,
    "start_time": "2022-09-02T15:35:51.579Z"
   },
   {
    "duration": 0,
    "start_time": "2022-09-02T15:35:51.581Z"
   },
   {
    "duration": 0,
    "start_time": "2022-09-02T15:35:51.582Z"
   },
   {
    "duration": 0,
    "start_time": "2022-09-02T15:35:51.583Z"
   },
   {
    "duration": 0,
    "start_time": "2022-09-02T15:35:51.584Z"
   },
   {
    "duration": 0,
    "start_time": "2022-09-02T15:35:51.585Z"
   },
   {
    "duration": 4,
    "start_time": "2022-09-02T15:36:55.498Z"
   },
   {
    "duration": 4,
    "start_time": "2022-09-02T15:36:57.823Z"
   },
   {
    "duration": 6,
    "start_time": "2022-09-02T15:36:58.450Z"
   },
   {
    "duration": 3,
    "start_time": "2022-09-02T15:36:59.540Z"
   },
   {
    "duration": 15,
    "start_time": "2022-09-02T15:37:00.205Z"
   },
   {
    "duration": 832,
    "start_time": "2022-09-02T15:37:13.482Z"
   },
   {
    "duration": 310,
    "start_time": "2022-09-02T15:37:14.316Z"
   },
   {
    "duration": 8,
    "start_time": "2022-09-02T15:37:14.627Z"
   },
   {
    "duration": 26,
    "start_time": "2022-09-02T15:37:14.637Z"
   },
   {
    "duration": 15,
    "start_time": "2022-09-02T15:37:14.665Z"
   },
   {
    "duration": 13,
    "start_time": "2022-09-02T15:37:14.682Z"
   },
   {
    "duration": 9,
    "start_time": "2022-09-02T15:37:14.697Z"
   },
   {
    "duration": 11,
    "start_time": "2022-09-02T15:37:14.708Z"
   },
   {
    "duration": 6,
    "start_time": "2022-09-02T15:37:14.721Z"
   },
   {
    "duration": 47,
    "start_time": "2022-09-02T15:37:14.730Z"
   },
   {
    "duration": 18,
    "start_time": "2022-09-02T15:37:14.779Z"
   },
   {
    "duration": 12,
    "start_time": "2022-09-02T15:37:14.799Z"
   },
   {
    "duration": 3,
    "start_time": "2022-09-02T15:37:14.813Z"
   },
   {
    "duration": 13,
    "start_time": "2022-09-02T15:37:14.818Z"
   },
   {
    "duration": 40,
    "start_time": "2022-09-02T15:37:14.833Z"
   },
   {
    "duration": 13,
    "start_time": "2022-09-02T15:37:14.875Z"
   },
   {
    "duration": 42,
    "start_time": "2022-09-02T15:37:14.889Z"
   },
   {
    "duration": 46,
    "start_time": "2022-09-02T15:37:14.932Z"
   },
   {
    "duration": 22,
    "start_time": "2022-09-02T15:37:14.980Z"
   },
   {
    "duration": 8,
    "start_time": "2022-09-02T15:37:15.004Z"
   },
   {
    "duration": 29,
    "start_time": "2022-09-02T15:37:15.014Z"
   },
   {
    "duration": 8,
    "start_time": "2022-09-02T15:37:15.045Z"
   },
   {
    "duration": 13,
    "start_time": "2022-09-02T15:37:15.055Z"
   },
   {
    "duration": 6,
    "start_time": "2022-09-02T15:37:15.069Z"
   },
   {
    "duration": 9,
    "start_time": "2022-09-02T15:37:15.076Z"
   },
   {
    "duration": 7,
    "start_time": "2022-09-02T15:37:15.086Z"
   },
   {
    "duration": 35,
    "start_time": "2022-09-02T15:37:15.095Z"
   },
   {
    "duration": 4,
    "start_time": "2022-09-02T15:37:15.134Z"
   },
   {
    "duration": 41,
    "start_time": "2022-09-02T15:37:15.139Z"
   },
   {
    "duration": 3,
    "start_time": "2022-09-02T15:37:15.182Z"
   },
   {
    "duration": 42,
    "start_time": "2022-09-02T15:37:15.187Z"
   },
   {
    "duration": 4,
    "start_time": "2022-09-02T15:37:15.231Z"
   },
   {
    "duration": 7,
    "start_time": "2022-09-02T15:37:15.237Z"
   },
   {
    "duration": 8,
    "start_time": "2022-09-02T15:37:15.246Z"
   },
   {
    "duration": 4,
    "start_time": "2022-09-02T15:37:15.267Z"
   },
   {
    "duration": 29,
    "start_time": "2022-09-02T15:37:15.272Z"
   },
   {
    "duration": 3,
    "start_time": "2022-09-02T15:37:15.303Z"
   },
   {
    "duration": 26,
    "start_time": "2022-09-02T15:37:15.308Z"
   },
   {
    "duration": 3,
    "start_time": "2022-09-02T15:37:15.336Z"
   },
   {
    "duration": 46,
    "start_time": "2022-09-02T15:37:15.341Z"
   },
   {
    "duration": 3,
    "start_time": "2022-09-02T15:37:15.389Z"
   },
   {
    "duration": 42,
    "start_time": "2022-09-02T15:37:15.394Z"
   },
   {
    "duration": 4,
    "start_time": "2022-09-02T15:37:15.437Z"
   },
   {
    "duration": 10,
    "start_time": "2022-09-02T15:37:15.442Z"
   },
   {
    "duration": 25,
    "start_time": "2022-09-02T15:37:15.454Z"
   },
   {
    "duration": 17,
    "start_time": "2022-09-02T15:37:15.480Z"
   },
   {
    "duration": 26,
    "start_time": "2022-09-02T15:37:15.499Z"
   },
   {
    "duration": 6,
    "start_time": "2022-09-02T15:37:15.527Z"
   },
   {
    "duration": 34,
    "start_time": "2022-09-02T15:37:15.534Z"
   },
   {
    "duration": 5,
    "start_time": "2022-09-02T15:37:15.570Z"
   },
   {
    "duration": 11,
    "start_time": "2022-09-02T15:37:15.577Z"
   },
   {
    "duration": 7,
    "start_time": "2022-09-02T15:37:15.590Z"
   },
   {
    "duration": 7,
    "start_time": "2022-09-02T15:37:15.599Z"
   },
   {
    "duration": 6,
    "start_time": "2022-09-02T15:37:15.607Z"
   },
   {
    "duration": 7,
    "start_time": "2022-09-02T15:37:15.615Z"
   },
   {
    "duration": 8,
    "start_time": "2022-09-02T15:37:15.623Z"
   },
   {
    "duration": 36,
    "start_time": "2022-09-02T15:37:15.632Z"
   },
   {
    "duration": 10,
    "start_time": "2022-09-02T15:37:15.669Z"
   },
   {
    "duration": 10,
    "start_time": "2022-09-02T15:37:15.680Z"
   },
   {
    "duration": 435,
    "start_time": "2022-09-02T15:37:15.691Z"
   },
   {
    "duration": 255,
    "start_time": "2022-09-02T15:37:16.127Z"
   },
   {
    "duration": 172,
    "start_time": "2022-09-02T15:37:16.383Z"
   },
   {
    "duration": 204,
    "start_time": "2022-09-02T15:37:16.557Z"
   },
   {
    "duration": 205,
    "start_time": "2022-09-02T15:37:16.768Z"
   },
   {
    "duration": 200,
    "start_time": "2022-09-02T15:37:16.974Z"
   },
   {
    "duration": 545,
    "start_time": "2022-09-02T15:38:11.916Z"
   },
   {
    "duration": 3949,
    "start_time": "2022-09-02T15:38:19.869Z"
   },
   {
    "duration": 179,
    "start_time": "2022-09-02T15:38:38.682Z"
   },
   {
    "duration": 90,
    "start_time": "2022-09-02T15:44:44.634Z"
   },
   {
    "duration": 12,
    "start_time": "2022-09-02T15:44:50.482Z"
   },
   {
    "duration": 15,
    "start_time": "2022-09-02T15:45:04.308Z"
   },
   {
    "duration": 14,
    "start_time": "2022-09-02T15:46:09.194Z"
   },
   {
    "duration": 12,
    "start_time": "2022-09-02T15:46:19.262Z"
   },
   {
    "duration": 10,
    "start_time": "2022-09-02T16:19:28.256Z"
   },
   {
    "duration": 12,
    "start_time": "2022-09-02T18:35:18.259Z"
   },
   {
    "duration": 8,
    "start_time": "2022-09-02T18:40:02.113Z"
   },
   {
    "duration": 7,
    "start_time": "2022-09-02T18:40:24.394Z"
   },
   {
    "duration": 9,
    "start_time": "2022-09-02T18:51:03.124Z"
   },
   {
    "duration": 29,
    "start_time": "2022-09-02T18:51:08.211Z"
   },
   {
    "duration": 6,
    "start_time": "2022-09-02T18:52:18.336Z"
   },
   {
    "duration": 880,
    "start_time": "2022-09-04T17:48:17.592Z"
   },
   {
    "duration": 759,
    "start_time": "2022-09-04T17:48:18.474Z"
   },
   {
    "duration": 22,
    "start_time": "2022-09-04T17:48:19.235Z"
   },
   {
    "duration": 35,
    "start_time": "2022-09-04T17:48:19.258Z"
   },
   {
    "duration": 15,
    "start_time": "2022-09-04T17:48:19.295Z"
   },
   {
    "duration": 10,
    "start_time": "2022-09-04T17:48:19.312Z"
   },
   {
    "duration": 25,
    "start_time": "2022-09-04T17:48:19.324Z"
   },
   {
    "duration": 10,
    "start_time": "2022-09-04T17:48:19.352Z"
   },
   {
    "duration": 54,
    "start_time": "2022-09-04T17:48:19.364Z"
   },
   {
    "duration": 28,
    "start_time": "2022-09-04T17:48:19.421Z"
   },
   {
    "duration": 15,
    "start_time": "2022-09-04T17:48:19.451Z"
   },
   {
    "duration": 4,
    "start_time": "2022-09-04T17:48:19.468Z"
   },
   {
    "duration": 28,
    "start_time": "2022-09-04T17:48:19.474Z"
   },
   {
    "duration": 19,
    "start_time": "2022-09-04T17:48:19.506Z"
   },
   {
    "duration": 14,
    "start_time": "2022-09-04T17:48:19.527Z"
   },
   {
    "duration": 68,
    "start_time": "2022-09-04T17:48:19.543Z"
   },
   {
    "duration": 24,
    "start_time": "2022-09-04T17:48:19.613Z"
   },
   {
    "duration": 24,
    "start_time": "2022-09-04T17:48:19.640Z"
   },
   {
    "duration": 27,
    "start_time": "2022-09-04T17:48:19.665Z"
   },
   {
    "duration": 8,
    "start_time": "2022-09-04T17:48:19.693Z"
   },
   {
    "duration": 18,
    "start_time": "2022-09-04T17:48:19.702Z"
   },
   {
    "duration": 3,
    "start_time": "2022-09-04T17:48:19.722Z"
   },
   {
    "duration": 7,
    "start_time": "2022-09-04T17:48:19.726Z"
   },
   {
    "duration": 6,
    "start_time": "2022-09-04T17:48:19.735Z"
   },
   {
    "duration": 6,
    "start_time": "2022-09-04T17:48:19.743Z"
   },
   {
    "duration": 50,
    "start_time": "2022-09-04T17:48:19.751Z"
   },
   {
    "duration": 4,
    "start_time": "2022-09-04T17:48:19.802Z"
   },
   {
    "duration": 33,
    "start_time": "2022-09-04T17:48:19.807Z"
   },
   {
    "duration": 3,
    "start_time": "2022-09-04T17:48:19.842Z"
   },
   {
    "duration": 52,
    "start_time": "2022-09-04T17:48:19.847Z"
   },
   {
    "duration": 4,
    "start_time": "2022-09-04T17:48:19.900Z"
   },
   {
    "duration": 10,
    "start_time": "2022-09-04T17:48:19.906Z"
   },
   {
    "duration": 21,
    "start_time": "2022-09-04T17:48:19.917Z"
   },
   {
    "duration": 8,
    "start_time": "2022-09-04T17:48:19.940Z"
   },
   {
    "duration": 55,
    "start_time": "2022-09-04T17:48:19.950Z"
   },
   {
    "duration": 4,
    "start_time": "2022-09-04T17:48:20.008Z"
   },
   {
    "duration": 35,
    "start_time": "2022-09-04T17:48:20.014Z"
   },
   {
    "duration": 4,
    "start_time": "2022-09-04T17:48:20.051Z"
   },
   {
    "duration": 51,
    "start_time": "2022-09-04T17:48:20.057Z"
   },
   {
    "duration": 9,
    "start_time": "2022-09-04T17:48:20.111Z"
   },
   {
    "duration": 50,
    "start_time": "2022-09-04T17:48:20.125Z"
   },
   {
    "duration": 5,
    "start_time": "2022-09-04T17:48:20.177Z"
   },
   {
    "duration": 29,
    "start_time": "2022-09-04T17:48:20.184Z"
   },
   {
    "duration": 27,
    "start_time": "2022-09-04T17:48:20.215Z"
   },
   {
    "duration": 36,
    "start_time": "2022-09-04T17:48:20.243Z"
   },
   {
    "duration": 19,
    "start_time": "2022-09-04T17:48:20.281Z"
   },
   {
    "duration": 94,
    "start_time": "2022-09-04T17:48:20.301Z"
   },
   {
    "duration": 622,
    "start_time": "2022-09-04T17:48:20.397Z"
   },
   {
    "duration": 263,
    "start_time": "2022-09-04T17:48:21.021Z"
   },
   {
    "duration": 200,
    "start_time": "2022-09-04T17:48:21.291Z"
   },
   {
    "duration": 167,
    "start_time": "2022-09-04T17:48:21.493Z"
   },
   {
    "duration": 202,
    "start_time": "2022-09-04T17:48:21.662Z"
   },
   {
    "duration": 279,
    "start_time": "2022-09-04T17:48:21.866Z"
   },
   {
    "duration": 14,
    "start_time": "2022-09-04T17:48:22.146Z"
   },
   {
    "duration": 15,
    "start_time": "2022-09-04T17:48:22.162Z"
   },
   {
    "duration": 122,
    "start_time": "2022-09-04T17:48:22.191Z"
   },
   {
    "duration": 0,
    "start_time": "2022-09-04T17:48:22.315Z"
   },
   {
    "duration": 0,
    "start_time": "2022-09-04T17:48:22.317Z"
   },
   {
    "duration": 72,
    "start_time": "2022-09-04T17:48:37.192Z"
   },
   {
    "duration": 10,
    "start_time": "2022-09-04T18:33:00.025Z"
   },
   {
    "duration": 10,
    "start_time": "2022-09-04T18:33:02.347Z"
   },
   {
    "duration": 35,
    "start_time": "2022-09-04T18:34:45.086Z"
   },
   {
    "duration": 3,
    "start_time": "2022-09-04T18:35:28.791Z"
   },
   {
    "duration": 17,
    "start_time": "2022-09-04T18:35:31.490Z"
   },
   {
    "duration": 7,
    "start_time": "2022-09-04T18:36:25.492Z"
   },
   {
    "duration": 17,
    "start_time": "2022-09-04T18:36:30.237Z"
   },
   {
    "duration": 10,
    "start_time": "2022-09-04T18:37:17.392Z"
   },
   {
    "duration": 16,
    "start_time": "2022-09-04T18:37:26.589Z"
   },
   {
    "duration": 15,
    "start_time": "2022-09-04T18:37:40.925Z"
   },
   {
    "duration": 103,
    "start_time": "2022-09-04T18:40:14.278Z"
   },
   {
    "duration": 9,
    "start_time": "2022-09-04T19:16:34.418Z"
   },
   {
    "duration": 5,
    "start_time": "2022-09-04T19:16:37.035Z"
   },
   {
    "duration": 98,
    "start_time": "2022-09-04T19:16:41.720Z"
   },
   {
    "duration": 17,
    "start_time": "2022-09-04T19:35:18.448Z"
   },
   {
    "duration": 9,
    "start_time": "2022-09-04T19:35:48.413Z"
   },
   {
    "duration": 5,
    "start_time": "2022-09-04T19:35:52.611Z"
   },
   {
    "duration": 4,
    "start_time": "2022-09-04T19:36:36.912Z"
   },
   {
    "duration": 8,
    "start_time": "2022-09-04T19:36:47.870Z"
   },
   {
    "duration": 4,
    "start_time": "2022-09-04T19:36:58.094Z"
   },
   {
    "duration": 6,
    "start_time": "2022-09-04T19:37:02.958Z"
   },
   {
    "duration": 8,
    "start_time": "2022-09-04T23:30:01.011Z"
   },
   {
    "duration": 27,
    "start_time": "2022-09-04T23:30:07.532Z"
   },
   {
    "duration": 15,
    "start_time": "2022-09-04T23:30:36.070Z"
   },
   {
    "duration": 29,
    "start_time": "2022-09-05T01:03:51.974Z"
   },
   {
    "duration": 16,
    "start_time": "2022-09-05T01:04:26.273Z"
   },
   {
    "duration": 11,
    "start_time": "2022-09-05T01:42:58.024Z"
   },
   {
    "duration": 11,
    "start_time": "2022-09-05T01:43:31.644Z"
   },
   {
    "duration": 12,
    "start_time": "2022-09-05T01:45:04.027Z"
   },
   {
    "duration": 19,
    "start_time": "2022-09-05T01:46:17.008Z"
   },
   {
    "duration": 10,
    "start_time": "2022-09-05T01:46:32.187Z"
   },
   {
    "duration": 12,
    "start_time": "2022-09-05T01:50:36.155Z"
   },
   {
    "duration": 28,
    "start_time": "2022-09-05T01:52:54.038Z"
   },
   {
    "duration": 31,
    "start_time": "2022-09-05T01:53:45.949Z"
   },
   {
    "duration": 10,
    "start_time": "2022-09-05T01:54:06.502Z"
   },
   {
    "duration": 1241,
    "start_time": "2022-09-05T01:54:11.910Z"
   },
   {
    "duration": 26,
    "start_time": "2022-09-05T01:54:16.440Z"
   },
   {
    "duration": 896,
    "start_time": "2022-09-05T01:55:00.108Z"
   },
   {
    "duration": 339,
    "start_time": "2022-09-05T01:55:01.006Z"
   },
   {
    "duration": 23,
    "start_time": "2022-09-05T01:55:01.347Z"
   },
   {
    "duration": 159,
    "start_time": "2022-09-05T01:55:01.372Z"
   },
   {
    "duration": 57,
    "start_time": "2022-09-05T01:55:01.533Z"
   },
   {
    "duration": 17,
    "start_time": "2022-09-05T01:55:01.592Z"
   },
   {
    "duration": 25,
    "start_time": "2022-09-05T01:55:01.610Z"
   },
   {
    "duration": 14,
    "start_time": "2022-09-05T01:55:01.637Z"
   },
   {
    "duration": 43,
    "start_time": "2022-09-05T01:55:01.653Z"
   },
   {
    "duration": 20,
    "start_time": "2022-09-05T01:55:01.698Z"
   },
   {
    "duration": 16,
    "start_time": "2022-09-05T01:55:01.720Z"
   },
   {
    "duration": 4,
    "start_time": "2022-09-05T01:55:01.738Z"
   },
   {
    "duration": 17,
    "start_time": "2022-09-05T01:55:01.744Z"
   },
   {
    "duration": 35,
    "start_time": "2022-09-05T01:55:01.762Z"
   },
   {
    "duration": 15,
    "start_time": "2022-09-05T01:55:01.800Z"
   },
   {
    "duration": 62,
    "start_time": "2022-09-05T01:55:01.818Z"
   },
   {
    "duration": 27,
    "start_time": "2022-09-05T01:55:01.892Z"
   },
   {
    "duration": 23,
    "start_time": "2022-09-05T01:55:01.920Z"
   },
   {
    "duration": 8,
    "start_time": "2022-09-05T01:55:01.945Z"
   },
   {
    "duration": 18,
    "start_time": "2022-09-05T01:55:01.955Z"
   },
   {
    "duration": 8,
    "start_time": "2022-09-05T01:55:01.991Z"
   },
   {
    "duration": 30,
    "start_time": "2022-09-05T01:55:02.001Z"
   },
   {
    "duration": 214,
    "start_time": "2022-09-05T01:55:02.033Z"
   },
   {
    "duration": 18,
    "start_time": "2022-09-05T01:55:02.249Z"
   },
   {
    "duration": 11,
    "start_time": "2022-09-05T01:55:02.269Z"
   },
   {
    "duration": 54,
    "start_time": "2022-09-05T01:55:02.282Z"
   },
   {
    "duration": 4,
    "start_time": "2022-09-05T01:55:02.338Z"
   },
   {
    "duration": 32,
    "start_time": "2022-09-05T01:55:02.346Z"
   },
   {
    "duration": 3,
    "start_time": "2022-09-05T01:55:02.380Z"
   },
   {
    "duration": 41,
    "start_time": "2022-09-05T01:55:02.385Z"
   },
   {
    "duration": 4,
    "start_time": "2022-09-05T01:55:02.427Z"
   },
   {
    "duration": 7,
    "start_time": "2022-09-05T01:55:02.432Z"
   },
   {
    "duration": 10,
    "start_time": "2022-09-05T01:55:02.440Z"
   },
   {
    "duration": 7,
    "start_time": "2022-09-05T01:55:02.451Z"
   },
   {
    "duration": 38,
    "start_time": "2022-09-05T01:55:02.460Z"
   },
   {
    "duration": 4,
    "start_time": "2022-09-05T01:55:02.499Z"
   },
   {
    "duration": 30,
    "start_time": "2022-09-05T01:55:02.504Z"
   },
   {
    "duration": 4,
    "start_time": "2022-09-05T01:55:02.536Z"
   },
   {
    "duration": 31,
    "start_time": "2022-09-05T01:55:02.541Z"
   },
   {
    "duration": 4,
    "start_time": "2022-09-05T01:55:02.591Z"
   },
   {
    "duration": 48,
    "start_time": "2022-09-05T01:55:02.597Z"
   },
   {
    "duration": 5,
    "start_time": "2022-09-05T01:55:02.646Z"
   },
   {
    "duration": 11,
    "start_time": "2022-09-05T01:55:02.653Z"
   },
   {
    "duration": 33,
    "start_time": "2022-09-05T01:55:02.666Z"
   },
   {
    "duration": 16,
    "start_time": "2022-09-05T01:55:02.701Z"
   },
   {
    "duration": 37,
    "start_time": "2022-09-05T01:55:02.719Z"
   },
   {
    "duration": 32,
    "start_time": "2022-09-05T01:55:02.758Z"
   },
   {
    "duration": 502,
    "start_time": "2022-09-05T01:55:02.792Z"
   },
   {
    "duration": 257,
    "start_time": "2022-09-05T01:55:03.296Z"
   },
   {
    "duration": 198,
    "start_time": "2022-09-05T01:55:03.555Z"
   },
   {
    "duration": 169,
    "start_time": "2022-09-05T01:55:03.755Z"
   },
   {
    "duration": 181,
    "start_time": "2022-09-05T01:55:03.926Z"
   },
   {
    "duration": 212,
    "start_time": "2022-09-05T01:55:04.109Z"
   },
   {
    "duration": 13,
    "start_time": "2022-09-05T01:55:04.323Z"
   },
   {
    "duration": 8,
    "start_time": "2022-09-05T01:55:09.542Z"
   },
   {
    "duration": 15,
    "start_time": "2022-09-05T01:55:17.688Z"
   },
   {
    "duration": 9,
    "start_time": "2022-09-05T01:55:35.730Z"
   },
   {
    "duration": 25,
    "start_time": "2022-09-05T01:55:36.634Z"
   },
   {
    "duration": 26,
    "start_time": "2022-09-05T01:56:15.718Z"
   },
   {
    "duration": 5,
    "start_time": "2022-09-05T01:57:09.763Z"
   },
   {
    "duration": 27,
    "start_time": "2022-09-05T01:57:31.384Z"
   },
   {
    "duration": 5,
    "start_time": "2022-09-05T01:57:39.095Z"
   },
   {
    "duration": 1340,
    "start_time": "2022-09-05T02:04:24.535Z"
   },
   {
    "duration": 27,
    "start_time": "2022-09-05T02:04:58.664Z"
   },
   {
    "duration": 7,
    "start_time": "2022-09-05T02:05:45.123Z"
   },
   {
    "duration": 1206,
    "start_time": "2022-09-05T02:05:52.899Z"
   },
   {
    "duration": 1164,
    "start_time": "2022-09-05T02:06:24.869Z"
   },
   {
    "duration": 1251,
    "start_time": "2022-09-05T02:13:55.176Z"
   },
   {
    "duration": 26,
    "start_time": "2022-09-05T02:14:30.848Z"
   },
   {
    "duration": 17,
    "start_time": "2022-09-05T02:14:40.111Z"
   },
   {
    "duration": 15,
    "start_time": "2022-09-05T02:14:43.977Z"
   },
   {
    "duration": 17,
    "start_time": "2022-09-05T02:15:34.775Z"
   },
   {
    "duration": 4,
    "start_time": "2022-09-05T02:17:57.831Z"
   },
   {
    "duration": 79,
    "start_time": "2022-09-05T02:18:41.852Z"
   },
   {
    "duration": 96,
    "start_time": "2022-09-05T02:49:29.449Z"
   },
   {
    "duration": 77,
    "start_time": "2022-09-05T03:02:53.064Z"
   },
   {
    "duration": 76,
    "start_time": "2022-09-05T03:03:10.421Z"
   },
   {
    "duration": 124,
    "start_time": "2022-09-05T03:03:24.311Z"
   },
   {
    "duration": 79,
    "start_time": "2022-09-05T03:03:43.452Z"
   },
   {
    "duration": 4,
    "start_time": "2022-09-05T03:05:50.016Z"
   },
   {
    "duration": 13,
    "start_time": "2022-09-05T03:07:36.964Z"
   },
   {
    "duration": 8,
    "start_time": "2022-09-05T03:09:37.742Z"
   },
   {
    "duration": 7,
    "start_time": "2022-09-05T03:20:28.880Z"
   },
   {
    "duration": 16,
    "start_time": "2022-09-05T03:20:34.251Z"
   },
   {
    "duration": 17,
    "start_time": "2022-09-05T03:20:35.354Z"
   },
   {
    "duration": 9,
    "start_time": "2022-09-05T03:20:41.257Z"
   },
   {
    "duration": 8,
    "start_time": "2022-09-05T04:59:53.278Z"
   },
   {
    "duration": 7,
    "start_time": "2022-09-05T05:00:13.083Z"
   },
   {
    "duration": 10,
    "start_time": "2022-09-05T05:00:26.381Z"
   },
   {
    "duration": 7,
    "start_time": "2022-09-05T05:00:32.248Z"
   },
   {
    "duration": 6,
    "start_time": "2022-09-05T05:00:36.587Z"
   },
   {
    "duration": 6,
    "start_time": "2022-09-05T05:01:03.750Z"
   },
   {
    "duration": 6,
    "start_time": "2022-09-05T05:02:22.288Z"
   },
   {
    "duration": 6,
    "start_time": "2022-09-05T05:02:38.292Z"
   },
   {
    "duration": 27,
    "start_time": "2022-09-05T05:03:07.530Z"
   },
   {
    "duration": 9,
    "start_time": "2022-09-05T05:03:19.976Z"
   },
   {
    "duration": 7,
    "start_time": "2022-09-05T05:03:34.882Z"
   },
   {
    "duration": 7,
    "start_time": "2022-09-05T05:03:37.460Z"
   },
   {
    "duration": 6,
    "start_time": "2022-09-05T05:04:19.171Z"
   },
   {
    "duration": 6,
    "start_time": "2022-09-05T05:04:29.760Z"
   },
   {
    "duration": 6,
    "start_time": "2022-09-05T05:04:40.977Z"
   },
   {
    "duration": 9,
    "start_time": "2022-09-05T05:04:41.667Z"
   },
   {
    "duration": 7,
    "start_time": "2022-09-05T05:04:42.361Z"
   },
   {
    "duration": 3,
    "start_time": "2022-09-05T05:04:50.067Z"
   },
   {
    "duration": 6,
    "start_time": "2022-09-05T05:05:04.575Z"
   },
   {
    "duration": 5,
    "start_time": "2022-09-05T05:05:19.801Z"
   },
   {
    "duration": 7,
    "start_time": "2022-09-05T05:05:39.930Z"
   },
   {
    "duration": 5,
    "start_time": "2022-09-05T05:05:56.215Z"
   },
   {
    "duration": 857,
    "start_time": "2022-09-05T05:07:09.798Z"
   },
   {
    "duration": 328,
    "start_time": "2022-09-05T05:07:10.657Z"
   },
   {
    "duration": 25,
    "start_time": "2022-09-05T05:07:10.986Z"
   },
   {
    "duration": 18,
    "start_time": "2022-09-05T05:07:11.012Z"
   },
   {
    "duration": 15,
    "start_time": "2022-09-05T05:07:11.032Z"
   },
   {
    "duration": 10,
    "start_time": "2022-09-05T05:07:11.049Z"
   },
   {
    "duration": 38,
    "start_time": "2022-09-05T05:07:11.061Z"
   },
   {
    "duration": 6,
    "start_time": "2022-09-05T05:07:11.101Z"
   },
   {
    "duration": 26,
    "start_time": "2022-09-05T05:07:11.108Z"
   },
   {
    "duration": 19,
    "start_time": "2022-09-05T05:07:11.136Z"
   },
   {
    "duration": 35,
    "start_time": "2022-09-05T05:07:11.157Z"
   },
   {
    "duration": 5,
    "start_time": "2022-09-05T05:07:11.194Z"
   },
   {
    "duration": 17,
    "start_time": "2022-09-05T05:07:11.201Z"
   },
   {
    "duration": 18,
    "start_time": "2022-09-05T05:07:11.222Z"
   },
   {
    "duration": 14,
    "start_time": "2022-09-05T05:07:11.242Z"
   },
   {
    "duration": 68,
    "start_time": "2022-09-05T05:07:11.258Z"
   },
   {
    "duration": 24,
    "start_time": "2022-09-05T05:07:11.328Z"
   },
   {
    "duration": 38,
    "start_time": "2022-09-05T05:07:11.354Z"
   },
   {
    "duration": 8,
    "start_time": "2022-09-05T05:07:11.394Z"
   },
   {
    "duration": 7,
    "start_time": "2022-09-05T05:07:11.403Z"
   },
   {
    "duration": 7,
    "start_time": "2022-09-05T05:07:11.412Z"
   },
   {
    "duration": 4,
    "start_time": "2022-09-05T05:07:11.420Z"
   },
   {
    "duration": 6,
    "start_time": "2022-09-05T05:07:11.426Z"
   },
   {
    "duration": 5,
    "start_time": "2022-09-05T05:07:11.433Z"
   },
   {
    "duration": 6,
    "start_time": "2022-09-05T05:07:11.440Z"
   },
   {
    "duration": 60,
    "start_time": "2022-09-05T05:07:11.448Z"
   },
   {
    "duration": 3,
    "start_time": "2022-09-05T05:07:11.510Z"
   },
   {
    "duration": 31,
    "start_time": "2022-09-05T05:07:11.515Z"
   },
   {
    "duration": 3,
    "start_time": "2022-09-05T05:07:11.548Z"
   },
   {
    "duration": 53,
    "start_time": "2022-09-05T05:07:11.552Z"
   },
   {
    "duration": 3,
    "start_time": "2022-09-05T05:07:11.607Z"
   },
   {
    "duration": 5,
    "start_time": "2022-09-05T05:07:11.612Z"
   },
   {
    "duration": 7,
    "start_time": "2022-09-05T05:07:11.618Z"
   },
   {
    "duration": 4,
    "start_time": "2022-09-05T05:07:11.626Z"
   },
   {
    "duration": 29,
    "start_time": "2022-09-05T05:07:11.632Z"
   },
   {
    "duration": 4,
    "start_time": "2022-09-05T05:07:11.662Z"
   },
   {
    "duration": 47,
    "start_time": "2022-09-05T05:07:11.667Z"
   },
   {
    "duration": 3,
    "start_time": "2022-09-05T05:07:11.716Z"
   },
   {
    "duration": 30,
    "start_time": "2022-09-05T05:07:11.721Z"
   },
   {
    "duration": 4,
    "start_time": "2022-09-05T05:07:11.752Z"
   },
   {
    "duration": 63,
    "start_time": "2022-09-05T05:07:11.760Z"
   },
   {
    "duration": 6,
    "start_time": "2022-09-05T05:07:11.825Z"
   },
   {
    "duration": 14,
    "start_time": "2022-09-05T05:07:11.833Z"
   },
   {
    "duration": 32,
    "start_time": "2022-09-05T05:07:11.849Z"
   },
   {
    "duration": 20,
    "start_time": "2022-09-05T05:07:11.883Z"
   },
   {
    "duration": 14,
    "start_time": "2022-09-05T05:07:11.905Z"
   },
   {
    "duration": 14,
    "start_time": "2022-09-05T05:07:11.920Z"
   },
   {
    "duration": 437,
    "start_time": "2022-09-05T05:07:11.936Z"
   },
   {
    "duration": 262,
    "start_time": "2022-09-05T05:07:12.375Z"
   },
   {
    "duration": 197,
    "start_time": "2022-09-05T05:07:12.639Z"
   },
   {
    "duration": 168,
    "start_time": "2022-09-05T05:07:12.838Z"
   },
   {
    "duration": 177,
    "start_time": "2022-09-05T05:07:13.008Z"
   },
   {
    "duration": 206,
    "start_time": "2022-09-05T05:07:13.187Z"
   },
   {
    "duration": 13,
    "start_time": "2022-09-05T05:07:13.395Z"
   },
   {
    "duration": 7,
    "start_time": "2022-09-05T05:07:13.409Z"
   },
   {
    "duration": 10,
    "start_time": "2022-09-05T05:07:13.417Z"
   },
   {
    "duration": 9,
    "start_time": "2022-09-05T05:07:17.635Z"
   },
   {
    "duration": 8,
    "start_time": "2022-09-05T05:07:18.367Z"
   },
   {
    "duration": 8,
    "start_time": "2022-09-05T05:07:27.314Z"
   },
   {
    "duration": 6,
    "start_time": "2022-09-05T05:07:30.512Z"
   },
   {
    "duration": 864,
    "start_time": "2022-09-05T05:07:45.282Z"
   },
   {
    "duration": 314,
    "start_time": "2022-09-05T05:07:46.149Z"
   },
   {
    "duration": 22,
    "start_time": "2022-09-05T05:07:46.464Z"
   },
   {
    "duration": 17,
    "start_time": "2022-09-05T05:07:46.488Z"
   },
   {
    "duration": 14,
    "start_time": "2022-09-05T05:07:46.507Z"
   },
   {
    "duration": 10,
    "start_time": "2022-09-05T05:07:46.522Z"
   },
   {
    "duration": 13,
    "start_time": "2022-09-05T05:07:46.533Z"
   },
   {
    "duration": 8,
    "start_time": "2022-09-05T05:07:46.547Z"
   },
   {
    "duration": 47,
    "start_time": "2022-09-05T05:07:46.556Z"
   },
   {
    "duration": 19,
    "start_time": "2022-09-05T05:07:46.606Z"
   },
   {
    "duration": 14,
    "start_time": "2022-09-05T05:07:46.626Z"
   },
   {
    "duration": 4,
    "start_time": "2022-09-05T05:07:46.641Z"
   },
   {
    "duration": 13,
    "start_time": "2022-09-05T05:07:46.647Z"
   },
   {
    "duration": 41,
    "start_time": "2022-09-05T05:07:46.662Z"
   },
   {
    "duration": 13,
    "start_time": "2022-09-05T05:07:46.705Z"
   },
   {
    "duration": 52,
    "start_time": "2022-09-05T05:07:46.720Z"
   },
   {
    "duration": 42,
    "start_time": "2022-09-05T05:07:46.773Z"
   },
   {
    "duration": 24,
    "start_time": "2022-09-05T05:07:46.816Z"
   },
   {
    "duration": 8,
    "start_time": "2022-09-05T05:07:46.842Z"
   },
   {
    "duration": 11,
    "start_time": "2022-09-05T05:07:46.852Z"
   },
   {
    "duration": 27,
    "start_time": "2022-09-05T05:07:46.865Z"
   },
   {
    "duration": 9,
    "start_time": "2022-09-05T05:07:46.893Z"
   },
   {
    "duration": 16,
    "start_time": "2022-09-05T05:07:46.903Z"
   },
   {
    "duration": 11,
    "start_time": "2022-09-05T05:07:46.921Z"
   },
   {
    "duration": 10,
    "start_time": "2022-09-05T05:07:46.934Z"
   },
   {
    "duration": 39,
    "start_time": "2022-09-05T05:07:46.945Z"
   },
   {
    "duration": 3,
    "start_time": "2022-09-05T05:07:46.986Z"
   },
   {
    "duration": 35,
    "start_time": "2022-09-05T05:07:46.993Z"
   },
   {
    "duration": 4,
    "start_time": "2022-09-05T05:07:47.030Z"
   },
   {
    "duration": 49,
    "start_time": "2022-09-05T05:07:47.036Z"
   },
   {
    "duration": 3,
    "start_time": "2022-09-05T05:07:47.091Z"
   },
   {
    "duration": 5,
    "start_time": "2022-09-05T05:07:47.096Z"
   },
   {
    "duration": 5,
    "start_time": "2022-09-05T05:07:47.103Z"
   },
   {
    "duration": 5,
    "start_time": "2022-09-05T05:07:47.109Z"
   },
   {
    "duration": 33,
    "start_time": "2022-09-05T05:07:47.115Z"
   },
   {
    "duration": 9,
    "start_time": "2022-09-05T05:07:47.150Z"
   },
   {
    "duration": 36,
    "start_time": "2022-09-05T05:07:47.160Z"
   },
   {
    "duration": 4,
    "start_time": "2022-09-05T05:07:47.198Z"
   },
   {
    "duration": 29,
    "start_time": "2022-09-05T05:07:47.203Z"
   },
   {
    "duration": 3,
    "start_time": "2022-09-05T05:07:47.234Z"
   },
   {
    "duration": 58,
    "start_time": "2022-09-05T05:07:47.238Z"
   },
   {
    "duration": 4,
    "start_time": "2022-09-05T05:07:47.297Z"
   },
   {
    "duration": 13,
    "start_time": "2022-09-05T05:07:47.303Z"
   },
   {
    "duration": 16,
    "start_time": "2022-09-05T05:07:47.318Z"
   },
   {
    "duration": 17,
    "start_time": "2022-09-05T05:07:47.335Z"
   },
   {
    "duration": 12,
    "start_time": "2022-09-05T05:07:47.354Z"
   },
   {
    "duration": 30,
    "start_time": "2022-09-05T05:07:47.368Z"
   },
   {
    "duration": 536,
    "start_time": "2022-09-05T05:07:47.399Z"
   },
   {
    "duration": 284,
    "start_time": "2022-09-05T05:07:47.937Z"
   },
   {
    "duration": 199,
    "start_time": "2022-09-05T05:07:48.223Z"
   },
   {
    "duration": 163,
    "start_time": "2022-09-05T05:07:48.424Z"
   },
   {
    "duration": 182,
    "start_time": "2022-09-05T05:07:48.588Z"
   },
   {
    "duration": 203,
    "start_time": "2022-09-05T05:07:48.772Z"
   },
   {
    "duration": 21,
    "start_time": "2022-09-05T05:07:48.977Z"
   },
   {
    "duration": 11,
    "start_time": "2022-09-05T05:07:49.000Z"
   },
   {
    "duration": 8,
    "start_time": "2022-09-05T05:07:49.013Z"
   },
   {
    "duration": 8,
    "start_time": "2022-09-05T05:08:00.582Z"
   },
   {
    "duration": 5,
    "start_time": "2022-09-05T05:08:01.257Z"
   },
   {
    "duration": 7,
    "start_time": "2022-09-05T05:08:04.828Z"
   },
   {
    "duration": 8,
    "start_time": "2022-09-05T05:08:13.606Z"
   },
   {
    "duration": 6,
    "start_time": "2022-09-05T05:08:18.978Z"
   },
   {
    "duration": 6,
    "start_time": "2022-09-05T05:08:33.262Z"
   },
   {
    "duration": 7,
    "start_time": "2022-09-05T05:08:59.544Z"
   },
   {
    "duration": 9,
    "start_time": "2022-09-05T05:09:29.465Z"
   },
   {
    "duration": 106,
    "start_time": "2022-09-05T05:09:44.685Z"
   },
   {
    "duration": 7,
    "start_time": "2022-09-05T05:09:54.763Z"
   },
   {
    "duration": 4,
    "start_time": "2022-09-05T05:10:03.457Z"
   },
   {
    "duration": 8,
    "start_time": "2022-09-05T05:10:04.911Z"
   },
   {
    "duration": 25,
    "start_time": "2022-09-05T05:10:40.721Z"
   },
   {
    "duration": 6,
    "start_time": "2022-09-05T05:12:16.039Z"
   },
   {
    "duration": 25,
    "start_time": "2022-09-05T05:12:44.767Z"
   },
   {
    "duration": 7,
    "start_time": "2022-09-05T05:14:02.529Z"
   },
   {
    "duration": 761,
    "start_time": "2022-09-05T20:54:07.869Z"
   },
   {
    "duration": 279,
    "start_time": "2022-09-05T20:54:08.632Z"
   },
   {
    "duration": 18,
    "start_time": "2022-09-05T20:54:08.913Z"
   },
   {
    "duration": 14,
    "start_time": "2022-09-05T20:54:08.933Z"
   },
   {
    "duration": 12,
    "start_time": "2022-09-05T20:54:08.948Z"
   },
   {
    "duration": 9,
    "start_time": "2022-09-05T20:54:08.961Z"
   },
   {
    "duration": 9,
    "start_time": "2022-09-05T20:54:08.972Z"
   },
   {
    "duration": 5,
    "start_time": "2022-09-05T20:54:09.005Z"
   },
   {
    "duration": 31,
    "start_time": "2022-09-05T20:54:09.011Z"
   },
   {
    "duration": 16,
    "start_time": "2022-09-05T20:54:09.045Z"
   },
   {
    "duration": 14,
    "start_time": "2022-09-05T20:54:09.063Z"
   },
   {
    "duration": 5,
    "start_time": "2022-09-05T20:54:09.078Z"
   },
   {
    "duration": 22,
    "start_time": "2022-09-05T20:54:09.084Z"
   },
   {
    "duration": 14,
    "start_time": "2022-09-05T20:54:09.107Z"
   },
   {
    "duration": 11,
    "start_time": "2022-09-05T20:54:09.123Z"
   },
   {
    "duration": 39,
    "start_time": "2022-09-05T20:54:09.135Z"
   },
   {
    "duration": 42,
    "start_time": "2022-09-05T20:54:09.176Z"
   },
   {
    "duration": 19,
    "start_time": "2022-09-05T20:54:09.219Z"
   },
   {
    "duration": 6,
    "start_time": "2022-09-05T20:54:09.240Z"
   },
   {
    "duration": 7,
    "start_time": "2022-09-05T20:54:09.248Z"
   },
   {
    "duration": 8,
    "start_time": "2022-09-05T20:54:09.256Z"
   },
   {
    "duration": 3,
    "start_time": "2022-09-05T20:54:09.265Z"
   },
   {
    "duration": 7,
    "start_time": "2022-09-05T20:54:09.270Z"
   },
   {
    "duration": 27,
    "start_time": "2022-09-05T20:54:09.279Z"
   },
   {
    "duration": 3,
    "start_time": "2022-09-05T20:54:09.308Z"
   },
   {
    "duration": 38,
    "start_time": "2022-09-05T20:54:09.313Z"
   },
   {
    "duration": 3,
    "start_time": "2022-09-05T20:54:09.353Z"
   },
   {
    "duration": 27,
    "start_time": "2022-09-05T20:54:09.359Z"
   },
   {
    "duration": 3,
    "start_time": "2022-09-05T20:54:09.387Z"
   },
   {
    "duration": 32,
    "start_time": "2022-09-05T20:54:09.406Z"
   },
   {
    "duration": 3,
    "start_time": "2022-09-05T20:54:09.439Z"
   },
   {
    "duration": 6,
    "start_time": "2022-09-05T20:54:09.444Z"
   },
   {
    "duration": 4,
    "start_time": "2022-09-05T20:54:09.452Z"
   },
   {
    "duration": 5,
    "start_time": "2022-09-05T20:54:09.457Z"
   },
   {
    "duration": 24,
    "start_time": "2022-09-05T20:54:09.463Z"
   },
   {
    "duration": 18,
    "start_time": "2022-09-05T20:54:09.489Z"
   },
   {
    "duration": 27,
    "start_time": "2022-09-05T20:54:09.508Z"
   },
   {
    "duration": 3,
    "start_time": "2022-09-05T20:54:09.536Z"
   },
   {
    "duration": 26,
    "start_time": "2022-09-05T20:54:09.541Z"
   },
   {
    "duration": 3,
    "start_time": "2022-09-05T20:54:09.569Z"
   },
   {
    "duration": 48,
    "start_time": "2022-09-05T20:54:09.573Z"
   },
   {
    "duration": 4,
    "start_time": "2022-09-05T20:54:09.623Z"
   },
   {
    "duration": 11,
    "start_time": "2022-09-05T20:54:09.628Z"
   },
   {
    "duration": 7,
    "start_time": "2022-09-05T20:54:09.640Z"
   },
   {
    "duration": 11,
    "start_time": "2022-09-05T20:54:09.649Z"
   },
   {
    "duration": 11,
    "start_time": "2022-09-05T20:54:09.661Z"
   },
   {
    "duration": 33,
    "start_time": "2022-09-05T20:54:09.674Z"
   },
   {
    "duration": 564,
    "start_time": "2022-09-05T20:54:09.709Z"
   },
   {
    "duration": 235,
    "start_time": "2022-09-05T20:54:10.275Z"
   },
   {
    "duration": 170,
    "start_time": "2022-09-05T20:54:10.511Z"
   },
   {
    "duration": 134,
    "start_time": "2022-09-05T20:54:10.683Z"
   },
   {
    "duration": 155,
    "start_time": "2022-09-05T20:54:10.818Z"
   },
   {
    "duration": 173,
    "start_time": "2022-09-05T20:54:10.975Z"
   },
   {
    "duration": 10,
    "start_time": "2022-09-05T20:54:11.150Z"
   },
   {
    "duration": 7,
    "start_time": "2022-09-05T20:54:11.162Z"
   },
   {
    "duration": 7,
    "start_time": "2022-09-05T20:54:11.170Z"
   },
   {
    "duration": 6,
    "start_time": "2022-09-05T20:54:11.178Z"
   },
   {
    "duration": 21,
    "start_time": "2022-09-05T20:54:11.185Z"
   },
   {
    "duration": 76,
    "start_time": "2022-09-05T20:54:11.208Z"
   },
   {
    "duration": 32,
    "start_time": "2022-09-05T20:54:11.286Z"
   },
   {
    "duration": 44,
    "start_time": "2022-09-06T00:42:48.540Z"
   },
   {
    "duration": 816,
    "start_time": "2022-09-06T00:42:51.970Z"
   },
   {
    "duration": 857,
    "start_time": "2022-09-06T00:42:52.788Z"
   },
   {
    "duration": 21,
    "start_time": "2022-09-06T00:42:53.647Z"
   },
   {
    "duration": 48,
    "start_time": "2022-09-06T00:42:53.670Z"
   },
   {
    "duration": 40,
    "start_time": "2022-09-06T00:42:53.720Z"
   },
   {
    "duration": 15,
    "start_time": "2022-09-06T00:42:53.761Z"
   },
   {
    "duration": 17,
    "start_time": "2022-09-06T00:42:53.778Z"
   },
   {
    "duration": 18,
    "start_time": "2022-09-06T00:42:53.797Z"
   },
   {
    "duration": 25,
    "start_time": "2022-09-06T00:42:53.817Z"
   },
   {
    "duration": 17,
    "start_time": "2022-09-06T00:42:53.845Z"
   },
   {
    "duration": 12,
    "start_time": "2022-09-06T00:42:53.864Z"
   },
   {
    "duration": 3,
    "start_time": "2022-09-06T00:42:53.878Z"
   },
   {
    "duration": 19,
    "start_time": "2022-09-06T00:42:53.882Z"
   },
   {
    "duration": 23,
    "start_time": "2022-09-06T00:42:53.902Z"
   },
   {
    "duration": 20,
    "start_time": "2022-09-06T00:42:53.926Z"
   },
   {
    "duration": 47,
    "start_time": "2022-09-06T00:42:53.947Z"
   },
   {
    "duration": 22,
    "start_time": "2022-09-06T00:42:53.996Z"
   },
   {
    "duration": 35,
    "start_time": "2022-09-06T00:42:54.020Z"
   },
   {
    "duration": 6,
    "start_time": "2022-09-06T00:42:54.056Z"
   },
   {
    "duration": 16,
    "start_time": "2022-09-06T00:42:54.064Z"
   },
   {
    "duration": 10,
    "start_time": "2022-09-06T00:42:54.081Z"
   },
   {
    "duration": 20,
    "start_time": "2022-09-06T00:42:54.093Z"
   },
   {
    "duration": 17,
    "start_time": "2022-09-06T00:42:54.115Z"
   },
   {
    "duration": 11,
    "start_time": "2022-09-06T00:42:54.134Z"
   },
   {
    "duration": 16,
    "start_time": "2022-09-06T00:42:54.146Z"
   },
   {
    "duration": 52,
    "start_time": "2022-09-06T00:42:54.163Z"
   },
   {
    "duration": 3,
    "start_time": "2022-09-06T00:42:54.217Z"
   },
   {
    "duration": 42,
    "start_time": "2022-09-06T00:42:54.223Z"
   },
   {
    "duration": 5,
    "start_time": "2022-09-06T00:42:54.267Z"
   },
   {
    "duration": 71,
    "start_time": "2022-09-06T00:42:54.273Z"
   },
   {
    "duration": 4,
    "start_time": "2022-09-06T00:42:54.347Z"
   },
   {
    "duration": 30,
    "start_time": "2022-09-06T00:42:54.352Z"
   },
   {
    "duration": 38,
    "start_time": "2022-09-06T00:42:54.383Z"
   },
   {
    "duration": 18,
    "start_time": "2022-09-06T00:42:54.422Z"
   },
   {
    "duration": 41,
    "start_time": "2022-09-06T00:42:54.441Z"
   },
   {
    "duration": 17,
    "start_time": "2022-09-06T00:42:54.483Z"
   },
   {
    "duration": 41,
    "start_time": "2022-09-06T00:42:54.502Z"
   },
   {
    "duration": 3,
    "start_time": "2022-09-06T00:42:54.544Z"
   },
   {
    "duration": 42,
    "start_time": "2022-09-06T00:42:54.549Z"
   },
   {
    "duration": 3,
    "start_time": "2022-09-06T00:42:54.592Z"
   },
   {
    "duration": 44,
    "start_time": "2022-09-06T00:42:54.597Z"
   },
   {
    "duration": 4,
    "start_time": "2022-09-06T00:42:54.643Z"
   },
   {
    "duration": 21,
    "start_time": "2022-09-06T00:42:54.649Z"
   },
   {
    "duration": 26,
    "start_time": "2022-09-06T00:42:54.672Z"
   },
   {
    "duration": 18,
    "start_time": "2022-09-06T00:42:54.699Z"
   },
   {
    "duration": 17,
    "start_time": "2022-09-06T00:42:54.718Z"
   },
   {
    "duration": 11,
    "start_time": "2022-09-06T00:42:54.736Z"
   },
   {
    "duration": 551,
    "start_time": "2022-09-06T00:42:54.748Z"
   },
   {
    "duration": 234,
    "start_time": "2022-09-06T00:42:55.300Z"
   },
   {
    "duration": 169,
    "start_time": "2022-09-06T00:42:55.537Z"
   },
   {
    "duration": 157,
    "start_time": "2022-09-06T00:42:55.707Z"
   },
   {
    "duration": 167,
    "start_time": "2022-09-06T00:42:55.866Z"
   },
   {
    "duration": 189,
    "start_time": "2022-09-06T00:42:56.037Z"
   },
   {
    "duration": 14,
    "start_time": "2022-09-06T00:42:56.228Z"
   },
   {
    "duration": 25,
    "start_time": "2022-09-06T00:42:56.244Z"
   },
   {
    "duration": 11,
    "start_time": "2022-09-06T00:42:56.271Z"
   },
   {
    "duration": 7,
    "start_time": "2022-09-06T00:42:56.284Z"
   },
   {
    "duration": 9,
    "start_time": "2022-09-06T00:42:56.292Z"
   },
   {
    "duration": 133,
    "start_time": "2022-09-06T00:42:56.303Z"
   },
   {
    "duration": 8,
    "start_time": "2022-09-06T00:43:06.757Z"
   },
   {
    "duration": 52,
    "start_time": "2022-09-06T01:36:06.762Z"
   },
   {
    "duration": 180,
    "start_time": "2022-09-06T02:10:50.410Z"
   },
   {
    "duration": 785,
    "start_time": "2022-09-07T00:45:49.686Z"
   },
   {
    "duration": 1204,
    "start_time": "2022-09-07T00:45:50.473Z"
   },
   {
    "duration": 24,
    "start_time": "2022-09-07T00:45:51.679Z"
   },
   {
    "duration": 20,
    "start_time": "2022-09-07T00:45:51.705Z"
   },
   {
    "duration": 14,
    "start_time": "2022-09-07T00:45:51.726Z"
   },
   {
    "duration": 9,
    "start_time": "2022-09-07T00:45:51.742Z"
   },
   {
    "duration": 10,
    "start_time": "2022-09-07T00:45:51.753Z"
   },
   {
    "duration": 10,
    "start_time": "2022-09-07T00:45:51.765Z"
   },
   {
    "duration": 25,
    "start_time": "2022-09-07T00:45:51.776Z"
   },
   {
    "duration": 17,
    "start_time": "2022-09-07T00:45:51.803Z"
   },
   {
    "duration": 12,
    "start_time": "2022-09-07T00:45:51.839Z"
   },
   {
    "duration": 3,
    "start_time": "2022-09-07T00:45:51.853Z"
   },
   {
    "duration": 11,
    "start_time": "2022-09-07T00:45:51.858Z"
   },
   {
    "duration": 15,
    "start_time": "2022-09-07T00:45:51.871Z"
   },
   {
    "duration": 12,
    "start_time": "2022-09-07T00:45:51.887Z"
   },
   {
    "duration": 68,
    "start_time": "2022-09-07T00:45:51.900Z"
   },
   {
    "duration": 23,
    "start_time": "2022-09-07T00:45:51.969Z"
   },
   {
    "duration": 20,
    "start_time": "2022-09-07T00:45:51.993Z"
   },
   {
    "duration": 25,
    "start_time": "2022-09-07T00:45:52.014Z"
   },
   {
    "duration": 6,
    "start_time": "2022-09-07T00:45:52.041Z"
   },
   {
    "duration": 6,
    "start_time": "2022-09-07T00:45:52.049Z"
   },
   {
    "duration": 3,
    "start_time": "2022-09-07T00:45:52.057Z"
   },
   {
    "duration": 6,
    "start_time": "2022-09-07T00:45:52.061Z"
   },
   {
    "duration": 5,
    "start_time": "2022-09-07T00:45:52.069Z"
   },
   {
    "duration": 6,
    "start_time": "2022-09-07T00:45:52.075Z"
   },
   {
    "duration": 33,
    "start_time": "2022-09-07T00:45:52.082Z"
   },
   {
    "duration": 3,
    "start_time": "2022-09-07T00:45:52.117Z"
   },
   {
    "duration": 30,
    "start_time": "2022-09-07T00:45:52.140Z"
   },
   {
    "duration": 4,
    "start_time": "2022-09-07T00:45:52.172Z"
   },
   {
    "duration": 38,
    "start_time": "2022-09-07T00:45:52.178Z"
   },
   {
    "duration": 3,
    "start_time": "2022-09-07T00:45:52.217Z"
   },
   {
    "duration": 7,
    "start_time": "2022-09-07T00:45:52.239Z"
   },
   {
    "duration": 11,
    "start_time": "2022-09-07T00:45:52.247Z"
   },
   {
    "duration": 8,
    "start_time": "2022-09-07T00:45:52.259Z"
   },
   {
    "duration": 26,
    "start_time": "2022-09-07T00:45:52.269Z"
   },
   {
    "duration": 9,
    "start_time": "2022-09-07T00:45:52.296Z"
   },
   {
    "duration": 33,
    "start_time": "2022-09-07T00:45:52.306Z"
   },
   {
    "duration": 4,
    "start_time": "2022-09-07T00:45:52.340Z"
   },
   {
    "duration": 29,
    "start_time": "2022-09-07T00:45:52.345Z"
   },
   {
    "duration": 3,
    "start_time": "2022-09-07T00:45:52.375Z"
   },
   {
    "duration": 37,
    "start_time": "2022-09-07T00:45:52.380Z"
   },
   {
    "duration": 22,
    "start_time": "2022-09-07T00:45:52.418Z"
   },
   {
    "duration": 11,
    "start_time": "2022-09-07T00:45:52.442Z"
   },
   {
    "duration": 9,
    "start_time": "2022-09-07T00:45:52.455Z"
   },
   {
    "duration": 12,
    "start_time": "2022-09-07T00:45:52.465Z"
   },
   {
    "duration": 13,
    "start_time": "2022-09-07T00:45:52.478Z"
   },
   {
    "duration": 10,
    "start_time": "2022-09-07T00:45:52.492Z"
   },
   {
    "duration": 660,
    "start_time": "2022-09-07T00:45:52.504Z"
   },
   {
    "duration": 268,
    "start_time": "2022-09-07T00:45:53.166Z"
   },
   {
    "duration": 201,
    "start_time": "2022-09-07T00:45:53.438Z"
   },
   {
    "duration": 216,
    "start_time": "2022-09-07T00:45:53.641Z"
   },
   {
    "duration": 184,
    "start_time": "2022-09-07T00:45:53.859Z"
   },
   {
    "duration": 198,
    "start_time": "2022-09-07T00:45:54.045Z"
   },
   {
    "duration": 12,
    "start_time": "2022-09-07T00:45:54.245Z"
   },
   {
    "duration": 10,
    "start_time": "2022-09-07T00:45:54.259Z"
   },
   {
    "duration": 13,
    "start_time": "2022-09-07T00:45:54.271Z"
   },
   {
    "duration": 6,
    "start_time": "2022-09-07T00:45:54.285Z"
   },
   {
    "duration": 6,
    "start_time": "2022-09-07T00:45:54.292Z"
   },
   {
    "duration": 105,
    "start_time": "2022-09-07T00:45:54.300Z"
   },
   {
    "duration": 3,
    "start_time": "2022-09-07T17:16:52.385Z"
   },
   {
    "duration": 346,
    "start_time": "2022-09-07T17:16:52.390Z"
   },
   {
    "duration": 22,
    "start_time": "2022-09-07T17:16:52.744Z"
   },
   {
    "duration": 18,
    "start_time": "2022-09-07T17:16:52.767Z"
   },
   {
    "duration": 14,
    "start_time": "2022-09-07T17:16:52.787Z"
   },
   {
    "duration": 46,
    "start_time": "2022-09-07T17:16:52.803Z"
   },
   {
    "duration": 20,
    "start_time": "2022-09-07T17:16:52.851Z"
   },
   {
    "duration": 6,
    "start_time": "2022-09-07T17:16:52.872Z"
   },
   {
    "duration": 23,
    "start_time": "2022-09-07T17:16:52.880Z"
   },
   {
    "duration": 48,
    "start_time": "2022-09-07T17:16:52.905Z"
   },
   {
    "duration": 16,
    "start_time": "2022-09-07T17:16:52.957Z"
   },
   {
    "duration": 4,
    "start_time": "2022-09-07T17:16:52.974Z"
   },
   {
    "duration": 15,
    "start_time": "2022-09-07T17:16:52.981Z"
   },
   {
    "duration": 56,
    "start_time": "2022-09-07T17:16:52.997Z"
   },
   {
    "duration": 15,
    "start_time": "2022-09-07T17:16:53.054Z"
   },
   {
    "duration": 39,
    "start_time": "2022-09-07T17:16:53.070Z"
   },
   {
    "duration": 54,
    "start_time": "2022-09-07T17:16:53.111Z"
   },
   {
    "duration": 23,
    "start_time": "2022-09-07T17:16:53.167Z"
   },
   {
    "duration": 9,
    "start_time": "2022-09-07T17:16:53.193Z"
   },
   {
    "duration": 47,
    "start_time": "2022-09-07T17:16:53.204Z"
   },
   {
    "duration": 7,
    "start_time": "2022-09-07T17:16:53.252Z"
   },
   {
    "duration": 7,
    "start_time": "2022-09-07T17:16:53.261Z"
   },
   {
    "duration": 6,
    "start_time": "2022-09-07T17:16:53.269Z"
   },
   {
    "duration": 7,
    "start_time": "2022-09-07T17:16:53.276Z"
   },
   {
    "duration": 5,
    "start_time": "2022-09-07T17:16:53.284Z"
   },
   {
    "duration": 68,
    "start_time": "2022-09-07T17:16:53.290Z"
   },
   {
    "duration": 3,
    "start_time": "2022-09-07T17:16:53.360Z"
   },
   {
    "duration": 28,
    "start_time": "2022-09-07T17:16:53.364Z"
   },
   {
    "duration": 3,
    "start_time": "2022-09-07T17:16:53.394Z"
   },
   {
    "duration": 64,
    "start_time": "2022-09-07T17:16:53.399Z"
   },
   {
    "duration": 4,
    "start_time": "2022-09-07T17:16:53.465Z"
   },
   {
    "duration": 6,
    "start_time": "2022-09-07T17:16:53.471Z"
   },
   {
    "duration": 5,
    "start_time": "2022-09-07T17:16:53.479Z"
   },
   {
    "duration": 4,
    "start_time": "2022-09-07T17:16:53.486Z"
   },
   {
    "duration": 68,
    "start_time": "2022-09-07T17:16:53.492Z"
   },
   {
    "duration": 3,
    "start_time": "2022-09-07T17:16:53.562Z"
   },
   {
    "duration": 23,
    "start_time": "2022-09-07T17:16:53.569Z"
   },
   {
    "duration": 3,
    "start_time": "2022-09-07T17:16:53.593Z"
   },
   {
    "duration": 54,
    "start_time": "2022-09-07T17:16:53.598Z"
   },
   {
    "duration": 4,
    "start_time": "2022-09-07T17:16:53.654Z"
   },
   {
    "duration": 43,
    "start_time": "2022-09-07T17:16:53.660Z"
   },
   {
    "duration": 5,
    "start_time": "2022-09-07T17:16:53.705Z"
   },
   {
    "duration": 39,
    "start_time": "2022-09-07T17:16:53.712Z"
   },
   {
    "duration": 29,
    "start_time": "2022-09-07T17:16:53.753Z"
   },
   {
    "duration": 16,
    "start_time": "2022-09-07T17:16:53.783Z"
   },
   {
    "duration": 32,
    "start_time": "2022-09-07T17:16:53.801Z"
   },
   {
    "duration": 35,
    "start_time": "2022-09-07T17:16:53.834Z"
   },
   {
    "duration": 214,
    "start_time": "2022-09-07T17:16:53.870Z"
   },
   {
    "duration": 301,
    "start_time": "2022-09-07T17:16:54.086Z"
   },
   {
    "duration": 210,
    "start_time": "2022-09-07T17:16:54.390Z"
   },
   {
    "duration": 228,
    "start_time": "2022-09-07T17:16:54.601Z"
   },
   {
    "duration": 201,
    "start_time": "2022-09-07T17:16:54.831Z"
   },
   {
    "duration": 231,
    "start_time": "2022-09-07T17:16:55.034Z"
   },
   {
    "duration": 13,
    "start_time": "2022-09-07T17:16:55.267Z"
   },
   {
    "duration": 65,
    "start_time": "2022-09-07T17:16:55.283Z"
   },
   {
    "duration": 15,
    "start_time": "2022-09-07T17:16:55.350Z"
   },
   {
    "duration": 6,
    "start_time": "2022-09-07T17:16:55.366Z"
   },
   {
    "duration": 10,
    "start_time": "2022-09-07T17:16:55.374Z"
   },
   {
    "duration": 11,
    "start_time": "2022-09-07T17:16:55.385Z"
   },
   {
    "duration": 11,
    "start_time": "2022-09-07T17:29:22.869Z"
   },
   {
    "duration": 65,
    "start_time": "2022-09-07T17:30:22.957Z"
   },
   {
    "duration": 63,
    "start_time": "2022-09-07T17:30:56.909Z"
   },
   {
    "duration": 17,
    "start_time": "2022-09-07T17:31:46.345Z"
   },
   {
    "duration": 4,
    "start_time": "2022-09-07T17:32:00.343Z"
   },
   {
    "duration": 339,
    "start_time": "2022-09-07T17:32:00.349Z"
   },
   {
    "duration": 18,
    "start_time": "2022-09-07T17:32:00.690Z"
   },
   {
    "duration": 16,
    "start_time": "2022-09-07T17:32:00.709Z"
   },
   {
    "duration": 18,
    "start_time": "2022-09-07T17:32:00.727Z"
   },
   {
    "duration": 30,
    "start_time": "2022-09-07T17:32:00.746Z"
   },
   {
    "duration": 20,
    "start_time": "2022-09-07T17:32:00.778Z"
   },
   {
    "duration": 11,
    "start_time": "2022-09-07T17:32:00.800Z"
   },
   {
    "duration": 36,
    "start_time": "2022-09-07T17:32:00.812Z"
   },
   {
    "duration": 17,
    "start_time": "2022-09-07T17:32:00.850Z"
   },
   {
    "duration": 23,
    "start_time": "2022-09-07T17:32:00.870Z"
   },
   {
    "duration": 11,
    "start_time": "2022-09-07T17:32:00.894Z"
   },
   {
    "duration": 45,
    "start_time": "2022-09-07T17:32:00.907Z"
   },
   {
    "duration": 26,
    "start_time": "2022-09-07T17:32:00.954Z"
   },
   {
    "duration": 35,
    "start_time": "2022-09-07T17:32:00.982Z"
   },
   {
    "duration": 54,
    "start_time": "2022-09-07T17:32:01.018Z"
   },
   {
    "duration": 23,
    "start_time": "2022-09-07T17:32:01.073Z"
   },
   {
    "duration": 70,
    "start_time": "2022-09-07T17:32:01.098Z"
   },
   {
    "duration": 10,
    "start_time": "2022-09-07T17:32:01.170Z"
   },
   {
    "duration": 14,
    "start_time": "2022-09-07T17:32:01.181Z"
   },
   {
    "duration": 18,
    "start_time": "2022-09-07T17:32:01.197Z"
   },
   {
    "duration": 31,
    "start_time": "2022-09-07T17:32:01.217Z"
   },
   {
    "duration": 934,
    "start_time": "2022-09-10T19:25:27.562Z"
   },
   {
    "duration": 1600,
    "start_time": "2022-09-10T19:25:28.499Z"
   },
   {
    "duration": 30,
    "start_time": "2022-09-10T19:25:30.101Z"
   },
   {
    "duration": 45,
    "start_time": "2022-09-10T19:25:30.147Z"
   },
   {
    "duration": 22,
    "start_time": "2022-09-10T19:25:30.194Z"
   },
   {
    "duration": 47,
    "start_time": "2022-09-10T19:25:30.218Z"
   },
   {
    "duration": 30,
    "start_time": "2022-09-10T19:25:30.267Z"
   },
   {
    "duration": 34,
    "start_time": "2022-09-10T19:25:30.299Z"
   },
   {
    "duration": 49,
    "start_time": "2022-09-10T19:25:30.343Z"
   },
   {
    "duration": 19,
    "start_time": "2022-09-10T19:25:30.396Z"
   },
   {
    "duration": 61,
    "start_time": "2022-09-10T19:25:30.417Z"
   },
   {
    "duration": 5,
    "start_time": "2022-09-10T19:25:30.480Z"
   },
   {
    "duration": 19,
    "start_time": "2022-09-10T19:25:30.487Z"
   },
   {
    "duration": 44,
    "start_time": "2022-09-10T19:25:30.508Z"
   },
   {
    "duration": 18,
    "start_time": "2022-09-10T19:25:30.558Z"
   },
   {
    "duration": 55,
    "start_time": "2022-09-10T19:25:30.578Z"
   },
   {
    "duration": 29,
    "start_time": "2022-09-10T19:25:30.647Z"
   },
   {
    "duration": 24,
    "start_time": "2022-09-10T19:25:30.677Z"
   },
   {
    "duration": 21,
    "start_time": "2022-09-10T19:25:30.702Z"
   },
   {
    "duration": 10,
    "start_time": "2022-09-10T19:25:30.726Z"
   },
   {
    "duration": 33,
    "start_time": "2022-09-10T19:25:30.739Z"
   },
   {
    "duration": 10,
    "start_time": "2022-09-10T19:25:30.775Z"
   },
   {
    "duration": 15,
    "start_time": "2022-09-10T19:25:30.787Z"
   },
   {
    "duration": 10,
    "start_time": "2022-09-10T19:25:30.805Z"
   },
   {
    "duration": 160,
    "start_time": "2022-09-10T19:25:30.818Z"
   },
   {
    "duration": 0,
    "start_time": "2022-09-10T19:25:30.981Z"
   },
   {
    "duration": 0,
    "start_time": "2022-09-10T19:25:30.982Z"
   },
   {
    "duration": 0,
    "start_time": "2022-09-10T19:25:30.984Z"
   },
   {
    "duration": 0,
    "start_time": "2022-09-10T19:25:30.985Z"
   },
   {
    "duration": 0,
    "start_time": "2022-09-10T19:25:30.986Z"
   },
   {
    "duration": 0,
    "start_time": "2022-09-10T19:25:30.988Z"
   },
   {
    "duration": 0,
    "start_time": "2022-09-10T19:25:30.989Z"
   },
   {
    "duration": 0,
    "start_time": "2022-09-10T19:25:30.990Z"
   },
   {
    "duration": 0,
    "start_time": "2022-09-10T19:25:30.991Z"
   },
   {
    "duration": 0,
    "start_time": "2022-09-10T19:25:30.992Z"
   },
   {
    "duration": 0,
    "start_time": "2022-09-10T19:25:30.993Z"
   },
   {
    "duration": 0,
    "start_time": "2022-09-10T19:25:30.999Z"
   },
   {
    "duration": 0,
    "start_time": "2022-09-10T19:25:31.001Z"
   },
   {
    "duration": 0,
    "start_time": "2022-09-10T19:25:31.023Z"
   },
   {
    "duration": 0,
    "start_time": "2022-09-10T19:25:31.025Z"
   },
   {
    "duration": 0,
    "start_time": "2022-09-10T19:25:31.026Z"
   },
   {
    "duration": 0,
    "start_time": "2022-09-10T19:25:31.027Z"
   },
   {
    "duration": 0,
    "start_time": "2022-09-10T19:25:31.031Z"
   },
   {
    "duration": 0,
    "start_time": "2022-09-10T19:25:31.033Z"
   },
   {
    "duration": 0,
    "start_time": "2022-09-10T19:25:31.035Z"
   },
   {
    "duration": 0,
    "start_time": "2022-09-10T19:25:31.036Z"
   },
   {
    "duration": 0,
    "start_time": "2022-09-10T19:25:31.038Z"
   },
   {
    "duration": 0,
    "start_time": "2022-09-10T19:25:31.040Z"
   },
   {
    "duration": 0,
    "start_time": "2022-09-10T19:25:31.042Z"
   },
   {
    "duration": 0,
    "start_time": "2022-09-10T19:25:31.043Z"
   },
   {
    "duration": 0,
    "start_time": "2022-09-10T19:25:31.044Z"
   },
   {
    "duration": 0,
    "start_time": "2022-09-10T19:25:31.046Z"
   },
   {
    "duration": 0,
    "start_time": "2022-09-10T19:25:31.048Z"
   },
   {
    "duration": 0,
    "start_time": "2022-09-10T19:25:31.049Z"
   },
   {
    "duration": 0,
    "start_time": "2022-09-10T19:25:31.051Z"
   },
   {
    "duration": 0,
    "start_time": "2022-09-10T19:25:31.053Z"
   },
   {
    "duration": 0,
    "start_time": "2022-09-10T19:25:31.054Z"
   },
   {
    "duration": 0,
    "start_time": "2022-09-10T19:25:31.056Z"
   },
   {
    "duration": 0,
    "start_time": "2022-09-10T19:25:31.058Z"
   },
   {
    "duration": 0,
    "start_time": "2022-09-10T19:25:31.059Z"
   },
   {
    "duration": 10,
    "start_time": "2022-09-10T19:26:15.875Z"
   },
   {
    "duration": 12,
    "start_time": "2022-09-10T19:26:23.874Z"
   },
   {
    "duration": 8,
    "start_time": "2022-09-10T19:26:32.952Z"
   },
   {
    "duration": 14,
    "start_time": "2022-09-10T19:26:41.861Z"
   },
   {
    "duration": 13,
    "start_time": "2022-09-10T19:26:48.898Z"
   },
   {
    "duration": 13,
    "start_time": "2022-09-10T20:48:03.283Z"
   },
   {
    "duration": 15,
    "start_time": "2022-09-10T21:14:47.091Z"
   },
   {
    "duration": 16,
    "start_time": "2022-09-10T21:18:45.257Z"
   },
   {
    "duration": 17,
    "start_time": "2022-09-10T21:19:43.609Z"
   },
   {
    "duration": 22,
    "start_time": "2022-09-10T21:19:43.782Z"
   },
   {
    "duration": 14,
    "start_time": "2022-09-10T21:19:43.942Z"
   },
   {
    "duration": 24,
    "start_time": "2022-09-10T21:33:34.508Z"
   },
   {
    "duration": 899,
    "start_time": "2022-09-10T21:36:45.046Z"
   },
   {
    "duration": 21,
    "start_time": "2022-09-10T21:37:18.872Z"
   },
   {
    "duration": 25,
    "start_time": "2022-09-10T21:37:23.984Z"
   },
   {
    "duration": 737,
    "start_time": "2022-09-10T21:37:37.287Z"
   },
   {
    "duration": 24,
    "start_time": "2022-09-10T21:37:53.645Z"
   },
   {
    "duration": 22,
    "start_time": "2022-09-10T21:38:05.706Z"
   },
   {
    "duration": 44,
    "start_time": "2022-09-12T00:28:46.077Z"
   },
   {
    "duration": 6,
    "start_time": "2022-09-12T00:28:59.908Z"
   },
   {
    "duration": 813,
    "start_time": "2022-09-12T00:29:26.454Z"
   },
   {
    "duration": 869,
    "start_time": "2022-09-12T00:29:27.269Z"
   },
   {
    "duration": 21,
    "start_time": "2022-09-12T00:29:28.140Z"
   },
   {
    "duration": 14,
    "start_time": "2022-09-12T00:29:28.163Z"
   },
   {
    "duration": 18,
    "start_time": "2022-09-12T00:29:28.179Z"
   },
   {
    "duration": 8,
    "start_time": "2022-09-12T00:29:28.199Z"
   },
   {
    "duration": 17,
    "start_time": "2022-09-12T00:29:28.221Z"
   },
   {
    "duration": 9,
    "start_time": "2022-09-12T00:29:28.240Z"
   },
   {
    "duration": 12,
    "start_time": "2022-09-12T00:29:28.251Z"
   },
   {
    "duration": 13,
    "start_time": "2022-09-12T00:29:28.264Z"
   },
   {
    "duration": 10,
    "start_time": "2022-09-12T00:29:28.279Z"
   },
   {
    "duration": 39,
    "start_time": "2022-09-12T00:29:28.290Z"
   },
   {
    "duration": 6,
    "start_time": "2022-09-12T00:29:28.331Z"
   },
   {
    "duration": 33,
    "start_time": "2022-09-12T00:29:28.340Z"
   },
   {
    "duration": 22,
    "start_time": "2022-09-12T00:29:28.375Z"
   },
   {
    "duration": 17,
    "start_time": "2022-09-12T00:29:28.398Z"
   },
   {
    "duration": 3,
    "start_time": "2022-09-12T00:29:28.423Z"
   },
   {
    "duration": 28,
    "start_time": "2022-09-12T00:29:28.428Z"
   },
   {
    "duration": 27,
    "start_time": "2022-09-12T00:29:28.458Z"
   },
   {
    "duration": 11,
    "start_time": "2022-09-12T00:29:28.487Z"
   },
   {
    "duration": 9,
    "start_time": "2022-09-12T00:29:28.500Z"
   },
   {
    "duration": 21,
    "start_time": "2022-09-12T00:29:28.510Z"
   },
   {
    "duration": 24,
    "start_time": "2022-09-12T00:29:28.533Z"
   },
   {
    "duration": 12,
    "start_time": "2022-09-12T00:29:28.559Z"
   },
   {
    "duration": 50,
    "start_time": "2022-09-12T00:29:28.573Z"
   },
   {
    "duration": 28,
    "start_time": "2022-09-12T00:29:28.625Z"
   },
   {
    "duration": 22,
    "start_time": "2022-09-12T00:29:28.655Z"
   },
   {
    "duration": 103,
    "start_time": "2022-09-12T00:29:31.150Z"
   },
   {
    "duration": 12,
    "start_time": "2022-09-12T00:30:22.516Z"
   },
   {
    "duration": 11,
    "start_time": "2022-09-12T00:30:49.636Z"
   },
   {
    "duration": 875,
    "start_time": "2022-09-12T00:31:38.075Z"
   },
   {
    "duration": 4,
    "start_time": "2022-09-12T00:31:48.765Z"
   },
   {
    "duration": 20,
    "start_time": "2022-09-12T00:31:53.047Z"
   },
   {
    "duration": 14,
    "start_time": "2022-09-12T00:32:01.961Z"
   },
   {
    "duration": 9,
    "start_time": "2022-09-12T00:32:52.112Z"
   },
   {
    "duration": 8,
    "start_time": "2022-09-12T00:32:56.400Z"
   },
   {
    "duration": 12,
    "start_time": "2022-09-12T00:33:09.080Z"
   },
   {
    "duration": 10,
    "start_time": "2022-09-12T00:33:18.377Z"
   },
   {
    "duration": 10,
    "start_time": "2022-09-12T00:33:23.122Z"
   },
   {
    "duration": 11,
    "start_time": "2022-09-12T00:33:34.865Z"
   },
   {
    "duration": 16,
    "start_time": "2022-09-12T00:33:45.801Z"
   },
   {
    "duration": 12,
    "start_time": "2022-09-12T00:33:56.457Z"
   },
   {
    "duration": 10,
    "start_time": "2022-09-12T00:36:11.777Z"
   },
   {
    "duration": 833,
    "start_time": "2022-09-12T00:36:48.862Z"
   },
   {
    "duration": 298,
    "start_time": "2022-09-12T00:36:49.696Z"
   },
   {
    "duration": 21,
    "start_time": "2022-09-12T00:36:49.996Z"
   },
   {
    "duration": 22,
    "start_time": "2022-09-12T00:36:50.019Z"
   },
   {
    "duration": 22,
    "start_time": "2022-09-12T00:36:50.043Z"
   },
   {
    "duration": 10,
    "start_time": "2022-09-12T00:36:50.067Z"
   },
   {
    "duration": 17,
    "start_time": "2022-09-12T00:36:50.078Z"
   },
   {
    "duration": 27,
    "start_time": "2022-09-12T00:36:50.098Z"
   },
   {
    "duration": 13,
    "start_time": "2022-09-12T00:36:50.127Z"
   },
   {
    "duration": 10,
    "start_time": "2022-09-12T00:36:50.143Z"
   },
   {
    "duration": 11,
    "start_time": "2022-09-12T00:36:50.155Z"
   },
   {
    "duration": 12,
    "start_time": "2022-09-12T00:36:50.167Z"
   },
   {
    "duration": 7,
    "start_time": "2022-09-12T00:36:50.180Z"
   },
   {
    "duration": 47,
    "start_time": "2022-09-12T00:36:50.188Z"
   },
   {
    "duration": 18,
    "start_time": "2022-09-12T00:36:50.237Z"
   },
   {
    "duration": 13,
    "start_time": "2022-09-12T00:36:50.257Z"
   },
   {
    "duration": 3,
    "start_time": "2022-09-12T00:36:50.272Z"
   },
   {
    "duration": 22,
    "start_time": "2022-09-12T00:36:50.277Z"
   },
   {
    "duration": 34,
    "start_time": "2022-09-12T00:36:50.301Z"
   },
   {
    "duration": 13,
    "start_time": "2022-09-12T00:36:50.336Z"
   },
   {
    "duration": 10,
    "start_time": "2022-09-12T00:36:50.350Z"
   },
   {
    "duration": 12,
    "start_time": "2022-09-12T00:36:50.361Z"
   },
   {
    "duration": 18,
    "start_time": "2022-09-12T00:36:50.374Z"
   },
   {
    "duration": 14,
    "start_time": "2022-09-12T00:36:50.421Z"
   },
   {
    "duration": 4,
    "start_time": "2022-09-12T00:36:50.437Z"
   },
   {
    "duration": 42,
    "start_time": "2022-09-12T00:36:50.442Z"
   },
   {
    "duration": 53,
    "start_time": "2022-09-12T00:36:50.485Z"
   },
   {
    "duration": 32,
    "start_time": "2022-09-12T00:36:50.542Z"
   },
   {
    "duration": 7,
    "start_time": "2022-09-12T00:36:54.931Z"
   },
   {
    "duration": 9,
    "start_time": "2022-09-12T00:36:56.094Z"
   },
   {
    "duration": 10,
    "start_time": "2022-09-12T00:36:56.820Z"
   },
   {
    "duration": 11,
    "start_time": "2022-09-12T00:36:57.620Z"
   },
   {
    "duration": 25,
    "start_time": "2022-09-12T00:37:09.130Z"
   },
   {
    "duration": 15,
    "start_time": "2022-09-12T00:37:15.064Z"
   },
   {
    "duration": 4,
    "start_time": "2022-09-12T03:12:15.769Z"
   },
   {
    "duration": 81,
    "start_time": "2022-09-12T03:12:15.979Z"
   },
   {
    "duration": 4,
    "start_time": "2022-09-12T03:12:16.343Z"
   },
   {
    "duration": 8,
    "start_time": "2022-09-12T03:12:16.505Z"
   },
   {
    "duration": 4,
    "start_time": "2022-09-12T03:12:16.833Z"
   },
   {
    "duration": 8,
    "start_time": "2022-09-12T03:12:16.981Z"
   },
   {
    "duration": 27,
    "start_time": "2022-09-12T03:13:11.587Z"
   },
   {
    "duration": 4,
    "start_time": "2022-09-12T03:13:48.477Z"
   },
   {
    "duration": 33,
    "start_time": "2022-09-12T03:13:48.918Z"
   },
   {
    "duration": 3,
    "start_time": "2022-09-12T03:13:49.963Z"
   },
   {
    "duration": 25,
    "start_time": "2022-09-12T03:13:50.566Z"
   },
   {
    "duration": 3,
    "start_time": "2022-09-12T03:13:52.025Z"
   },
   {
    "duration": 723,
    "start_time": "2022-09-12T03:13:53.903Z"
   },
   {
    "duration": 4,
    "start_time": "2022-09-12T03:14:18.083Z"
   },
   {
    "duration": 825,
    "start_time": "2022-09-12T03:14:18.604Z"
   },
   {
    "duration": 4,
    "start_time": "2022-09-12T03:17:26.692Z"
   },
   {
    "duration": 29,
    "start_time": "2022-09-12T03:17:27.278Z"
   },
   {
    "duration": 8,
    "start_time": "2022-09-12T03:18:07.782Z"
   },
   {
    "duration": 19,
    "start_time": "2022-09-12T03:18:59.500Z"
   },
   {
    "duration": 13,
    "start_time": "2022-09-12T03:19:17.626Z"
   },
   {
    "duration": 5,
    "start_time": "2022-09-12T03:30:38.957Z"
   },
   {
    "duration": 26,
    "start_time": "2022-09-12T03:30:39.915Z"
   },
   {
    "duration": 3,
    "start_time": "2022-09-12T03:30:41.250Z"
   },
   {
    "duration": 26,
    "start_time": "2022-09-12T03:30:41.948Z"
   },
   {
    "duration": 3,
    "start_time": "2022-09-12T03:30:42.648Z"
   },
   {
    "duration": 28,
    "start_time": "2022-09-12T03:31:02.609Z"
   },
   {
    "duration": 3,
    "start_time": "2022-09-12T03:31:12.901Z"
   },
   {
    "duration": 36,
    "start_time": "2022-09-12T03:31:13.894Z"
   },
   {
    "duration": 19,
    "start_time": "2022-09-12T03:31:14.770Z"
   },
   {
    "duration": 844,
    "start_time": "2022-09-12T15:07:27.785Z"
   },
   {
    "duration": 1236,
    "start_time": "2022-09-12T15:07:29.019Z"
   },
   {
    "duration": 20,
    "start_time": "2022-09-12T15:07:30.257Z"
   },
   {
    "duration": 16,
    "start_time": "2022-09-12T15:07:30.279Z"
   },
   {
    "duration": 15,
    "start_time": "2022-09-12T15:07:30.407Z"
   },
   {
    "duration": 8,
    "start_time": "2022-09-12T15:07:30.597Z"
   },
   {
    "duration": 14,
    "start_time": "2022-09-12T15:07:30.971Z"
   },
   {
    "duration": 7,
    "start_time": "2022-09-12T15:07:31.149Z"
   },
   {
    "duration": 13,
    "start_time": "2022-09-12T15:07:31.566Z"
   },
   {
    "duration": 11,
    "start_time": "2022-09-12T15:07:31.884Z"
   },
   {
    "duration": 12,
    "start_time": "2022-09-12T15:07:32.225Z"
   },
   {
    "duration": 13,
    "start_time": "2022-09-12T15:07:32.384Z"
   },
   {
    "duration": 6,
    "start_time": "2022-09-12T15:07:33.277Z"
   },
   {
    "duration": 28,
    "start_time": "2022-09-12T15:07:34.153Z"
   },
   {
    "duration": 20,
    "start_time": "2022-09-12T15:07:34.361Z"
   },
   {
    "duration": 12,
    "start_time": "2022-09-12T15:07:34.759Z"
   },
   {
    "duration": 4,
    "start_time": "2022-09-12T15:07:34.904Z"
   },
   {
    "duration": 15,
    "start_time": "2022-09-12T15:07:35.245Z"
   },
   {
    "duration": 14,
    "start_time": "2022-09-12T15:07:35.410Z"
   },
   {
    "duration": 12,
    "start_time": "2022-09-12T15:07:35.585Z"
   },
   {
    "duration": 11,
    "start_time": "2022-09-12T15:07:35.746Z"
   },
   {
    "duration": 10,
    "start_time": "2022-09-12T15:07:36.385Z"
   },
   {
    "duration": 12,
    "start_time": "2022-09-12T15:07:36.526Z"
   },
   {
    "duration": 9,
    "start_time": "2022-09-12T15:07:36.706Z"
   },
   {
    "duration": 4,
    "start_time": "2022-09-12T15:07:36.863Z"
   },
   {
    "duration": 36,
    "start_time": "2022-09-12T15:07:37.399Z"
   },
   {
    "duration": 24,
    "start_time": "2022-09-12T15:07:37.943Z"
   },
   {
    "duration": 24,
    "start_time": "2022-09-12T15:07:38.694Z"
   },
   {
    "duration": 7,
    "start_time": "2022-09-12T15:07:40.272Z"
   },
   {
    "duration": 8,
    "start_time": "2022-09-12T15:07:40.450Z"
   },
   {
    "duration": 9,
    "start_time": "2022-09-12T15:07:40.612Z"
   },
   {
    "duration": 11,
    "start_time": "2022-09-12T15:07:40.800Z"
   },
   {
    "duration": 3,
    "start_time": "2022-09-12T15:07:43.123Z"
   },
   {
    "duration": 28,
    "start_time": "2022-09-12T15:07:43.507Z"
   },
   {
    "duration": 3,
    "start_time": "2022-09-12T15:07:43.817Z"
   },
   {
    "duration": 26,
    "start_time": "2022-09-12T15:07:43.971Z"
   },
   {
    "duration": 3,
    "start_time": "2022-09-12T15:07:44.268Z"
   },
   {
    "duration": 28,
    "start_time": "2022-09-12T15:07:44.405Z"
   },
   {
    "duration": 13,
    "start_time": "2022-09-12T15:07:44.803Z"
   },
   {
    "duration": 3,
    "start_time": "2022-09-12T15:07:45.687Z"
   },
   {
    "duration": 26,
    "start_time": "2022-09-12T15:07:45.827Z"
   },
   {
    "duration": 3,
    "start_time": "2022-09-12T15:07:45.971Z"
   },
   {
    "duration": 27,
    "start_time": "2022-09-12T15:07:46.356Z"
   },
   {
    "duration": 5,
    "start_time": "2022-09-12T15:07:46.518Z"
   },
   {
    "duration": 41,
    "start_time": "2022-09-12T15:07:46.668Z"
   },
   {
    "duration": 5,
    "start_time": "2022-09-12T15:07:47.347Z"
   },
   {
    "duration": 50,
    "start_time": "2022-09-12T15:07:47.485Z"
   },
   {
    "duration": 14,
    "start_time": "2022-09-12T15:07:47.966Z"
   },
   {
    "duration": 3,
    "start_time": "2022-09-12T15:08:07.970Z"
   },
   {
    "duration": 4,
    "start_time": "2022-09-12T15:08:09.052Z"
   },
   {
    "duration": 11,
    "start_time": "2022-09-12T15:08:16.909Z"
   },
   {
    "duration": 5,
    "start_time": "2022-09-12T15:08:37.038Z"
   },
   {
    "duration": 92,
    "start_time": "2022-09-12T15:09:36.098Z"
   },
   {
    "duration": 11,
    "start_time": "2022-09-12T15:09:51.471Z"
   },
   {
    "duration": 11,
    "start_time": "2022-09-12T15:10:13.304Z"
   },
   {
    "duration": 780,
    "start_time": "2022-09-12T15:13:54.451Z"
   },
   {
    "duration": 282,
    "start_time": "2022-09-12T15:13:55.233Z"
   },
   {
    "duration": 18,
    "start_time": "2022-09-12T15:13:55.516Z"
   },
   {
    "duration": 13,
    "start_time": "2022-09-12T15:13:55.536Z"
   },
   {
    "duration": 21,
    "start_time": "2022-09-12T15:13:55.551Z"
   },
   {
    "duration": 22,
    "start_time": "2022-09-12T15:13:55.573Z"
   },
   {
    "duration": 41,
    "start_time": "2022-09-12T15:13:55.596Z"
   },
   {
    "duration": 23,
    "start_time": "2022-09-12T15:13:55.638Z"
   },
   {
    "duration": 21,
    "start_time": "2022-09-12T15:13:55.663Z"
   },
   {
    "duration": 36,
    "start_time": "2022-09-12T15:13:55.686Z"
   },
   {
    "duration": 33,
    "start_time": "2022-09-12T15:13:55.724Z"
   },
   {
    "duration": 26,
    "start_time": "2022-09-12T15:13:55.759Z"
   },
   {
    "duration": 34,
    "start_time": "2022-09-12T15:13:55.786Z"
   },
   {
    "duration": 51,
    "start_time": "2022-09-12T15:13:55.821Z"
   },
   {
    "duration": 16,
    "start_time": "2022-09-12T15:13:55.874Z"
   },
   {
    "duration": 27,
    "start_time": "2022-09-12T15:13:55.891Z"
   },
   {
    "duration": 13,
    "start_time": "2022-09-12T15:13:55.920Z"
   },
   {
    "duration": 21,
    "start_time": "2022-09-12T15:13:55.934Z"
   },
   {
    "duration": 22,
    "start_time": "2022-09-12T15:13:55.957Z"
   },
   {
    "duration": 21,
    "start_time": "2022-09-12T15:13:55.980Z"
   },
   {
    "duration": 22,
    "start_time": "2022-09-12T15:13:56.002Z"
   },
   {
    "duration": 22,
    "start_time": "2022-09-12T15:13:56.025Z"
   },
   {
    "duration": 38,
    "start_time": "2022-09-12T15:13:56.048Z"
   },
   {
    "duration": 19,
    "start_time": "2022-09-12T15:13:56.087Z"
   },
   {
    "duration": 4,
    "start_time": "2022-09-12T15:13:56.107Z"
   },
   {
    "duration": 59,
    "start_time": "2022-09-12T15:13:56.113Z"
   },
   {
    "duration": 23,
    "start_time": "2022-09-12T15:13:56.173Z"
   },
   {
    "duration": 27,
    "start_time": "2022-09-12T15:13:56.199Z"
   },
   {
    "duration": 6,
    "start_time": "2022-09-12T15:13:56.228Z"
   },
   {
    "duration": 29,
    "start_time": "2022-09-12T15:13:56.236Z"
   },
   {
    "duration": 35,
    "start_time": "2022-09-12T15:13:56.266Z"
   },
   {
    "duration": 28,
    "start_time": "2022-09-12T15:13:56.303Z"
   },
   {
    "duration": 30,
    "start_time": "2022-09-12T15:13:56.333Z"
   },
   {
    "duration": 66,
    "start_time": "2022-09-12T15:13:56.365Z"
   },
   {
    "duration": 4,
    "start_time": "2022-09-12T15:13:56.432Z"
   },
   {
    "duration": 52,
    "start_time": "2022-09-12T15:13:56.437Z"
   },
   {
    "duration": 5,
    "start_time": "2022-09-12T15:13:56.491Z"
   },
   {
    "duration": 35,
    "start_time": "2022-09-12T15:13:56.497Z"
   },
   {
    "duration": 31,
    "start_time": "2022-09-12T15:13:58.507Z"
   },
   {
    "duration": 11,
    "start_time": "2022-09-12T15:13:59.286Z"
   },
   {
    "duration": 3,
    "start_time": "2022-09-12T15:14:02.011Z"
   },
   {
    "duration": 32,
    "start_time": "2022-09-12T15:14:02.694Z"
   },
   {
    "duration": 4,
    "start_time": "2022-09-12T15:14:03.486Z"
   },
   {
    "duration": 35,
    "start_time": "2022-09-12T15:14:04.139Z"
   },
   {
    "duration": 4,
    "start_time": "2022-09-12T15:14:04.716Z"
   },
   {
    "duration": 29,
    "start_time": "2022-09-12T15:14:05.292Z"
   },
   {
    "duration": 4,
    "start_time": "2022-09-12T15:14:09.071Z"
   },
   {
    "duration": 38,
    "start_time": "2022-09-12T15:14:10.183Z"
   },
   {
    "duration": 15,
    "start_time": "2022-09-12T15:14:11.486Z"
   },
   {
    "duration": 2,
    "start_time": "2022-09-12T15:14:16.032Z"
   },
   {
    "duration": 4,
    "start_time": "2022-09-12T15:14:17.032Z"
   },
   {
    "duration": 11,
    "start_time": "2022-09-12T15:14:17.922Z"
   },
   {
    "duration": 10,
    "start_time": "2022-09-12T15:14:23.928Z"
   },
   {
    "duration": 10,
    "start_time": "2022-09-12T15:14:26.260Z"
   },
   {
    "duration": 11,
    "start_time": "2022-09-12T15:14:26.737Z"
   },
   {
    "duration": 90,
    "start_time": "2022-09-12T15:31:17.445Z"
   },
   {
    "duration": 540,
    "start_time": "2022-09-12T15:31:20.587Z"
   },
   {
    "duration": 214,
    "start_time": "2022-09-12T15:31:23.301Z"
   },
   {
    "duration": 3,
    "start_time": "2022-09-12T15:36:03.219Z"
   },
   {
    "duration": 5,
    "start_time": "2022-09-12T15:57:32.387Z"
   },
   {
    "duration": 5,
    "start_time": "2022-09-12T15:57:39.909Z"
   },
   {
    "duration": 124,
    "start_time": "2022-09-12T16:00:10.798Z"
   },
   {
    "duration": 121,
    "start_time": "2022-09-12T16:02:00.797Z"
   },
   {
    "duration": 128,
    "start_time": "2022-09-12T16:02:07.556Z"
   },
   {
    "duration": 344,
    "start_time": "2022-09-12T16:02:34.189Z"
   },
   {
    "duration": 205,
    "start_time": "2022-09-12T17:10:20.753Z"
   },
   {
    "duration": 209,
    "start_time": "2022-09-12T17:18:58.242Z"
   },
   {
    "duration": 287,
    "start_time": "2022-09-12T17:23:19.562Z"
   },
   {
    "duration": 2298,
    "start_time": "2022-09-12T17:23:32.493Z"
   },
   {
    "duration": 449,
    "start_time": "2022-09-12T17:23:46.014Z"
   },
   {
    "duration": 285,
    "start_time": "2022-09-12T17:24:19.516Z"
   },
   {
    "duration": 315,
    "start_time": "2022-09-12T17:24:33.657Z"
   },
   {
    "duration": 200,
    "start_time": "2022-09-12T17:24:38.201Z"
   },
   {
    "duration": 9,
    "start_time": "2022-09-12T17:25:04.413Z"
   },
   {
    "duration": 389,
    "start_time": "2022-09-12T17:25:07.954Z"
   },
   {
    "duration": 436,
    "start_time": "2022-09-12T17:25:22.564Z"
   },
   {
    "duration": 295,
    "start_time": "2022-09-12T17:53:51.351Z"
   },
   {
    "duration": 299,
    "start_time": "2022-09-12T17:56:17.979Z"
   },
   {
    "duration": 384,
    "start_time": "2022-09-12T17:56:31.153Z"
   },
   {
    "duration": 294,
    "start_time": "2022-09-12T17:57:49.495Z"
   },
   {
    "duration": 201,
    "start_time": "2022-09-12T17:58:10.183Z"
   },
   {
    "duration": 202,
    "start_time": "2022-09-12T18:04:30.259Z"
   },
   {
    "duration": 12,
    "start_time": "2022-09-12T20:58:02.916Z"
   },
   {
    "duration": 5,
    "start_time": "2022-09-12T20:58:04.062Z"
   },
   {
    "duration": 11,
    "start_time": "2022-09-12T20:58:04.984Z"
   },
   {
    "duration": 6,
    "start_time": "2022-09-12T20:58:29.724Z"
   },
   {
    "duration": 7,
    "start_time": "2022-09-12T20:58:30.399Z"
   },
   {
    "duration": 59,
    "start_time": "2022-09-12T20:58:46.071Z"
   },
   {
    "duration": 8,
    "start_time": "2022-09-12T20:58:50.577Z"
   },
   {
    "duration": 8,
    "start_time": "2022-09-12T20:58:55.697Z"
   },
   {
    "duration": 8,
    "start_time": "2022-09-12T21:08:09.804Z"
   },
   {
    "duration": 8,
    "start_time": "2022-09-12T21:08:12.751Z"
   },
   {
    "duration": 915,
    "start_time": "2022-09-12T21:08:13.178Z"
   },
   {
    "duration": 0,
    "start_time": "2022-09-12T21:08:14.095Z"
   },
   {
    "duration": 17,
    "start_time": "2022-09-12T21:09:33.528Z"
   },
   {
    "duration": 4,
    "start_time": "2022-09-12T21:10:16.877Z"
   },
   {
    "duration": 3,
    "start_time": "2022-09-12T21:10:17.801Z"
   },
   {
    "duration": 752,
    "start_time": "2022-09-12T21:10:18.802Z"
   },
   {
    "duration": 6,
    "start_time": "2022-09-12T21:10:41.397Z"
   },
   {
    "duration": 7,
    "start_time": "2022-09-12T21:10:42.221Z"
   }
  ],
  "kernelspec": {
   "display_name": "Python 3 (ipykernel)",
   "language": "python",
   "name": "python3"
  },
  "language_info": {
   "codemirror_mode": {
    "name": "ipython",
    "version": 3
   },
   "file_extension": ".py",
   "mimetype": "text/x-python",
   "name": "python",
   "nbconvert_exporter": "python",
   "pygments_lexer": "ipython3",
   "version": "3.9.5"
  },
  "toc": {
   "base_numbering": 1,
   "nav_menu": {},
   "number_sections": true,
   "sideBar": true,
   "skip_h1_title": true,
   "title_cell": "Table of Contents",
   "title_sidebar": "Contents",
   "toc_cell": false,
   "toc_position": {},
   "toc_section_display": true,
   "toc_window_display": false
  }
 },
 "nbformat": 4,
 "nbformat_minor": 2
}
